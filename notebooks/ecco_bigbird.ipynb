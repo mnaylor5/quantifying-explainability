{
  "nbformat": 4,
  "nbformat_minor": 0,
  "metadata": {
    "colab": {
      "name": "ecco-bigbird.ipynb",
      "provenance": [],
      "collapsed_sections": [],
      "authorship_tag": "ABX9TyNrZnqFw9ulnNAshfRaHyoY",
      "include_colab_link": true
    },
    "kernelspec": {
      "name": "python3",
      "display_name": "Python 3"
    },
    "language_info": {
      "name": "python"
    },
    "widgets": {
      "application/vnd.jupyter.widget-state+json": {
        "94b6630e058b458cb7398be9942d5b00": {
          "model_module": "@jupyter-widgets/controls",
          "model_name": "HBoxModel",
          "state": {
            "_view_name": "HBoxView",
            "_dom_classes": [],
            "_model_name": "HBoxModel",
            "_view_module": "@jupyter-widgets/controls",
            "_model_module_version": "1.5.0",
            "_view_count": null,
            "_view_module_version": "1.5.0",
            "box_style": "",
            "layout": "IPY_MODEL_82c426e66f7f48698da2b579df1414e1",
            "_model_module": "@jupyter-widgets/controls",
            "children": [
              "IPY_MODEL_afa68f52ba514289be99c2a139a27bc0",
              "IPY_MODEL_12a34874ade64aa5854f9b7ce309ace2"
            ]
          }
        },
        "82c426e66f7f48698da2b579df1414e1": {
          "model_module": "@jupyter-widgets/base",
          "model_name": "LayoutModel",
          "state": {
            "_view_name": "LayoutView",
            "grid_template_rows": null,
            "right": null,
            "justify_content": null,
            "_view_module": "@jupyter-widgets/base",
            "overflow": null,
            "_model_module_version": "1.2.0",
            "_view_count": null,
            "flex_flow": null,
            "width": null,
            "min_width": null,
            "border": null,
            "align_items": null,
            "bottom": null,
            "_model_module": "@jupyter-widgets/base",
            "top": null,
            "grid_column": null,
            "overflow_y": null,
            "overflow_x": null,
            "grid_auto_flow": null,
            "grid_area": null,
            "grid_template_columns": null,
            "flex": null,
            "_model_name": "LayoutModel",
            "justify_items": null,
            "grid_row": null,
            "max_height": null,
            "align_content": null,
            "visibility": null,
            "align_self": null,
            "height": null,
            "min_height": null,
            "padding": null,
            "grid_auto_rows": null,
            "grid_gap": null,
            "max_width": null,
            "order": null,
            "_view_module_version": "1.2.0",
            "grid_template_areas": null,
            "object_position": null,
            "object_fit": null,
            "grid_auto_columns": null,
            "margin": null,
            "display": null,
            "left": null
          }
        },
        "afa68f52ba514289be99c2a139a27bc0": {
          "model_module": "@jupyter-widgets/controls",
          "model_name": "FloatProgressModel",
          "state": {
            "_view_name": "ProgressView",
            "style": "IPY_MODEL_b2af1b67cc7f44728806cd429013547d",
            "_dom_classes": [],
            "description": "Downloading: 100%",
            "_model_name": "FloatProgressModel",
            "bar_style": "success",
            "max": 839,
            "_view_module": "@jupyter-widgets/controls",
            "_model_module_version": "1.5.0",
            "value": 839,
            "_view_count": null,
            "_view_module_version": "1.5.0",
            "orientation": "horizontal",
            "min": 0,
            "description_tooltip": null,
            "_model_module": "@jupyter-widgets/controls",
            "layout": "IPY_MODEL_fe56c1728efd4515bb4826c3cd34bdfb"
          }
        },
        "12a34874ade64aa5854f9b7ce309ace2": {
          "model_module": "@jupyter-widgets/controls",
          "model_name": "HTMLModel",
          "state": {
            "_view_name": "HTMLView",
            "style": "IPY_MODEL_d131eaafcfea4cb1bb39bd6d973deafe",
            "_dom_classes": [],
            "description": "",
            "_model_name": "HTMLModel",
            "placeholder": "​",
            "_view_module": "@jupyter-widgets/controls",
            "_model_module_version": "1.5.0",
            "value": " 839/839 [00:02&lt;00:00, 296B/s]",
            "_view_count": null,
            "_view_module_version": "1.5.0",
            "description_tooltip": null,
            "_model_module": "@jupyter-widgets/controls",
            "layout": "IPY_MODEL_d9b4f4e2ed714d61a978117eeea74c0b"
          }
        },
        "b2af1b67cc7f44728806cd429013547d": {
          "model_module": "@jupyter-widgets/controls",
          "model_name": "ProgressStyleModel",
          "state": {
            "_view_name": "StyleView",
            "_model_name": "ProgressStyleModel",
            "description_width": "initial",
            "_view_module": "@jupyter-widgets/base",
            "_model_module_version": "1.5.0",
            "_view_count": null,
            "_view_module_version": "1.2.0",
            "bar_color": null,
            "_model_module": "@jupyter-widgets/controls"
          }
        },
        "fe56c1728efd4515bb4826c3cd34bdfb": {
          "model_module": "@jupyter-widgets/base",
          "model_name": "LayoutModel",
          "state": {
            "_view_name": "LayoutView",
            "grid_template_rows": null,
            "right": null,
            "justify_content": null,
            "_view_module": "@jupyter-widgets/base",
            "overflow": null,
            "_model_module_version": "1.2.0",
            "_view_count": null,
            "flex_flow": null,
            "width": null,
            "min_width": null,
            "border": null,
            "align_items": null,
            "bottom": null,
            "_model_module": "@jupyter-widgets/base",
            "top": null,
            "grid_column": null,
            "overflow_y": null,
            "overflow_x": null,
            "grid_auto_flow": null,
            "grid_area": null,
            "grid_template_columns": null,
            "flex": null,
            "_model_name": "LayoutModel",
            "justify_items": null,
            "grid_row": null,
            "max_height": null,
            "align_content": null,
            "visibility": null,
            "align_self": null,
            "height": null,
            "min_height": null,
            "padding": null,
            "grid_auto_rows": null,
            "grid_gap": null,
            "max_width": null,
            "order": null,
            "_view_module_version": "1.2.0",
            "grid_template_areas": null,
            "object_position": null,
            "object_fit": null,
            "grid_auto_columns": null,
            "margin": null,
            "display": null,
            "left": null
          }
        },
        "d131eaafcfea4cb1bb39bd6d973deafe": {
          "model_module": "@jupyter-widgets/controls",
          "model_name": "DescriptionStyleModel",
          "state": {
            "_view_name": "StyleView",
            "_model_name": "DescriptionStyleModel",
            "description_width": "",
            "_view_module": "@jupyter-widgets/base",
            "_model_module_version": "1.5.0",
            "_view_count": null,
            "_view_module_version": "1.2.0",
            "_model_module": "@jupyter-widgets/controls"
          }
        },
        "d9b4f4e2ed714d61a978117eeea74c0b": {
          "model_module": "@jupyter-widgets/base",
          "model_name": "LayoutModel",
          "state": {
            "_view_name": "LayoutView",
            "grid_template_rows": null,
            "right": null,
            "justify_content": null,
            "_view_module": "@jupyter-widgets/base",
            "overflow": null,
            "_model_module_version": "1.2.0",
            "_view_count": null,
            "flex_flow": null,
            "width": null,
            "min_width": null,
            "border": null,
            "align_items": null,
            "bottom": null,
            "_model_module": "@jupyter-widgets/base",
            "top": null,
            "grid_column": null,
            "overflow_y": null,
            "overflow_x": null,
            "grid_auto_flow": null,
            "grid_area": null,
            "grid_template_columns": null,
            "flex": null,
            "_model_name": "LayoutModel",
            "justify_items": null,
            "grid_row": null,
            "max_height": null,
            "align_content": null,
            "visibility": null,
            "align_self": null,
            "height": null,
            "min_height": null,
            "padding": null,
            "grid_auto_rows": null,
            "grid_gap": null,
            "max_width": null,
            "order": null,
            "_view_module_version": "1.2.0",
            "grid_template_areas": null,
            "object_position": null,
            "object_fit": null,
            "grid_auto_columns": null,
            "margin": null,
            "display": null,
            "left": null
          }
        },
        "8e5d2823a031415f97f2579f756e8a94": {
          "model_module": "@jupyter-widgets/controls",
          "model_name": "HBoxModel",
          "state": {
            "_view_name": "HBoxView",
            "_dom_classes": [],
            "_model_name": "HBoxModel",
            "_view_module": "@jupyter-widgets/controls",
            "_model_module_version": "1.5.0",
            "_view_count": null,
            "_view_module_version": "1.5.0",
            "box_style": "",
            "layout": "IPY_MODEL_29a396a5a8954a1f923f6b9f34688c40",
            "_model_module": "@jupyter-widgets/controls",
            "children": [
              "IPY_MODEL_733de975f37a4e88ada53d2168cc46d6",
              "IPY_MODEL_f917cf79ad074c9aa05df4b062a3513a"
            ]
          }
        },
        "29a396a5a8954a1f923f6b9f34688c40": {
          "model_module": "@jupyter-widgets/base",
          "model_name": "LayoutModel",
          "state": {
            "_view_name": "LayoutView",
            "grid_template_rows": null,
            "right": null,
            "justify_content": null,
            "_view_module": "@jupyter-widgets/base",
            "overflow": null,
            "_model_module_version": "1.2.0",
            "_view_count": null,
            "flex_flow": null,
            "width": null,
            "min_width": null,
            "border": null,
            "align_items": null,
            "bottom": null,
            "_model_module": "@jupyter-widgets/base",
            "top": null,
            "grid_column": null,
            "overflow_y": null,
            "overflow_x": null,
            "grid_auto_flow": null,
            "grid_area": null,
            "grid_template_columns": null,
            "flex": null,
            "_model_name": "LayoutModel",
            "justify_items": null,
            "grid_row": null,
            "max_height": null,
            "align_content": null,
            "visibility": null,
            "align_self": null,
            "height": null,
            "min_height": null,
            "padding": null,
            "grid_auto_rows": null,
            "grid_gap": null,
            "max_width": null,
            "order": null,
            "_view_module_version": "1.2.0",
            "grid_template_areas": null,
            "object_position": null,
            "object_fit": null,
            "grid_auto_columns": null,
            "margin": null,
            "display": null,
            "left": null
          }
        },
        "733de975f37a4e88ada53d2168cc46d6": {
          "model_module": "@jupyter-widgets/controls",
          "model_name": "FloatProgressModel",
          "state": {
            "_view_name": "ProgressView",
            "style": "IPY_MODEL_b5cd5a0b09db4b0d8e73dfb8bd72a4e0",
            "_dom_classes": [],
            "description": "Downloading: 100%",
            "_model_name": "FloatProgressModel",
            "bar_style": "success",
            "max": 845731,
            "_view_module": "@jupyter-widgets/controls",
            "_model_module_version": "1.5.0",
            "value": 845731,
            "_view_count": null,
            "_view_module_version": "1.5.0",
            "orientation": "horizontal",
            "min": 0,
            "description_tooltip": null,
            "_model_module": "@jupyter-widgets/controls",
            "layout": "IPY_MODEL_d65ae1d356bb4d1ca087b1881973d449"
          }
        },
        "f917cf79ad074c9aa05df4b062a3513a": {
          "model_module": "@jupyter-widgets/controls",
          "model_name": "HTMLModel",
          "state": {
            "_view_name": "HTMLView",
            "style": "IPY_MODEL_5545847e31a1433ba1af0e7b9d027ed6",
            "_dom_classes": [],
            "description": "",
            "_model_name": "HTMLModel",
            "placeholder": "​",
            "_view_module": "@jupyter-widgets/controls",
            "_model_module_version": "1.5.0",
            "value": " 846k/846k [00:01&lt;00:00, 530kB/s]",
            "_view_count": null,
            "_view_module_version": "1.5.0",
            "description_tooltip": null,
            "_model_module": "@jupyter-widgets/controls",
            "layout": "IPY_MODEL_9fcf1dce597f47b7aeef9191b6309fef"
          }
        },
        "b5cd5a0b09db4b0d8e73dfb8bd72a4e0": {
          "model_module": "@jupyter-widgets/controls",
          "model_name": "ProgressStyleModel",
          "state": {
            "_view_name": "StyleView",
            "_model_name": "ProgressStyleModel",
            "description_width": "initial",
            "_view_module": "@jupyter-widgets/base",
            "_model_module_version": "1.5.0",
            "_view_count": null,
            "_view_module_version": "1.2.0",
            "bar_color": null,
            "_model_module": "@jupyter-widgets/controls"
          }
        },
        "d65ae1d356bb4d1ca087b1881973d449": {
          "model_module": "@jupyter-widgets/base",
          "model_name": "LayoutModel",
          "state": {
            "_view_name": "LayoutView",
            "grid_template_rows": null,
            "right": null,
            "justify_content": null,
            "_view_module": "@jupyter-widgets/base",
            "overflow": null,
            "_model_module_version": "1.2.0",
            "_view_count": null,
            "flex_flow": null,
            "width": null,
            "min_width": null,
            "border": null,
            "align_items": null,
            "bottom": null,
            "_model_module": "@jupyter-widgets/base",
            "top": null,
            "grid_column": null,
            "overflow_y": null,
            "overflow_x": null,
            "grid_auto_flow": null,
            "grid_area": null,
            "grid_template_columns": null,
            "flex": null,
            "_model_name": "LayoutModel",
            "justify_items": null,
            "grid_row": null,
            "max_height": null,
            "align_content": null,
            "visibility": null,
            "align_self": null,
            "height": null,
            "min_height": null,
            "padding": null,
            "grid_auto_rows": null,
            "grid_gap": null,
            "max_width": null,
            "order": null,
            "_view_module_version": "1.2.0",
            "grid_template_areas": null,
            "object_position": null,
            "object_fit": null,
            "grid_auto_columns": null,
            "margin": null,
            "display": null,
            "left": null
          }
        },
        "5545847e31a1433ba1af0e7b9d027ed6": {
          "model_module": "@jupyter-widgets/controls",
          "model_name": "DescriptionStyleModel",
          "state": {
            "_view_name": "StyleView",
            "_model_name": "DescriptionStyleModel",
            "description_width": "",
            "_view_module": "@jupyter-widgets/base",
            "_model_module_version": "1.5.0",
            "_view_count": null,
            "_view_module_version": "1.2.0",
            "_model_module": "@jupyter-widgets/controls"
          }
        },
        "9fcf1dce597f47b7aeef9191b6309fef": {
          "model_module": "@jupyter-widgets/base",
          "model_name": "LayoutModel",
          "state": {
            "_view_name": "LayoutView",
            "grid_template_rows": null,
            "right": null,
            "justify_content": null,
            "_view_module": "@jupyter-widgets/base",
            "overflow": null,
            "_model_module_version": "1.2.0",
            "_view_count": null,
            "flex_flow": null,
            "width": null,
            "min_width": null,
            "border": null,
            "align_items": null,
            "bottom": null,
            "_model_module": "@jupyter-widgets/base",
            "top": null,
            "grid_column": null,
            "overflow_y": null,
            "overflow_x": null,
            "grid_auto_flow": null,
            "grid_area": null,
            "grid_template_columns": null,
            "flex": null,
            "_model_name": "LayoutModel",
            "justify_items": null,
            "grid_row": null,
            "max_height": null,
            "align_content": null,
            "visibility": null,
            "align_self": null,
            "height": null,
            "min_height": null,
            "padding": null,
            "grid_auto_rows": null,
            "grid_gap": null,
            "max_width": null,
            "order": null,
            "_view_module_version": "1.2.0",
            "grid_template_areas": null,
            "object_position": null,
            "object_fit": null,
            "grid_auto_columns": null,
            "margin": null,
            "display": null,
            "left": null
          }
        },
        "0a0d7c2c094d4cecaec817dffd5ccae6": {
          "model_module": "@jupyter-widgets/controls",
          "model_name": "HBoxModel",
          "state": {
            "_view_name": "HBoxView",
            "_dom_classes": [],
            "_model_name": "HBoxModel",
            "_view_module": "@jupyter-widgets/controls",
            "_model_module_version": "1.5.0",
            "_view_count": null,
            "_view_module_version": "1.5.0",
            "box_style": "",
            "layout": "IPY_MODEL_f888fc105cd04afd91b57b22ce2fb947",
            "_model_module": "@jupyter-widgets/controls",
            "children": [
              "IPY_MODEL_1fa57bc1ae02482e90fb7debd19544ed",
              "IPY_MODEL_25d5ced2a63645a1a8d4a7317f2275ff"
            ]
          }
        },
        "f888fc105cd04afd91b57b22ce2fb947": {
          "model_module": "@jupyter-widgets/base",
          "model_name": "LayoutModel",
          "state": {
            "_view_name": "LayoutView",
            "grid_template_rows": null,
            "right": null,
            "justify_content": null,
            "_view_module": "@jupyter-widgets/base",
            "overflow": null,
            "_model_module_version": "1.2.0",
            "_view_count": null,
            "flex_flow": null,
            "width": null,
            "min_width": null,
            "border": null,
            "align_items": null,
            "bottom": null,
            "_model_module": "@jupyter-widgets/base",
            "top": null,
            "grid_column": null,
            "overflow_y": null,
            "overflow_x": null,
            "grid_auto_flow": null,
            "grid_area": null,
            "grid_template_columns": null,
            "flex": null,
            "_model_name": "LayoutModel",
            "justify_items": null,
            "grid_row": null,
            "max_height": null,
            "align_content": null,
            "visibility": null,
            "align_self": null,
            "height": null,
            "min_height": null,
            "padding": null,
            "grid_auto_rows": null,
            "grid_gap": null,
            "max_width": null,
            "order": null,
            "_view_module_version": "1.2.0",
            "grid_template_areas": null,
            "object_position": null,
            "object_fit": null,
            "grid_auto_columns": null,
            "margin": null,
            "display": null,
            "left": null
          }
        },
        "1fa57bc1ae02482e90fb7debd19544ed": {
          "model_module": "@jupyter-widgets/controls",
          "model_name": "FloatProgressModel",
          "state": {
            "_view_name": "ProgressView",
            "style": "IPY_MODEL_86c759f0e47e40d88cc84e34157d7ee6",
            "_dom_classes": [],
            "description": "Downloading: 100%",
            "_model_name": "FloatProgressModel",
            "bar_style": "success",
            "max": 775,
            "_view_module": "@jupyter-widgets/controls",
            "_model_module_version": "1.5.0",
            "value": 775,
            "_view_count": null,
            "_view_module_version": "1.5.0",
            "orientation": "horizontal",
            "min": 0,
            "description_tooltip": null,
            "_model_module": "@jupyter-widgets/controls",
            "layout": "IPY_MODEL_e770cb99ffe446219838c3de6398f9b6"
          }
        },
        "25d5ced2a63645a1a8d4a7317f2275ff": {
          "model_module": "@jupyter-widgets/controls",
          "model_name": "HTMLModel",
          "state": {
            "_view_name": "HTMLView",
            "style": "IPY_MODEL_378c163378f74f538a57b257c9597bf3",
            "_dom_classes": [],
            "description": "",
            "_model_name": "HTMLModel",
            "placeholder": "​",
            "_view_module": "@jupyter-widgets/controls",
            "_model_module_version": "1.5.0",
            "value": " 775/775 [00:00&lt;00:00, 1.67kB/s]",
            "_view_count": null,
            "_view_module_version": "1.5.0",
            "description_tooltip": null,
            "_model_module": "@jupyter-widgets/controls",
            "layout": "IPY_MODEL_67b93ee674b44c619fb1cb1089f95e54"
          }
        },
        "86c759f0e47e40d88cc84e34157d7ee6": {
          "model_module": "@jupyter-widgets/controls",
          "model_name": "ProgressStyleModel",
          "state": {
            "_view_name": "StyleView",
            "_model_name": "ProgressStyleModel",
            "description_width": "initial",
            "_view_module": "@jupyter-widgets/base",
            "_model_module_version": "1.5.0",
            "_view_count": null,
            "_view_module_version": "1.2.0",
            "bar_color": null,
            "_model_module": "@jupyter-widgets/controls"
          }
        },
        "e770cb99ffe446219838c3de6398f9b6": {
          "model_module": "@jupyter-widgets/base",
          "model_name": "LayoutModel",
          "state": {
            "_view_name": "LayoutView",
            "grid_template_rows": null,
            "right": null,
            "justify_content": null,
            "_view_module": "@jupyter-widgets/base",
            "overflow": null,
            "_model_module_version": "1.2.0",
            "_view_count": null,
            "flex_flow": null,
            "width": null,
            "min_width": null,
            "border": null,
            "align_items": null,
            "bottom": null,
            "_model_module": "@jupyter-widgets/base",
            "top": null,
            "grid_column": null,
            "overflow_y": null,
            "overflow_x": null,
            "grid_auto_flow": null,
            "grid_area": null,
            "grid_template_columns": null,
            "flex": null,
            "_model_name": "LayoutModel",
            "justify_items": null,
            "grid_row": null,
            "max_height": null,
            "align_content": null,
            "visibility": null,
            "align_self": null,
            "height": null,
            "min_height": null,
            "padding": null,
            "grid_auto_rows": null,
            "grid_gap": null,
            "max_width": null,
            "order": null,
            "_view_module_version": "1.2.0",
            "grid_template_areas": null,
            "object_position": null,
            "object_fit": null,
            "grid_auto_columns": null,
            "margin": null,
            "display": null,
            "left": null
          }
        },
        "378c163378f74f538a57b257c9597bf3": {
          "model_module": "@jupyter-widgets/controls",
          "model_name": "DescriptionStyleModel",
          "state": {
            "_view_name": "StyleView",
            "_model_name": "DescriptionStyleModel",
            "description_width": "",
            "_view_module": "@jupyter-widgets/base",
            "_model_module_version": "1.5.0",
            "_view_count": null,
            "_view_module_version": "1.2.0",
            "_model_module": "@jupyter-widgets/controls"
          }
        },
        "67b93ee674b44c619fb1cb1089f95e54": {
          "model_module": "@jupyter-widgets/base",
          "model_name": "LayoutModel",
          "state": {
            "_view_name": "LayoutView",
            "grid_template_rows": null,
            "right": null,
            "justify_content": null,
            "_view_module": "@jupyter-widgets/base",
            "overflow": null,
            "_model_module_version": "1.2.0",
            "_view_count": null,
            "flex_flow": null,
            "width": null,
            "min_width": null,
            "border": null,
            "align_items": null,
            "bottom": null,
            "_model_module": "@jupyter-widgets/base",
            "top": null,
            "grid_column": null,
            "overflow_y": null,
            "overflow_x": null,
            "grid_auto_flow": null,
            "grid_area": null,
            "grid_template_columns": null,
            "flex": null,
            "_model_name": "LayoutModel",
            "justify_items": null,
            "grid_row": null,
            "max_height": null,
            "align_content": null,
            "visibility": null,
            "align_self": null,
            "height": null,
            "min_height": null,
            "padding": null,
            "grid_auto_rows": null,
            "grid_gap": null,
            "max_width": null,
            "order": null,
            "_view_module_version": "1.2.0",
            "grid_template_areas": null,
            "object_position": null,
            "object_fit": null,
            "grid_auto_columns": null,
            "margin": null,
            "display": null,
            "left": null
          }
        },
        "bd683042d68b4558a75780eee856241c": {
          "model_module": "@jupyter-widgets/controls",
          "model_name": "HBoxModel",
          "state": {
            "_view_name": "HBoxView",
            "_dom_classes": [],
            "_model_name": "HBoxModel",
            "_view_module": "@jupyter-widgets/controls",
            "_model_module_version": "1.5.0",
            "_view_count": null,
            "_view_module_version": "1.5.0",
            "box_style": "",
            "layout": "IPY_MODEL_2d336b1845524d468a1fec96ae4b3a9a",
            "_model_module": "@jupyter-widgets/controls",
            "children": [
              "IPY_MODEL_c57d757709174a908f40ea1a1b2ecc7b",
              "IPY_MODEL_d467b92302be48e1826ee04ae0e1acfa"
            ]
          }
        },
        "2d336b1845524d468a1fec96ae4b3a9a": {
          "model_module": "@jupyter-widgets/base",
          "model_name": "LayoutModel",
          "state": {
            "_view_name": "LayoutView",
            "grid_template_rows": null,
            "right": null,
            "justify_content": null,
            "_view_module": "@jupyter-widgets/base",
            "overflow": null,
            "_model_module_version": "1.2.0",
            "_view_count": null,
            "flex_flow": null,
            "width": null,
            "min_width": null,
            "border": null,
            "align_items": null,
            "bottom": null,
            "_model_module": "@jupyter-widgets/base",
            "top": null,
            "grid_column": null,
            "overflow_y": null,
            "overflow_x": null,
            "grid_auto_flow": null,
            "grid_area": null,
            "grid_template_columns": null,
            "flex": null,
            "_model_name": "LayoutModel",
            "justify_items": null,
            "grid_row": null,
            "max_height": null,
            "align_content": null,
            "visibility": null,
            "align_self": null,
            "height": null,
            "min_height": null,
            "padding": null,
            "grid_auto_rows": null,
            "grid_gap": null,
            "max_width": null,
            "order": null,
            "_view_module_version": "1.2.0",
            "grid_template_areas": null,
            "object_position": null,
            "object_fit": null,
            "grid_auto_columns": null,
            "margin": null,
            "display": null,
            "left": null
          }
        },
        "c57d757709174a908f40ea1a1b2ecc7b": {
          "model_module": "@jupyter-widgets/controls",
          "model_name": "FloatProgressModel",
          "state": {
            "_view_name": "ProgressView",
            "style": "IPY_MODEL_106d4700165a4fbc9b1786a0fba7599e",
            "_dom_classes": [],
            "description": "Downloading: 100%",
            "_model_name": "FloatProgressModel",
            "bar_style": "success",
            "max": 1246,
            "_view_module": "@jupyter-widgets/controls",
            "_model_module_version": "1.5.0",
            "value": 1246,
            "_view_count": null,
            "_view_module_version": "1.5.0",
            "orientation": "horizontal",
            "min": 0,
            "description_tooltip": null,
            "_model_module": "@jupyter-widgets/controls",
            "layout": "IPY_MODEL_a769bdc94ce64489b3ae3663dda3e9c7"
          }
        },
        "d467b92302be48e1826ee04ae0e1acfa": {
          "model_module": "@jupyter-widgets/controls",
          "model_name": "HTMLModel",
          "state": {
            "_view_name": "HTMLView",
            "style": "IPY_MODEL_1d8d719648244029b7e7df1e9032d299",
            "_dom_classes": [],
            "description": "",
            "_model_name": "HTMLModel",
            "placeholder": "​",
            "_view_module": "@jupyter-widgets/controls",
            "_model_module_version": "1.5.0",
            "value": " 1.25k/1.25k [00:00&lt;00:00, 5.59kB/s]",
            "_view_count": null,
            "_view_module_version": "1.5.0",
            "description_tooltip": null,
            "_model_module": "@jupyter-widgets/controls",
            "layout": "IPY_MODEL_65b53ebec1824d2eb328ebae30c659fc"
          }
        },
        "106d4700165a4fbc9b1786a0fba7599e": {
          "model_module": "@jupyter-widgets/controls",
          "model_name": "ProgressStyleModel",
          "state": {
            "_view_name": "StyleView",
            "_model_name": "ProgressStyleModel",
            "description_width": "initial",
            "_view_module": "@jupyter-widgets/base",
            "_model_module_version": "1.5.0",
            "_view_count": null,
            "_view_module_version": "1.2.0",
            "bar_color": null,
            "_model_module": "@jupyter-widgets/controls"
          }
        },
        "a769bdc94ce64489b3ae3663dda3e9c7": {
          "model_module": "@jupyter-widgets/base",
          "model_name": "LayoutModel",
          "state": {
            "_view_name": "LayoutView",
            "grid_template_rows": null,
            "right": null,
            "justify_content": null,
            "_view_module": "@jupyter-widgets/base",
            "overflow": null,
            "_model_module_version": "1.2.0",
            "_view_count": null,
            "flex_flow": null,
            "width": null,
            "min_width": null,
            "border": null,
            "align_items": null,
            "bottom": null,
            "_model_module": "@jupyter-widgets/base",
            "top": null,
            "grid_column": null,
            "overflow_y": null,
            "overflow_x": null,
            "grid_auto_flow": null,
            "grid_area": null,
            "grid_template_columns": null,
            "flex": null,
            "_model_name": "LayoutModel",
            "justify_items": null,
            "grid_row": null,
            "max_height": null,
            "align_content": null,
            "visibility": null,
            "align_self": null,
            "height": null,
            "min_height": null,
            "padding": null,
            "grid_auto_rows": null,
            "grid_gap": null,
            "max_width": null,
            "order": null,
            "_view_module_version": "1.2.0",
            "grid_template_areas": null,
            "object_position": null,
            "object_fit": null,
            "grid_auto_columns": null,
            "margin": null,
            "display": null,
            "left": null
          }
        },
        "1d8d719648244029b7e7df1e9032d299": {
          "model_module": "@jupyter-widgets/controls",
          "model_name": "DescriptionStyleModel",
          "state": {
            "_view_name": "StyleView",
            "_model_name": "DescriptionStyleModel",
            "description_width": "",
            "_view_module": "@jupyter-widgets/base",
            "_model_module_version": "1.5.0",
            "_view_count": null,
            "_view_module_version": "1.2.0",
            "_model_module": "@jupyter-widgets/controls"
          }
        },
        "65b53ebec1824d2eb328ebae30c659fc": {
          "model_module": "@jupyter-widgets/base",
          "model_name": "LayoutModel",
          "state": {
            "_view_name": "LayoutView",
            "grid_template_rows": null,
            "right": null,
            "justify_content": null,
            "_view_module": "@jupyter-widgets/base",
            "overflow": null,
            "_model_module_version": "1.2.0",
            "_view_count": null,
            "flex_flow": null,
            "width": null,
            "min_width": null,
            "border": null,
            "align_items": null,
            "bottom": null,
            "_model_module": "@jupyter-widgets/base",
            "top": null,
            "grid_column": null,
            "overflow_y": null,
            "overflow_x": null,
            "grid_auto_flow": null,
            "grid_area": null,
            "grid_template_columns": null,
            "flex": null,
            "_model_name": "LayoutModel",
            "justify_items": null,
            "grid_row": null,
            "max_height": null,
            "align_content": null,
            "visibility": null,
            "align_self": null,
            "height": null,
            "min_height": null,
            "padding": null,
            "grid_auto_rows": null,
            "grid_gap": null,
            "max_width": null,
            "order": null,
            "_view_module_version": "1.2.0",
            "grid_template_areas": null,
            "object_position": null,
            "object_fit": null,
            "grid_auto_columns": null,
            "margin": null,
            "display": null,
            "left": null
          }
        },
        "80787d6ec8fb4a25a48c2805d4c2fea8": {
          "model_module": "@jupyter-widgets/controls",
          "model_name": "HBoxModel",
          "state": {
            "_view_name": "HBoxView",
            "_dom_classes": [],
            "_model_name": "HBoxModel",
            "_view_module": "@jupyter-widgets/controls",
            "_model_module_version": "1.5.0",
            "_view_count": null,
            "_view_module_version": "1.5.0",
            "box_style": "",
            "layout": "IPY_MODEL_f53d0cae05cd41c79f9a7b3013dabbd5",
            "_model_module": "@jupyter-widgets/controls",
            "children": [
              "IPY_MODEL_1a2dca8aa4c440cd9109494fa035e56c",
              "IPY_MODEL_bd71346ead0c47568a5121f649211caa"
            ]
          }
        },
        "f53d0cae05cd41c79f9a7b3013dabbd5": {
          "model_module": "@jupyter-widgets/base",
          "model_name": "LayoutModel",
          "state": {
            "_view_name": "LayoutView",
            "grid_template_rows": null,
            "right": null,
            "justify_content": null,
            "_view_module": "@jupyter-widgets/base",
            "overflow": null,
            "_model_module_version": "1.2.0",
            "_view_count": null,
            "flex_flow": null,
            "width": null,
            "min_width": null,
            "border": null,
            "align_items": null,
            "bottom": null,
            "_model_module": "@jupyter-widgets/base",
            "top": null,
            "grid_column": null,
            "overflow_y": null,
            "overflow_x": null,
            "grid_auto_flow": null,
            "grid_area": null,
            "grid_template_columns": null,
            "flex": null,
            "_model_name": "LayoutModel",
            "justify_items": null,
            "grid_row": null,
            "max_height": null,
            "align_content": null,
            "visibility": null,
            "align_self": null,
            "height": null,
            "min_height": null,
            "padding": null,
            "grid_auto_rows": null,
            "grid_gap": null,
            "max_width": null,
            "order": null,
            "_view_module_version": "1.2.0",
            "grid_template_areas": null,
            "object_position": null,
            "object_fit": null,
            "grid_auto_columns": null,
            "margin": null,
            "display": null,
            "left": null
          }
        },
        "1a2dca8aa4c440cd9109494fa035e56c": {
          "model_module": "@jupyter-widgets/controls",
          "model_name": "FloatProgressModel",
          "state": {
            "_view_name": "ProgressView",
            "style": "IPY_MODEL_f281444dfba848c6b664989214128b56",
            "_dom_classes": [],
            "description": "Downloading: 100%",
            "_model_name": "FloatProgressModel",
            "bar_style": "success",
            "max": 512362459,
            "_view_module": "@jupyter-widgets/controls",
            "_model_module_version": "1.5.0",
            "value": 512362459,
            "_view_count": null,
            "_view_module_version": "1.5.0",
            "orientation": "horizontal",
            "min": 0,
            "description_tooltip": null,
            "_model_module": "@jupyter-widgets/controls",
            "layout": "IPY_MODEL_dd9bd822537643aeb7507aa993ec5758"
          }
        },
        "bd71346ead0c47568a5121f649211caa": {
          "model_module": "@jupyter-widgets/controls",
          "model_name": "HTMLModel",
          "state": {
            "_view_name": "HTMLView",
            "style": "IPY_MODEL_de63b1200ace4c259416aa304071faa5",
            "_dom_classes": [],
            "description": "",
            "_model_name": "HTMLModel",
            "placeholder": "​",
            "_view_module": "@jupyter-widgets/controls",
            "_model_module_version": "1.5.0",
            "value": " 512M/512M [00:14&lt;00:00, 36.0MB/s]",
            "_view_count": null,
            "_view_module_version": "1.5.0",
            "description_tooltip": null,
            "_model_module": "@jupyter-widgets/controls",
            "layout": "IPY_MODEL_72e6e963c3d24e50a9d6746a4a29b15a"
          }
        },
        "f281444dfba848c6b664989214128b56": {
          "model_module": "@jupyter-widgets/controls",
          "model_name": "ProgressStyleModel",
          "state": {
            "_view_name": "StyleView",
            "_model_name": "ProgressStyleModel",
            "description_width": "initial",
            "_view_module": "@jupyter-widgets/base",
            "_model_module_version": "1.5.0",
            "_view_count": null,
            "_view_module_version": "1.2.0",
            "bar_color": null,
            "_model_module": "@jupyter-widgets/controls"
          }
        },
        "dd9bd822537643aeb7507aa993ec5758": {
          "model_module": "@jupyter-widgets/base",
          "model_name": "LayoutModel",
          "state": {
            "_view_name": "LayoutView",
            "grid_template_rows": null,
            "right": null,
            "justify_content": null,
            "_view_module": "@jupyter-widgets/base",
            "overflow": null,
            "_model_module_version": "1.2.0",
            "_view_count": null,
            "flex_flow": null,
            "width": null,
            "min_width": null,
            "border": null,
            "align_items": null,
            "bottom": null,
            "_model_module": "@jupyter-widgets/base",
            "top": null,
            "grid_column": null,
            "overflow_y": null,
            "overflow_x": null,
            "grid_auto_flow": null,
            "grid_area": null,
            "grid_template_columns": null,
            "flex": null,
            "_model_name": "LayoutModel",
            "justify_items": null,
            "grid_row": null,
            "max_height": null,
            "align_content": null,
            "visibility": null,
            "align_self": null,
            "height": null,
            "min_height": null,
            "padding": null,
            "grid_auto_rows": null,
            "grid_gap": null,
            "max_width": null,
            "order": null,
            "_view_module_version": "1.2.0",
            "grid_template_areas": null,
            "object_position": null,
            "object_fit": null,
            "grid_auto_columns": null,
            "margin": null,
            "display": null,
            "left": null
          }
        },
        "de63b1200ace4c259416aa304071faa5": {
          "model_module": "@jupyter-widgets/controls",
          "model_name": "DescriptionStyleModel",
          "state": {
            "_view_name": "StyleView",
            "_model_name": "DescriptionStyleModel",
            "description_width": "",
            "_view_module": "@jupyter-widgets/base",
            "_model_module_version": "1.5.0",
            "_view_count": null,
            "_view_module_version": "1.2.0",
            "_model_module": "@jupyter-widgets/controls"
          }
        },
        "72e6e963c3d24e50a9d6746a4a29b15a": {
          "model_module": "@jupyter-widgets/base",
          "model_name": "LayoutModel",
          "state": {
            "_view_name": "LayoutView",
            "grid_template_rows": null,
            "right": null,
            "justify_content": null,
            "_view_module": "@jupyter-widgets/base",
            "overflow": null,
            "_model_module_version": "1.2.0",
            "_view_count": null,
            "flex_flow": null,
            "width": null,
            "min_width": null,
            "border": null,
            "align_items": null,
            "bottom": null,
            "_model_module": "@jupyter-widgets/base",
            "top": null,
            "grid_column": null,
            "overflow_y": null,
            "overflow_x": null,
            "grid_auto_flow": null,
            "grid_area": null,
            "grid_template_columns": null,
            "flex": null,
            "_model_name": "LayoutModel",
            "justify_items": null,
            "grid_row": null,
            "max_height": null,
            "align_content": null,
            "visibility": null,
            "align_self": null,
            "height": null,
            "min_height": null,
            "padding": null,
            "grid_auto_rows": null,
            "grid_gap": null,
            "max_width": null,
            "order": null,
            "_view_module_version": "1.2.0",
            "grid_template_areas": null,
            "object_position": null,
            "object_fit": null,
            "grid_auto_columns": null,
            "margin": null,
            "display": null,
            "left": null
          }
        }
      }
    }
  },
  "cells": [
    {
      "cell_type": "markdown",
      "metadata": {
        "id": "view-in-github",
        "colab_type": "text"
      },
      "source": [
        "<a href=\"https://colab.research.google.com/github/mnaylor5/quantifying-explainability/blob/master/notebooks/ecco_bigbird.ipynb\" target=\"_parent\"><img src=\"https://colab.research.google.com/assets/colab-badge.svg\" alt=\"Open In Colab\"/></a>"
      ]
    },
    {
      "cell_type": "markdown",
      "metadata": {
        "id": "HK66rEvnXL_k"
      },
      "source": [
        "# Transformer Classifier Explainability with Ecco\n",
        "This notebook uses the `ecco` library to perform non-negative matrix factorization on neuron activations within a transformer model. The model we're using is a BigBird model fine-tuned on a mortality prediction task within simulated admission notes from MIMIC discharge summaries.\n",
        "\n",
        "Links:\n",
        "* [Ecco](https://github.com/jalammar/ecco) library, along with [Alammar's blog post](https://jalammar.github.io/explaining-transformers/) on this topic. Contains relevant sections on neuron activations and factor analysis\n",
        "* [Fine-tuned Big Bird](https://hf.co/mnaylor/bigbird-base-mimic-mortality) on 🤗 's model hub"
      ]
    },
    {
      "cell_type": "code",
      "metadata": {
        "id": "o0wUeNw7eDwF"
      },
      "source": [
        "%%capture\n",
        "# sentencepiece library required for bigbird tokenizer\n",
        "!pip install ecco sentencepiece"
      ],
      "execution_count": null,
      "outputs": []
    },
    {
      "cell_type": "code",
      "metadata": {
        "id": "8RPrn0uyeSXr"
      },
      "source": [
        "from transformers import AutoModelForSequenceClassification, AutoTokenizer \n",
        "import ecco \n",
        "import pandas as pd"
      ],
      "execution_count": null,
      "outputs": []
    },
    {
      "cell_type": "markdown",
      "metadata": {
        "id": "wTvwm2JrYqGz"
      },
      "source": [
        "Load the models"
      ]
    },
    {
      "cell_type": "code",
      "metadata": {
        "id": "5nrq82ls00YV"
      },
      "source": [
        "MODEL_NAME = \"mnaylor/bigbird-base-mimic-mortality\""
      ],
      "execution_count": null,
      "outputs": []
    },
    {
      "cell_type": "code",
      "metadata": {
        "colab": {
          "base_uri": "https://localhost:8080/",
          "height": 262,
          "referenced_widgets": [
            "94b6630e058b458cb7398be9942d5b00",
            "82c426e66f7f48698da2b579df1414e1",
            "afa68f52ba514289be99c2a139a27bc0",
            "12a34874ade64aa5854f9b7ce309ace2",
            "b2af1b67cc7f44728806cd429013547d",
            "fe56c1728efd4515bb4826c3cd34bdfb",
            "d131eaafcfea4cb1bb39bd6d973deafe",
            "d9b4f4e2ed714d61a978117eeea74c0b",
            "8e5d2823a031415f97f2579f756e8a94",
            "29a396a5a8954a1f923f6b9f34688c40",
            "733de975f37a4e88ada53d2168cc46d6",
            "f917cf79ad074c9aa05df4b062a3513a",
            "b5cd5a0b09db4b0d8e73dfb8bd72a4e0",
            "d65ae1d356bb4d1ca087b1881973d449",
            "5545847e31a1433ba1af0e7b9d027ed6",
            "9fcf1dce597f47b7aeef9191b6309fef",
            "0a0d7c2c094d4cecaec817dffd5ccae6",
            "f888fc105cd04afd91b57b22ce2fb947",
            "1fa57bc1ae02482e90fb7debd19544ed",
            "25d5ced2a63645a1a8d4a7317f2275ff",
            "86c759f0e47e40d88cc84e34157d7ee6",
            "e770cb99ffe446219838c3de6398f9b6",
            "378c163378f74f538a57b257c9597bf3",
            "67b93ee674b44c619fb1cb1089f95e54",
            "bd683042d68b4558a75780eee856241c",
            "2d336b1845524d468a1fec96ae4b3a9a",
            "c57d757709174a908f40ea1a1b2ecc7b",
            "d467b92302be48e1826ee04ae0e1acfa",
            "106d4700165a4fbc9b1786a0fba7599e",
            "a769bdc94ce64489b3ae3663dda3e9c7",
            "1d8d719648244029b7e7df1e9032d299",
            "65b53ebec1824d2eb328ebae30c659fc",
            "80787d6ec8fb4a25a48c2805d4c2fea8",
            "f53d0cae05cd41c79f9a7b3013dabbd5",
            "1a2dca8aa4c440cd9109494fa035e56c",
            "bd71346ead0c47568a5121f649211caa",
            "f281444dfba848c6b664989214128b56",
            "dd9bd822537643aeb7507aa993ec5758",
            "de63b1200ace4c259416aa304071faa5",
            "72e6e963c3d24e50a9d6746a4a29b15a"
          ]
        },
        "id": "gSTRZLb7jJfo",
        "outputId": "259ce8d1-dd32-47d1-f62c-eadc32f68eac"
      },
      "source": [
        "tokenizer = AutoTokenizer.from_pretrained(MODEL_NAME)\n",
        "model = AutoModelForSequenceClassification.from_pretrained(MODEL_NAME)"
      ],
      "execution_count": null,
      "outputs": [
        {
          "output_type": "display_data",
          "data": {
            "application/vnd.jupyter.widget-view+json": {
              "model_id": "94b6630e058b458cb7398be9942d5b00",
              "version_minor": 0,
              "version_major": 2
            },
            "text/plain": [
              "HBox(children=(FloatProgress(value=0.0, description='Downloading', max=839.0, style=ProgressStyle(description_…"
            ]
          },
          "metadata": {
            "tags": []
          }
        },
        {
          "output_type": "stream",
          "text": [
            "\n"
          ],
          "name": "stdout"
        },
        {
          "output_type": "display_data",
          "data": {
            "application/vnd.jupyter.widget-view+json": {
              "model_id": "8e5d2823a031415f97f2579f756e8a94",
              "version_minor": 0,
              "version_major": 2
            },
            "text/plain": [
              "HBox(children=(FloatProgress(value=0.0, description='Downloading', max=845731.0, style=ProgressStyle(descripti…"
            ]
          },
          "metadata": {
            "tags": []
          }
        },
        {
          "output_type": "stream",
          "text": [
            "\n"
          ],
          "name": "stdout"
        },
        {
          "output_type": "display_data",
          "data": {
            "application/vnd.jupyter.widget-view+json": {
              "model_id": "0a0d7c2c094d4cecaec817dffd5ccae6",
              "version_minor": 0,
              "version_major": 2
            },
            "text/plain": [
              "HBox(children=(FloatProgress(value=0.0, description='Downloading', max=775.0, style=ProgressStyle(description_…"
            ]
          },
          "metadata": {
            "tags": []
          }
        },
        {
          "output_type": "stream",
          "text": [
            "\n"
          ],
          "name": "stdout"
        },
        {
          "output_type": "display_data",
          "data": {
            "application/vnd.jupyter.widget-view+json": {
              "model_id": "bd683042d68b4558a75780eee856241c",
              "version_minor": 0,
              "version_major": 2
            },
            "text/plain": [
              "HBox(children=(FloatProgress(value=0.0, description='Downloading', max=1246.0, style=ProgressStyle(description…"
            ]
          },
          "metadata": {
            "tags": []
          }
        },
        {
          "output_type": "stream",
          "text": [
            "\n"
          ],
          "name": "stdout"
        },
        {
          "output_type": "display_data",
          "data": {
            "application/vnd.jupyter.widget-view+json": {
              "model_id": "80787d6ec8fb4a25a48c2805d4c2fea8",
              "version_minor": 0,
              "version_major": 2
            },
            "text/plain": [
              "HBox(children=(FloatProgress(value=0.0, description='Downloading', max=512362459.0, style=ProgressStyle(descri…"
            ]
          },
          "metadata": {
            "tags": []
          }
        },
        {
          "output_type": "stream",
          "text": [
            "\n"
          ],
          "name": "stdout"
        }
      ]
    },
    {
      "cell_type": "code",
      "metadata": {
        "id": "5mG5Z9xMeY0f"
      },
      "source": [
        "shorter_example = '''\n",
        "CHIEF COMPLAINT: s/p fall\n",
        "\n",
        "PRESENT ILLNESS: 77 yo male on Coumadin for DVT who fell with LOC and unresponsive. Initially appeared with GCS of 5 and intubated. Was given Vit K 10mg, hypertonic saline , Dilantin 1gm, Propofol @ 10mcg. He was transferred to ER where Neurosurgery was consulted.\n",
        "'''\n"
      ],
      "execution_count": null,
      "outputs": []
    },
    {
      "cell_type": "markdown",
      "metadata": {
        "id": "JrV8V97T1De_"
      },
      "source": [
        "Since BigBird isn't officially supported in the `ecco` library, we need to create the LM object manually. Since the overall paradigm is conceptually similar, I use `bert-base-uncased` as the model name to pass the internal check with the config file. "
      ]
    },
    {
      "cell_type": "code",
      "metadata": {
        "id": "FmWXE1WF0kvD"
      },
      "source": [
        "lm_kwargs = {\n",
        "        'model_name': 'bert-base-uncased',\n",
        "        'collect_activations_flag': True,\n",
        "        'collect_activations_layer_nums': None, # `None` returns activations for all layers\n",
        "        'verbose': False,\n",
        "        'gpu': None}"
      ],
      "execution_count": null,
      "outputs": []
    },
    {
      "cell_type": "code",
      "metadata": {
        "id": "Zcs_PDSR1Ey3"
      },
      "source": [
        "ecco_lm = ecco.LM(model.bert, tokenizer, **lm_kwargs)"
      ],
      "execution_count": null,
      "outputs": []
    },
    {
      "cell_type": "code",
      "metadata": {
        "id": "3PKD1s451Jim",
        "colab": {
          "base_uri": "https://localhost:8080/"
        },
        "outputId": "ebb0f0dc-4154-4faa-cdfc-519899a318a4"
      },
      "source": [
        "ecco_out = ecco_lm(tokenizer(shorter_example, return_tensors='pt'))"
      ],
      "execution_count": null,
      "outputs": [
        {
          "output_type": "stream",
          "text": [
            "Attention type 'block_sparse' is not possible if sequence_length: 90 <= num global tokens: 2 * config.block_size + min. num sliding tokens: 3 * config.block_size + config.num_random_blocks * config.block_size + additional buffer: config.num_random_blocks * config.block_size = 704 with config.block_size = 64, config.num_random_blocks = 3.Changing attention type to 'original_full'...\n"
          ],
          "name": "stderr"
        }
      ]
    },
    {
      "cell_type": "code",
      "metadata": {
        "id": "rHNfdMQp1L79"
      },
      "source": [
        "nmf1 = ecco_out.run_nmf(n_components=4)"
      ],
      "execution_count": null,
      "outputs": []
    },
    {
      "cell_type": "code",
      "metadata": {
        "colab": {
          "base_uri": "https://localhost:8080/",
          "height": 261
        },
        "id": "scLzRIz11N9B",
        "outputId": "2cabf4ed-8991-49e2-ca7c-a71f96b7c5c5"
      },
      "source": [
        "nmf1.explore()"
      ],
      "execution_count": null,
      "outputs": [
        {
          "output_type": "display_data",
          "data": {
            "text/html": [
              "<html lang=\"en\">\n",
              "<script src=\"https://requirejs.org/docs/release/2.3.6/minified/require.js\"></script>\n",
              "<script>\n",
              "    var ecco_url = 'https://storage.googleapis.com/ml-intro/ecco/'\n",
              "    // var ecco_url = 'http://localhost:8000/ecco/'\n",
              "\n",
              "    if (window.ecco === undefined) window.ecco = {}\n",
              "\n",
              "    requirejs.config({\n",
              "        urlArgs: \"bust=\" + (new Date()).getTime(),\n",
              "        nodeRequire: require,\n",
              "        paths: {\n",
              "            d3: \"https://d3js.org/d3.v5.min\",\n",
              "            \"d3-array\": \"https://d3js.org/d3-array.v2.min\",\n",
              "            jquery: \"https://code.jquery.com/jquery-3.5.1.min\",\n",
              "            // oldEcco: ecco_url + 'ecco',\n",
              "            ecco: ecco_url + 'js/0.0.4/ecco-bundle.min',\n",
              "            xregexp: 'https://cdnjs.cloudflare.com/ajax/libs/xregexp/3.2.0/xregexp-all.min'\n",
              "        }\n",
              "    });\n",
              "    requirejs(['d3'],\n",
              "        function (d3) {\n",
              "            d3.select('#css').attr('href', ecco_url + 'html/styles.css')\n",
              "        })\n",
              "\n",
              "    console.log('Ecco initialize.')\n",
              "</script>\n",
              "\n",
              "<head>\n",
              "    <link id='css' rel=\"stylesheet\" type=\"text/css\">\n",
              "</head>\n"
            ],
            "text/plain": [
              "<IPython.core.display.HTML object>"
            ]
          },
          "metadata": {
            "tags": []
          }
        },
        {
          "output_type": "display_data",
          "data": {
            "text/html": [
              "<script>\n",
              "    // console.log('defining basic')\n",
              "    define('basic', ['d3'],\n",
              "        function (d3) {\n",
              "            return {\n",
              "                init: function (viz_id = null) {\n",
              "\n",
              "                    // console.log('basic init')\n",
              "                    if (viz_id == null){\n",
              "                        viz_id = \"viz_\" + Math.round(Math.random() * 10000000)\n",
              "                    }\n",
              "                    const div = d3.select('#basic').attr('id', viz_id),\n",
              "                        div_parent = d3.select('#' + viz_id).node().parentNode\n",
              "\n",
              "                    // Link to CSS file\n",
              "                    d3.select(div_parent).insert('link')\n",
              "                        .attr('rel', 'stylesheet')\n",
              "                        .attr('type', 'text/css')\n",
              "                        .attr('href', ecco_url + 'html/styles.css')\n",
              "\n",
              "                    return viz_id\n",
              "                }\n",
              "            }\n",
              "        }, function (err) {console.log(err);}\n",
              "    )\n",
              "    // console.log('after defining basic')\n",
              "\n",
              "</script>\n",
              "<div id=\"basic\"></div>\n"
            ],
            "text/plain": [
              "<IPython.core.display.HTML object>"
            ]
          },
          "metadata": {
            "tags": []
          }
        },
        {
          "output_type": "display_data",
          "data": {
            "application/javascript": [
              "\n",
              "         requirejs(['basic', 'ecco'], function(basic, ecco){\n",
              "            const viz_id = basic.init()\n",
              "            ecco.interactiveTokensAndFactorSparklines(viz_id, {'tokens': [{'token': '[CLS]', 'token_id': 65, 'type': 'input', 'position': 0}, {'token': '▁', 'token_id': 321, 'type': 'input', 'position': 1}, {'token': '<unk>', 'token_id': 100, 'type': 'input', 'position': 2}, {'token': 'C', 'token_id': 135, 'type': 'input', 'position': 3}, {'token': 'HI', 'token_id': 25475, 'type': 'input', 'position': 4}, {'token': 'EF', 'token_id': 25526, 'type': 'input', 'position': 5}, {'token': '▁COM', 'token_id': 9541, 'type': 'input', 'position': 6}, {'token': 'PLA', 'token_id': 45811, 'type': 'input', 'position': 7}, {'token': 'INT', 'token_id': 12495, 'type': 'input', 'position': 8}, {'token': ':', 'token_id': 126, 'type': 'input', 'position': 9}, {'token': '▁s', 'token_id': 365, 'type': 'input', 'position': 10}, {'token': '/', 'token_id': 115, 'type': 'input', 'position': 11}, {'token': 'p', 'token_id': 180, 'type': 'input', 'position': 12}, {'token': '▁fall', 'token_id': 2222, 'type': 'input', 'position': 13}, {'token': '<unk>', 'token_id': 100, 'type': 'input', 'position': 14}, {'token': 'PRES', 'token_id': 48397, 'type': 'input', 'position': 15}, {'token': 'ENT', 'token_id': 3626, 'type': 'input', 'position': 16}, {'token': '▁', 'token_id': 321, 'type': 'input', 'position': 17}, {'token': 'ILL', 'token_id': 8368, 'type': 'input', 'position': 18}, {'token': 'NESS', 'token_id': 31198, 'type': 'input', 'position': 19}, {'token': ':', 'token_id': 126, 'type': 'input', 'position': 20}, {'token': '▁77', 'token_id': 8642, 'type': 'input', 'position': 21}, {'token': '▁yo', 'token_id': 27507, 'type': 'input', 'position': 22}, {'token': '▁male', 'token_id': 4358, 'type': 'input', 'position': 23}, {'token': '▁on', 'token_id': 420, 'type': 'input', 'position': 24}, {'token': '▁Co', 'token_id': 1867, 'type': 'input', 'position': 25}, {'token': 'um', 'token_id': 489, 'type': 'input', 'position': 26}, {'token': 'adin', 'token_id': 17173, 'type': 'input', 'position': 27}, {'token': '▁for', 'token_id': 430, 'type': 'input', 'position': 28}, {'token': '▁D', 'token_id': 461, 'type': 'input', 'position': 29}, {'token': 'VT', 'token_id': 36493, 'type': 'input', 'position': 30}, {'token': '▁who', 'token_id': 609, 'type': 'input', 'position': 31}, {'token': '▁fell', 'token_id': 3315, 'type': 'input', 'position': 32}, {'token': '▁with', 'token_id': 452, 'type': 'input', 'position': 33}, {'token': '▁LOC', 'token_id': 37448, 'type': 'input', 'position': 34}, {'token': '▁and', 'token_id': 391, 'type': 'input', 'position': 35}, {'token': '▁un', 'token_id': 656, 'type': 'input', 'position': 36}, {'token': 'responsive', 'token_id': 39873, 'type': 'input', 'position': 37}, {'token': '.', 'token_id': 114, 'type': 'input', 'position': 38}, {'token': '▁Initially', 'token_id': 31001, 'type': 'input', 'position': 39}, {'token': '▁appeared', 'token_id': 4221, 'type': 'input', 'position': 40}, {'token': '▁with', 'token_id': 452, 'type': 'input', 'position': 41}, {'token': '▁G', 'token_id': 503, 'type': 'input', 'position': 42}, {'token': 'CS', 'token_id': 8003, 'type': 'input', 'position': 43}, {'token': '▁of', 'token_id': 387, 'type': 'input', 'position': 44}, {'token': '▁5', 'token_id': 743, 'type': 'input', 'position': 45}, {'token': '▁and', 'token_id': 391, 'type': 'input', 'position': 46}, {'token': '▁in', 'token_id': 388, 'type': 'input', 'position': 47}, {'token': 'tub', 'token_id': 38096, 'type': 'input', 'position': 48}, {'token': 'ated', 'token_id': 616, 'type': 'input', 'position': 49}, {'token': '.', 'token_id': 114, 'type': 'input', 'position': 50}, {'token': '▁Was', 'token_id': 9021, 'type': 'input', 'position': 51}, {'token': '▁given', 'token_id': 1914, 'type': 'input', 'position': 52}, {'token': '▁Vit', 'token_id': 18372, 'type': 'input', 'position': 53}, {'token': '▁K', 'token_id': 610, 'type': 'input', 'position': 54}, {'token': '▁10', 'token_id': 939, 'type': 'input', 'position': 55}, {'token': 'mg', 'token_id': 11397, 'type': 'input', 'position': 56}, {'token': ',', 'token_id': 112, 'type': 'input', 'position': 57}, {'token': '▁hypert', 'token_id': 32709, 'type': 'input', 'position': 58}, {'token': 'onic', 'token_id': 9330, 'type': 'input', 'position': 59}, {'token': '▁saline', 'token_id': 47476, 'type': 'input', 'position': 60}, {'token': '▁,', 'token_id': 938, 'type': 'input', 'position': 61}, {'token': '▁D', 'token_id': 461, 'type': 'input', 'position': 62}, {'token': 'ilan', 'token_id': 38340, 'type': 'input', 'position': 63}, {'token': 'tin', 'token_id': 43802, 'type': 'input', 'position': 64}, {'token': '▁1', 'token_id': 453, 'type': 'input', 'position': 65}, {'token': 'gm', 'token_id': 39971, 'type': 'input', 'position': 66}, {'token': ',', 'token_id': 112, 'type': 'input', 'position': 67}, {'token': '▁Pro', 'token_id': 1142, 'type': 'input', 'position': 68}, {'token': 'po', 'token_id': 7602, 'type': 'input', 'position': 69}, {'token': 'fol', 'token_id': 9163, 'type': 'input', 'position': 70}, {'token': '▁@', 'token_id': 2589, 'type': 'input', 'position': 71}, {'token': '▁10', 'token_id': 939, 'type': 'input', 'position': 72}, {'token': 'mc', 'token_id': 23310, 'type': 'input', 'position': 73}, {'token': 'g', 'token_id': 171, 'type': 'input', 'position': 74}, {'token': '.', 'token_id': 114, 'type': 'input', 'position': 75}, {'token': '▁He', 'token_id': 780, 'type': 'input', 'position': 76}, {'token': '▁was', 'token_id': 474, 'type': 'input', 'position': 77}, {'token': '▁transferred', 'token_id': 11273, 'type': 'input', 'position': 78}, {'token': '▁to', 'token_id': 385, 'type': 'input', 'position': 79}, {'token': '▁ER', 'token_id': 13894, 'type': 'input', 'position': 80}, {'token': '▁where', 'token_id': 911, 'type': 'input', 'position': 81}, {'token': '▁Neuro', 'token_id': 13883, 'type': 'input', 'position': 82}, {'token': 'sur', 'token_id': 11894, 'type': 'input', 'position': 83}, {'token': 'gery', 'token_id': 7177, 'type': 'input', 'position': 84}, {'token': '▁was', 'token_id': 474, 'type': 'input', 'position': 85}, {'token': '▁consulted', 'token_id': 26990, 'type': 'input', 'position': 86}, {'token': '.', 'token_id': 114, 'type': 'input', 'position': 87}, {'token': '<unk>', 'token_id': 100, 'type': 'input', 'position': 88}, {'token': '[SEP]', 'token_id': 66, 'type': 'input', 'position': 89}], 'factors': [[[0.0035689515061676502, 0.0, 0.0, 0.0, 0.0, 0.0, 0.0, 0.0, 0.0, 0.0, 0.0, 0.0, 0.0, 0.0, 0.0020669163204729557, 0.0, 0.0, 0.0, 0.0, 0.0, 0.0, 0.0, 0.0, 0.0, 0.0, 0.0, 0.0, 0.0, 0.0, 0.0, 0.0, 0.0003637732588686049, 0.0, 0.0014856705674901605, 0.0, 0.002237807959318161, 1.1509766578674316, 0.0, 0.0028559379279613495, 0.0, 0.0, 0.00487834308296442, 0.0, 0.0, 0.00484907953068614, 0.0034683586563915014, 0.0006791007472202182, 1.1718961000442505, 0.0, 0.0, 0.0015421819407492876, 0.0, 0.0006905296468175948, 0.0, 0.0, 0.0006220343639142811, 0.0, 0.002501854905858636, 0.0, 1.0809332132339478, 0.0, 0.003815099596977234, 0.0, 0.0, 0.0, 0.0, 0.0, 0.005640894174575806, 0.0, 0.0, 0.0, 0.0, 0.0, 0.0, 0.0, 0.001072234590537846, 0.0, 0.0034779775887727737, 0.0, 0.00454450398683548, 0.0, 0.007459467276930809, 0.0, 0.0, 0.0, 0.005288948770612478, 0.0018430885393172503, 0.7984911203384399, 0.0031401319429278374, 0.6937626600265503], [0.2746519446372986, 0.1350451111793518, 0.0, 0.033383313566446304, 0.11871863156557083, 0.11245642602443695, 0.08948896825313568, 0.1466563642024994, 0.17968150973320007, 0.24748194217681885, 0.4322340488433838, 0.3397972285747528, 0.37283551692962646, 0.5850266814231873, 0.0, 0.0, 0.0, 0.0, 0.0, 0.1993902027606964, 0.30464956164360046, 0.5160194039344788, 0.46368172764778137, 0.5477644801139832, 0.4574177861213684, 0.21512345969676971, 0.1740279495716095, 0.158761128783226, 0.4588093161582947, 0.43537914752960205, 0.46899938583374023, 0.6449680328369141, 0.6539036631584167, 0.6377558708190918, 0.5443089008331299, 0.5603079795837402, 0.0, 0.6711444854736328, 0.5821604132652283, 0.5400053858757019, 0.5494987964630127, 0.542704164981842, 0.41420525312423706, 0.41321778297424316, 0.3350088894367218, 0.28770336508750916, 0.6097949147224426, 0.0, 0.6597590446472168, 0.69321608543396, 0.5454173684120178, 0.3518368601799011, 0.30922940373420715, 0.2829812169075012, 0.06181966885924339, 0.0, 0.006712931673973799, 0.1354014277458191, 0.34563034772872925, 0.0, 0.3074088990688324, 0.0, 0.0, 0.0, 0.0, 0.0, 0.0, 0.0, 0.011525762267410755, 0.10569234192371368, 0.09544511139392853, 0.0, 0.0, 0.0, 0.0, 0.4792064130306244, 0.4128479063510895, 0.4570300579071045, 0.40280985832214355, 0.4069284498691559, 0.3244951367378235, 0.16768057644367218, 0.17128680646419525, 0.1198277696967125, 0.08266548067331314, 0.24052637815475464, 0.11366365104913712, 0.03021901287138462, 0.05961580201983452, 0.03190859407186508], [0.036411482840776443, 0.005217670928686857, 0.03585650026798248, 0.0, 0.0, 0.0, 0.0, 0.0, 0.0, 0.0005881407414563, 0.010430810041725636, 0.03994742035865784, 0.03889217972755432, 0.0, 0.08688658475875854, 0.035951610654592514, 0.030891316011548042, 0.037215378135442734, 0.0038850256241858006, 0.0, 0.0, 0.027624232694506645, 0.040408845990896225, 0.0174256544560194, 0.07185377180576324, 0.16160772740840912, 0.21460700035095215, 0.22758272290229797, 0.04482357203960419, 0.0, 0.0, 0.0, 0.0, 0.0, 0.0, 0.020237557590007782, 0.0, 0.0, 0.0, 0.0, 0.03406473621726036, 0.036554545164108276, 0.016322556883096695, 0.019980300217866898, 0.09411270171403885, 0.11993996798992157, 0.01784972846508026, 0.0, 0.0022396971471607685, 0.0, 0.003677154891192913, 0.0359736867249012, 0.15992522239685059, 0.09546425193548203, 0.1874590516090393, 0.27015313506126404, 0.28367090225219727, 0.2594100534915924, 0.16500328481197357, 0.020907344296574593, 0.18496404588222504, 0.26722970604896545, 0.2575891613960266, 0.2505183517932892, 0.23726996779441833, 0.22977443039417267, 0.24224846065044403, 0.2800089418888092, 0.24722923338413239, 0.24487662315368652, 0.24266934394836426, 0.23113636672496796, 0.23283015191555023, 0.2417604923248291, 0.2663615047931671, 0.028792232275009155, 0.016501683741807938, 0.0987095758318901, 0.10786658525466919, 0.11649605631828308, 0.07913108170032501, 0.19273178279399872, 0.17515704035758972, 0.2216356098651886, 0.22971317172050476, 0.18221035599708557, 0.20919093489646912, 0.0, 0.10332664847373962, 0.0], [0.16593460738658905, 0.38491690158843994, 0.36492082476615906, 0.4729481339454651, 0.4382685422897339, 0.4432584047317505, 0.4571267366409302, 0.4224785566329956, 0.39134639501571655, 0.3066171705722809, 0.16785278916358948, 0.17749546468257904, 0.16371393203735352, 0.049645233899354935, 0.2236795276403427, 0.37326154112815857, 0.3908122181892395, 0.40924614667892456, 0.4379175007343292, 0.3604114353656769, 0.26519671082496643, 0.02790290303528309, 0.07603058964014053, 0.025361107662320137, 0.0700208842754364, 0.1579866260290146, 0.05719231069087982, 0.032518696039915085, 0.0786331370472908, 0.1822051703929901, 0.14709831774234772, 0.0, 0.0, 0.0, 0.09996332228183746, 0.031065303832292557, 0.0, 0.0, 0.07302005589008331, 0.10325772315263748, 0.003728751791641116, 0.007009049411863089, 0.15802671015262604, 0.13200664520263672, 0.06342845410108566, 0.03704196587204933, 0.014277015812695026, 0.0, 0.0, 0.0, 0.09626604616641998, 0.1914151906967163, 0.03401688113808632, 0.1831112802028656, 0.20774324238300323, 0.0, 0.0, 0.049878042191267014, 0.00036650727270171046, 0.005722572561353445, 0.0, 0.04337119311094284, 0.15065066516399384, 0.012354010716080666, 0.0, 0.0, 0.0, 0.0642130896449089, 0.17625677585601807, 0.06381271779537201, 0.03401049226522446, 0.0, 0.0, 0.0, 0.0, 0.11705296486616135, 0.1693156212568283, 0.005281759425997734, 0.0, 0.011504385620355606, 0.14933794736862183, 0.013991586863994598, 0.12929408252239227, 0.03174856677651405, 0.0, 0.0, 0.0, 0.12628485262393951, 0.20580005645751953, 0.165170818567276]]]})\n",
              "         }, function (err) {\n",
              "            console.log(err);\n",
              "        })"
            ],
            "text/plain": [
              "<IPython.core.display.Javascript object>"
            ]
          },
          "metadata": {
            "tags": []
          }
        }
      ]
    },
    {
      "cell_type": "markdown",
      "metadata": {
        "id": "hieQJCwuakS-"
      },
      "source": [
        "Now use a longer example that includes all of the sections in the admission notes."
      ]
    },
    {
      "cell_type": "code",
      "metadata": {
        "id": "1MX1VQlJ1Pxx"
      },
      "source": [
        "example_texts = [\n",
        "    '''\n",
        "    CHIEF COMPLAINT: s/p fall\n",
        "\n",
        "    PRESENT ILLNESS: 77 yo male on Coumadin for DVT who fell at CVS with LOC and unresponsive on [**11-15**]. Initially brought to [**Hospital1 777**] with GCS of 5 and intubated. Was given Vit K 10mg, hypertonic saline , Dilantin 1gm, Propofol @ 10mcg. He was transferred to [**Hospital1 22**] ER where Neurosurgery was consulted. Upon arrival INR 3.0. FFP started, and emergent bolt placed.\n",
        "\n",
        "    MEDICAL HISTORY: DVT\n",
        "\n",
        "    MEDICATION ON ADMISSION: Coumadin\n",
        "\n",
        "    ALLERGIES: No Drug Allergy Information on File\n",
        "\n",
        "    PHYSICAL EXAM: On Admission: O: T: 97  BP: 128/68     HR: 59   R 16      O2Sats 98 / intubated Gen: Intubated and sedated; Right facial and periorbital ecchymosis./ c-collar in place/ Neuro: Upon arrival, pt was intubated and sedated on Propofol. No eye opening to sternal rub. No movement of extremities to noxious stimulation. Pupils were 2 to 1.5 bilaterally. Trace corneal reflex with trace pupillary response. GCS=3T on sedation.  Neuro exam repeated after pt returned from CT scan.  Note: while in scanner, pt had some spontaneous upper ext. movement. On exam: Pt without eye opening to voice or noxious stim. ? follow commands ->moved feet x 2 to request of wiggle toes. Pt localizes briskly with RUE, Extensor postures with LUE, w/d's b/l LE's  to noxious, no clonus. Pt lightly chewing on ETT. GCS= E=1, M=5, V=1T = 7T HEENT: + Raccoon's sign, Neg battles sign, negative hemotympanum, negative CSF rhinorrhea/otorrhea. Neck: In collar. Lungs: clear / ? R lower lobe rhonchi Cardiac: s1 s2 RRR Abd: Soft Extrem: Warm and well-perfused / no edema.\n",
        "\n",
        "    FAMILY HISTORY: Non-contributory\n",
        "\n",
        "    SOCIAL HISTORY: Married, resides at home with wife.\n",
        "    ''',\n",
        "    \n",
        "    # break\n",
        "    \n",
        "    '''\n",
        "    CHIEF COMPLAINT: hypoxia\n",
        "\n",
        "    PRESENT ILLNESS: 85 yo Man w/ HTN, sick sinus s/p PPM, multiple GIB, Afib, prostate ca, MGUS, 2+ AI, CRF, high ammonia (w/o liver disease), who was discharged from hospital with VRE bacteremia and fungemia (likely due to infected midline) on linezolid and fluconazole for 14 day course, who presents obtunded from his NH with hypoxia to 60%. He was placed on NRB, given lasix 60mg iv and 1 inch of nitropaste with resultant O2 sat 70-80% on transfer by EMS. Per EMS to ER resident, his NH reported him full code. On arrival to the ER he was making respiratory effort but had very minimal air movement. He was intubated on AC 500*20, peep 5, fio2 1.0, L EJ was placed for access and the patient has a PICC in place. He was given levofloxacin and aspirin.  He was placed on a bair hugger for hypothermia. His vitals were otherwise unremarkable. KUB showed a large amount of bowel gas. CXR was fairly unremarkable. He was on a minimal amount of versed for sedation and was minimally responsive. He was guaiac positive. . The patient's family was informed of his transfer and came to the ER to find him intubated, stating that he was DNR/DNI. After discussion with the resident they decided to keep him intubated for the night and to revisit this in the MA, but to maintain his DNR status.  He was subsequently found to be hypotensive with SBPs in the 70s. Per telephone discussion between the ER resident and the patient's daughter, the family declines central line and declines pressors. He was admitted to the ICU for furhter care and management. . Note that on prior admission the pt also had ARF with urinary retention of 400cc, which resolved with placement of foley catheter. Baseline MS is to be sleepy most of day and respond to questions appropriately, moments of clarity where recognizes family. . ROS: unable to perform given intubated/sedated\n",
        "\n",
        "    MEDICAL HISTORY: 1. Prostate cancer dx - maintained on lupron (no surgery/xrt). 2. Hypertension 3. Aortic insufficiency (2+). 3. Paroxysmal atrial fibrillation (not on anticoagulation due to many GIBs) 4. Sick sinus syndrome s/p PPM for symptomatic bradycardia 5. Iron deficiency anemia/ anemia of chronic disease 6. Chronic Renal Failure 7. Pulmonary Hypertension (TTE PASP 38mmhg) 8. Secondary hyperparathyroidism (low 25-hydroxyvitamin D, s/p tx) 9. MGUS, IgG monoclonal gammopathy 10. s/p GSW with retained pleural fragment 11. s/p pacemaker placement. 12. Severe bilateral DJD of the knees 13. Gout 14. Refractory UGIB from jejunal AVMs and  duodenal ulcers 15. Encephalopathy and hyperammonemia without evidence of hepatic dysfunction.\n",
        "\n",
        "    MEDICATION ON ADMISSION: 1. Lactulose 30 mL PO Q 6 hours 2. Calcitriol 0.25 mcg PO QD 3. Atorvastatin 10 mg PO QD 4. Pantoprazole 40 mg PO QD 5. Donepezil 5 mg PO QHS 6. Fluticasone (intranasal) 7. Metoprolol Tartrate 50 mg PO TID 8. Amlodipine 5 mg PO QD 9. Tylenol PRN 10. Ipratropium Bromide Q6 PRN 11. Fluconazole 200 mg PO Q24H 12. Albuterol Q6 PRN 13. Linezolid 600 mg PO Q12H 14. nephrocaps 1 po qday\n",
        "\n",
        "    ALLERGIES: Percocet / Simvastatin\n",
        "\n",
        "    PHYSICAL EXAM: Vitals:  cannot read temp,  60,  96/44, 100% on AC 500*20, peep 5, fio2 1.0. General:  appears uncomfortable, opens eyes to stimulation HEENT:  pupils sluggish but reactive Neck:  R EJ in place Chest/CV:  RRR, s1s2, decreased heart sounds Lungs:  CTAB Abd:  soft, nt, nd, +bs Rectal:  per ER guaiac positive Ext:  2+ pitting edema BLE\n",
        "\n",
        "    FAMILY HISTORY: noncontributory\n",
        "\n",
        "    SOCIAL HISTORY: living at rehab\n",
        "    ''',\n",
        "    \n",
        "    # break\n",
        "    \n",
        "    '''\n",
        "    CHIEF COMPLAINT: altered mental status, fevers\n",
        "\n",
        "    PRESENT ILLNESS: 89 year old F nursing home resident, s/p hospitalization for influenza a, has been on O2 since with baseline RA sats 88% and 92% on 2l NC.  She presented to the hospital with altered mental status and fevers.  She is very demented at baseline but is verbal.  On the morning of admission, she had a small amount of her usual breakfast but was very lethargic and according to her nurses, may have aspirated some of her meal.  VS there were T 103.8. BP 141/94 HR 99 O2 Sat 87% on 2LNC.  When EMS arrived, her VS were 92/68 HR 95 (irregular) RR 42 Sat 94% on BVM 100%. . In the ED, she was noted to also be febrile so code sepsis was initiated.  Her code status was confirmed to be full code.  A left subclavian line was placed, and IV normal saline were administered.  Intravenous ceftriaxone, vancomycin, levaquin and clindamycin were administered.  Levophed was also started. Prior to transfer to the floor her SVO2 was 71%. . In the MICU, the levophed was weaned.  The patient was maintained on vanco and zosyn.  CXR showed a flourishing RUL PNA.  Her mental status improved on time of transfer.\n",
        "\n",
        "    MEDICAL HISTORY: Alzheimer's Depression Hypernatremia Paroxymal Afib h/o Urinary tract infections Cholelithiasis h/o Influenza A/b\n",
        "\n",
        "    MEDICATION ON ADMISSION: Aricept 10mg daily Vitamin E 80u qPM Zyprexa 5mg qPM Namenda 5mg qPM Tylenol 650 supp q6:prn\n",
        "\n",
        "    ALLERGIES: Patient recorded as having No Known Allergies to Drugs\n",
        "\n",
        "    PHYSICAL EXAM: VS: Tm 103.9 Tc BP 117/49 (88-121/34-49) HR 84 RR 30 Sat 100% NC GEN: Elderly asian woman in bed sedate and difficult to arouse, breathing comfortably.  Daughters at bedside. HEENT: Dry MM, eyes closed, no scleral icterus. NECK: Supple, no masses CV: Irregular, normal s1/s2 PUL: Coarse upper airway sounds ABD: Diffuse ttp, +BS, no rebound or guarding. EXT: No edema NEURO: Sedated, arousable, but non-verbal with eyes closed.\n",
        "\n",
        "    FAMILY HISTORY: N/A\n",
        "\n",
        "    SOCIAL HISTORY: Permanent resident of nursing home. Son and daughter active in her life and visit daily\n",
        "    ''',\n",
        "    \n",
        "    # break\n",
        "    \n",
        "    '''\n",
        "    CHIEF COMPLAINT: Chest discomfort with exertion referred for cardiac catheterization.\n",
        "\n",
        "    PRESENT ILLNESS: 65 y.o male with chest discomfort on exertion, was referred for cardiac catheterization. Catheterization report showed an EF of 60%, no MR LAD:40-50%, LCX: 90%, RCA 100%. He was then referred to for cardiac surgery.\n",
        "\n",
        "    MEDICAL HISTORY: PMH: DM type 2, AF, DJD, anxiety, arthritis. PSH:L TKR, Cervical fusion C2-4, Tonsillectomy, Rt hernia repairx2, Lipoma removal rt chest',\n",
        "\n",
        "    MEDICATION ON ADMISSION: Zetia 10mg daily Celexa 20mg daily Digoxin 0.25mg daily Metformin 500mg Avodart 0.5mg daily Glyburide 2.5mg Verapamil 120mg QPM Lipitor 40mg bedtime Doxazosin 4mg daily Coumadin 10mg 3X/wk Coumadin 15mg 4X/wk ASA 81mg daily SL Nitro PRN\n",
        "\n",
        "    ALLERGIES: Simvastatin\n",
        "\n",
        "    PHYSICAL EXAM: Admission Physical Exam Pulse:64, Resp: 18, BP R: 143/77 L:132/91 Height: 5'8\", Wgt: 235lbs General: NAD Skin: Unremarkable well healed scar R chest HEENT: Unremarkable, glasses Chest: Lungs CTA bilat Heart: RRR Abdomen: Obese, benign Extremities: Well-perfused, no edema Varicosities: None Neuro: None focal Pulses: Femoral, BP, PT Radial equal bilaterally +2 Carotid bruit: none bilaterally\n",
        "\n",
        "    FAMILY HISTORY: Brother died from MI at age 68 Father had an MI in his early 60s Sister had a stroke at age 58.\n",
        "\n",
        "    SOCIAL HISTORY:  Tobacco: Quit ppdX33yrs ETOH: 5 drinks/week\n",
        "    '''\n",
        "]\n",
        "\n",
        "example_labels = [1, 1, 0, 0]\n",
        "\n",
        "sample = pd.DataFrame(zip(example_texts, example_labels), columns=['text', 'hospital_expire_flag'])"
      ],
      "execution_count": null,
      "outputs": []
    },
    {
      "cell_type": "code",
      "metadata": {
        "colab": {
          "base_uri": "https://localhost:8080/",
          "height": 453
        },
        "id": "CQ-zWd7r1yyn",
        "outputId": "f84ae598-5011-4dd6-ebe7-8581e8d98902"
      },
      "source": [
        "ecco_out = ecco_lm(tokenizer(sample['text'].iloc[0], return_tensors='pt'))\n",
        "nmf2 = ecco_out.run_nmf(n_components=12)\n",
        "nmf2.explore()"
      ],
      "execution_count": null,
      "outputs": [
        {
          "output_type": "display_data",
          "data": {
            "text/html": [
              "<html lang=\"en\">\n",
              "<script src=\"https://requirejs.org/docs/release/2.3.6/minified/require.js\"></script>\n",
              "<script>\n",
              "    var ecco_url = 'https://storage.googleapis.com/ml-intro/ecco/'\n",
              "    // var ecco_url = 'http://localhost:8000/ecco/'\n",
              "\n",
              "    if (window.ecco === undefined) window.ecco = {}\n",
              "\n",
              "    requirejs.config({\n",
              "        urlArgs: \"bust=\" + (new Date()).getTime(),\n",
              "        nodeRequire: require,\n",
              "        paths: {\n",
              "            d3: \"https://d3js.org/d3.v5.min\",\n",
              "            \"d3-array\": \"https://d3js.org/d3-array.v2.min\",\n",
              "            jquery: \"https://code.jquery.com/jquery-3.5.1.min\",\n",
              "            // oldEcco: ecco_url + 'ecco',\n",
              "            ecco: ecco_url + 'js/0.0.4/ecco-bundle.min',\n",
              "            xregexp: 'https://cdnjs.cloudflare.com/ajax/libs/xregexp/3.2.0/xregexp-all.min'\n",
              "        }\n",
              "    });\n",
              "    requirejs(['d3'],\n",
              "        function (d3) {\n",
              "            d3.select('#css').attr('href', ecco_url + 'html/styles.css')\n",
              "        })\n",
              "\n",
              "    console.log('Ecco initialize.')\n",
              "</script>\n",
              "\n",
              "<head>\n",
              "    <link id='css' rel=\"stylesheet\" type=\"text/css\">\n",
              "</head>\n"
            ],
            "text/plain": [
              "<IPython.core.display.HTML object>"
            ]
          },
          "metadata": {
            "tags": []
          }
        },
        {
          "output_type": "display_data",
          "data": {
            "text/html": [
              "<script>\n",
              "    // console.log('defining basic')\n",
              "    define('basic', ['d3'],\n",
              "        function (d3) {\n",
              "            return {\n",
              "                init: function (viz_id = null) {\n",
              "\n",
              "                    // console.log('basic init')\n",
              "                    if (viz_id == null){\n",
              "                        viz_id = \"viz_\" + Math.round(Math.random() * 10000000)\n",
              "                    }\n",
              "                    const div = d3.select('#basic').attr('id', viz_id),\n",
              "                        div_parent = d3.select('#' + viz_id).node().parentNode\n",
              "\n",
              "                    // Link to CSS file\n",
              "                    d3.select(div_parent).insert('link')\n",
              "                        .attr('rel', 'stylesheet')\n",
              "                        .attr('type', 'text/css')\n",
              "                        .attr('href', ecco_url + 'html/styles.css')\n",
              "\n",
              "                    return viz_id\n",
              "                }\n",
              "            }\n",
              "        }, function (err) {console.log(err);}\n",
              "    )\n",
              "    // console.log('after defining basic')\n",
              "\n",
              "</script>\n",
              "<div id=\"basic\"></div>\n"
            ],
            "text/plain": [
              "<IPython.core.display.HTML object>"
            ]
          },
          "metadata": {
            "tags": []
          }
        },
        {
          "output_type": "display_data",
          "data": {
            "application/javascript": [
              "\n",
              "         requirejs(['basic', 'ecco'], function(basic, ecco){\n",
              "            const viz_id = basic.init()\n",
              "            ecco.interactiveTokensAndFactorSparklines(viz_id, {'tokens': [{'token': '[CLS]', 'token_id': 65, 'type': 'input', 'position': 0}, {'token': '▁', 'token_id': 321, 'type': 'input', 'position': 1}, {'token': '<unk>', 'token_id': 100, 'type': 'input', 'position': 2}, {'token': '▁C', 'token_id': 428, 'type': 'input', 'position': 3}, {'token': 'HI', 'token_id': 25475, 'type': 'input', 'position': 4}, {'token': 'EF', 'token_id': 25526, 'type': 'input', 'position': 5}, {'token': '▁COM', 'token_id': 9541, 'type': 'input', 'position': 6}, {'token': 'PLA', 'token_id': 45811, 'type': 'input', 'position': 7}, {'token': 'INT', 'token_id': 12495, 'type': 'input', 'position': 8}, {'token': ':', 'token_id': 126, 'type': 'input', 'position': 9}, {'token': '▁s', 'token_id': 365, 'type': 'input', 'position': 10}, {'token': '/', 'token_id': 115, 'type': 'input', 'position': 11}, {'token': 'p', 'token_id': 180, 'type': 'input', 'position': 12}, {'token': '▁fall', 'token_id': 2222, 'type': 'input', 'position': 13}, {'token': '<unk>', 'token_id': 100, 'type': 'input', 'position': 14}, {'token': '▁PRES', 'token_id': 32653, 'type': 'input', 'position': 15}, {'token': 'ENT', 'token_id': 3626, 'type': 'input', 'position': 16}, {'token': '▁', 'token_id': 321, 'type': 'input', 'position': 17}, {'token': 'ILL', 'token_id': 8368, 'type': 'input', 'position': 18}, {'token': 'NESS', 'token_id': 31198, 'type': 'input', 'position': 19}, {'token': ':', 'token_id': 126, 'type': 'input', 'position': 20}, {'token': '▁77', 'token_id': 8642, 'type': 'input', 'position': 21}, {'token': '▁yo', 'token_id': 27507, 'type': 'input', 'position': 22}, {'token': '▁male', 'token_id': 4358, 'type': 'input', 'position': 23}, {'token': '▁on', 'token_id': 420, 'type': 'input', 'position': 24}, {'token': '▁Co', 'token_id': 1867, 'type': 'input', 'position': 25}, {'token': 'um', 'token_id': 489, 'type': 'input', 'position': 26}, {'token': 'adin', 'token_id': 17173, 'type': 'input', 'position': 27}, {'token': '▁for', 'token_id': 430, 'type': 'input', 'position': 28}, {'token': '▁D', 'token_id': 461, 'type': 'input', 'position': 29}, {'token': 'VT', 'token_id': 36493, 'type': 'input', 'position': 30}, {'token': '▁who', 'token_id': 609, 'type': 'input', 'position': 31}, {'token': '▁fell', 'token_id': 3315, 'type': 'input', 'position': 32}, {'token': '▁at', 'token_id': 480, 'type': 'input', 'position': 33}, {'token': '▁C', 'token_id': 428, 'type': 'input', 'position': 34}, {'token': 'VS', 'token_id': 20405, 'type': 'input', 'position': 35}, {'token': '▁with', 'token_id': 452, 'type': 'input', 'position': 36}, {'token': '▁LOC', 'token_id': 37448, 'type': 'input', 'position': 37}, {'token': '▁and', 'token_id': 391, 'type': 'input', 'position': 38}, {'token': '▁un', 'token_id': 656, 'type': 'input', 'position': 39}, {'token': 'responsive', 'token_id': 39873, 'type': 'input', 'position': 40}, {'token': '▁on', 'token_id': 420, 'type': 'input', 'position': 41}, {'token': '▁[', 'token_id': 786, 'type': 'input', 'position': 42}, {'token': '**', 'token_id': 1275, 'type': 'input', 'position': 43}, {'token': '11', 'token_id': 1258, 'type': 'input', 'position': 44}, {'token': '-', 'token_id': 113, 'type': 'input', 'position': 45}, {'token': '15', 'token_id': 1415, 'type': 'input', 'position': 46}, {'token': '**', 'token_id': 1275, 'type': 'input', 'position': 47}, {'token': '].', 'token_id': 4184, 'type': 'input', 'position': 48}, {'token': '▁Initially', 'token_id': 31001, 'type': 'input', 'position': 49}, {'token': '▁brought', 'token_id': 3282, 'type': 'input', 'position': 50}, {'token': '▁to', 'token_id': 385, 'type': 'input', 'position': 51}, {'token': '▁[', 'token_id': 786, 'type': 'input', 'position': 52}, {'token': '**', 'token_id': 1275, 'type': 'input', 'position': 53}, {'token': 'H', 'token_id': 140, 'type': 'input', 'position': 54}, {'token': 'ospital', 'token_id': 3632, 'type': 'input', 'position': 55}, {'token': '1', 'token_id': 117, 'type': 'input', 'position': 56}, {'token': '▁777', 'token_id': 35635, 'type': 'input', 'position': 57}, {'token': '**', 'token_id': 1275, 'type': 'input', 'position': 58}, {'token': ']', 'token_id': 161, 'type': 'input', 'position': 59}, {'token': '▁with', 'token_id': 452, 'type': 'input', 'position': 60}, {'token': '▁G', 'token_id': 503, 'type': 'input', 'position': 61}, {'token': 'CS', 'token_id': 8003, 'type': 'input', 'position': 62}, {'token': '▁of', 'token_id': 387, 'type': 'input', 'position': 63}, {'token': '▁5', 'token_id': 743, 'type': 'input', 'position': 64}, {'token': '▁and', 'token_id': 391, 'type': 'input', 'position': 65}, {'token': '▁in', 'token_id': 388, 'type': 'input', 'position': 66}, {'token': 'tub', 'token_id': 38096, 'type': 'input', 'position': 67}, {'token': 'ated', 'token_id': 616, 'type': 'input', 'position': 68}, {'token': '.', 'token_id': 114, 'type': 'input', 'position': 69}, {'token': '▁Was', 'token_id': 9021, 'type': 'input', 'position': 70}, {'token': '▁given', 'token_id': 1914, 'type': 'input', 'position': 71}, {'token': '▁Vit', 'token_id': 18372, 'type': 'input', 'position': 72}, {'token': '▁K', 'token_id': 610, 'type': 'input', 'position': 73}, {'token': '▁10', 'token_id': 939, 'type': 'input', 'position': 74}, {'token': 'mg', 'token_id': 11397, 'type': 'input', 'position': 75}, {'token': ',', 'token_id': 112, 'type': 'input', 'position': 76}, {'token': '▁hypert', 'token_id': 32709, 'type': 'input', 'position': 77}, {'token': 'onic', 'token_id': 9330, 'type': 'input', 'position': 78}, {'token': '▁saline', 'token_id': 47476, 'type': 'input', 'position': 79}, {'token': '▁,', 'token_id': 938, 'type': 'input', 'position': 80}, {'token': '▁D', 'token_id': 461, 'type': 'input', 'position': 81}, {'token': 'ilan', 'token_id': 38340, 'type': 'input', 'position': 82}, {'token': 'tin', 'token_id': 43802, 'type': 'input', 'position': 83}, {'token': '▁1', 'token_id': 453, 'type': 'input', 'position': 84}, {'token': 'gm', 'token_id': 39971, 'type': 'input', 'position': 85}, {'token': ',', 'token_id': 112, 'type': 'input', 'position': 86}, {'token': '▁Pro', 'token_id': 1142, 'type': 'input', 'position': 87}, {'token': 'po', 'token_id': 7602, 'type': 'input', 'position': 88}, {'token': 'fol', 'token_id': 9163, 'type': 'input', 'position': 89}, {'token': '▁@', 'token_id': 2589, 'type': 'input', 'position': 90}, {'token': '▁10', 'token_id': 939, 'type': 'input', 'position': 91}, {'token': 'mc', 'token_id': 23310, 'type': 'input', 'position': 92}, {'token': 'g', 'token_id': 171, 'type': 'input', 'position': 93}, {'token': '.', 'token_id': 114, 'type': 'input', 'position': 94}, {'token': '▁He', 'token_id': 780, 'type': 'input', 'position': 95}, {'token': '▁was', 'token_id': 474, 'type': 'input', 'position': 96}, {'token': '▁transferred', 'token_id': 11273, 'type': 'input', 'position': 97}, {'token': '▁to', 'token_id': 385, 'type': 'input', 'position': 98}, {'token': '▁[', 'token_id': 786, 'type': 'input', 'position': 99}, {'token': '**', 'token_id': 1275, 'type': 'input', 'position': 100}, {'token': 'H', 'token_id': 140, 'type': 'input', 'position': 101}, {'token': 'ospital', 'token_id': 3632, 'type': 'input', 'position': 102}, {'token': '1', 'token_id': 117, 'type': 'input', 'position': 103}, {'token': '▁22', 'token_id': 2635, 'type': 'input', 'position': 104}, {'token': '**', 'token_id': 1275, 'type': 'input', 'position': 105}, {'token': ']', 'token_id': 161, 'type': 'input', 'position': 106}, {'token': '▁ER', 'token_id': 13894, 'type': 'input', 'position': 107}, {'token': '▁where', 'token_id': 911, 'type': 'input', 'position': 108}, {'token': '▁Neuro', 'token_id': 13883, 'type': 'input', 'position': 109}, {'token': 'sur', 'token_id': 11894, 'type': 'input', 'position': 110}, {'token': 'gery', 'token_id': 7177, 'type': 'input', 'position': 111}, {'token': '▁was', 'token_id': 474, 'type': 'input', 'position': 112}, {'token': '▁consulted', 'token_id': 26990, 'type': 'input', 'position': 113}, {'token': '.', 'token_id': 114, 'type': 'input', 'position': 114}, {'token': '▁Upon', 'token_id': 14539, 'type': 'input', 'position': 115}, {'token': '▁arrival', 'token_id': 10426, 'type': 'input', 'position': 116}, {'token': '▁I', 'token_id': 415, 'type': 'input', 'position': 117}, {'token': 'NR', 'token_id': 24824, 'type': 'input', 'position': 118}, {'token': '▁3', 'token_id': 614, 'type': 'input', 'position': 119}, {'token': '.', 'token_id': 114, 'type': 'input', 'position': 120}, {'token': '0', 'token_id': 116, 'type': 'input', 'position': 121}, {'token': '.', 'token_id': 114, 'type': 'input', 'position': 122}, {'token': '▁F', 'token_id': 477, 'type': 'input', 'position': 123}, {'token': 'FP', 'token_id': 5938, 'type': 'input', 'position': 124}, {'token': '▁started', 'token_id': 2168, 'type': 'input', 'position': 125}, {'token': ',', 'token_id': 112, 'type': 'input', 'position': 126}, {'token': '▁and', 'token_id': 391, 'type': 'input', 'position': 127}, {'token': '▁emer', 'token_id': 3266, 'type': 'input', 'position': 128}, {'token': 'gent', 'token_id': 6884, 'type': 'input', 'position': 129}, {'token': '▁bolt', 'token_id': 18201, 'type': 'input', 'position': 130}, {'token': '▁placed', 'token_id': 4725, 'type': 'input', 'position': 131}, {'token': '.', 'token_id': 114, 'type': 'input', 'position': 132}, {'token': '<unk>', 'token_id': 100, 'type': 'input', 'position': 133}, {'token': '▁MED', 'token_id': 26213, 'type': 'input', 'position': 134}, {'token': 'ICAL', 'token_id': 20252, 'type': 'input', 'position': 135}, {'token': '▁H', 'token_id': 468, 'type': 'input', 'position': 136}, {'token': 'ISTORY', 'token_id': 42581, 'type': 'input', 'position': 137}, {'token': ':', 'token_id': 126, 'type': 'input', 'position': 138}, {'token': '▁D', 'token_id': 461, 'type': 'input', 'position': 139}, {'token': 'VT', 'token_id': 36493, 'type': 'input', 'position': 140}, {'token': '<unk>', 'token_id': 100, 'type': 'input', 'position': 141}, {'token': '▁MED', 'token_id': 26213, 'type': 'input', 'position': 142}, {'token': 'IC', 'token_id': 2250, 'type': 'input', 'position': 143}, {'token': 'ATION', 'token_id': 6335, 'type': 'input', 'position': 144}, {'token': '▁ON', 'token_id': 6278, 'type': 'input', 'position': 145}, {'token': '▁A', 'token_id': 418, 'type': 'input', 'position': 146}, {'token': 'DM', 'token_id': 23228, 'type': 'input', 'position': 147}, {'token': 'ISSION', 'token_id': 40474, 'type': 'input', 'position': 148}, {'token': ':', 'token_id': 126, 'type': 'input', 'position': 149}, {'token': '▁Co', 'token_id': 1867, 'type': 'input', 'position': 150}, {'token': 'um', 'token_id': 489, 'type': 'input', 'position': 151}, {'token': 'adin', 'token_id': 17173, 'type': 'input', 'position': 152}, {'token': '<unk>', 'token_id': 100, 'type': 'input', 'position': 153}, {'token': '▁ALL', 'token_id': 11197, 'type': 'input', 'position': 154}, {'token': 'ERG', 'token_id': 49938, 'type': 'input', 'position': 155}, {'token': 'IES', 'token_id': 11116, 'type': 'input', 'position': 156}, {'token': ':', 'token_id': 126, 'type': 'input', 'position': 157}, {'token': '▁No', 'token_id': 1501, 'type': 'input', 'position': 158}, {'token': '▁Drug', 'token_id': 11196, 'type': 'input', 'position': 159}, {'token': '▁All', 'token_id': 1540, 'type': 'input', 'position': 160}, {'token': 'ergy', 'token_id': 26180, 'type': 'input', 'position': 161}, {'token': '▁Information', 'token_id': 6289, 'type': 'input', 'position': 162}, {'token': '▁on', 'token_id': 420, 'type': 'input', 'position': 163}, {'token': '▁File', 'token_id': 9321, 'type': 'input', 'position': 164}, {'token': '<unk>', 'token_id': 100, 'type': 'input', 'position': 165}, {'token': '▁PH', 'token_id': 9471, 'type': 'input', 'position': 166}, {'token': 'YS', 'token_id': 16410, 'type': 'input', 'position': 167}, {'token': 'ICAL', 'token_id': 20252, 'type': 'input', 'position': 168}, {'token': '▁EX', 'token_id': 7889, 'type': 'input', 'position': 169}, {'token': 'AM', 'token_id': 2491, 'type': 'input', 'position': 170}, {'token': ':', 'token_id': 126, 'type': 'input', 'position': 171}, {'token': '▁On', 'token_id': 1651, 'type': 'input', 'position': 172}, {'token': '▁Admission', 'token_id': 44126, 'type': 'input', 'position': 173}, {'token': ':', 'token_id': 126, 'type': 'input', 'position': 174}, {'token': '▁O', 'token_id': 541, 'type': 'input', 'position': 175}, {'token': ':', 'token_id': 126, 'type': 'input', 'position': 176}, {'token': '▁T', 'token_id': 410, 'type': 'input', 'position': 177}, {'token': ':', 'token_id': 126, 'type': 'input', 'position': 178}, {'token': '▁97', 'token_id': 10212, 'type': 'input', 'position': 179}, {'token': '▁BP', 'token_id': 21098, 'type': 'input', 'position': 180}, {'token': ':', 'token_id': 126, 'type': 'input', 'position': 181}, {'token': '▁128', 'token_id': 13209, 'type': 'input', 'position': 182}, {'token': '/', 'token_id': 115, 'type': 'input', 'position': 183}, {'token': '68', 'token_id': 3205, 'type': 'input', 'position': 184}, {'token': '▁HR', 'token_id': 15273, 'type': 'input', 'position': 185}, {'token': ':', 'token_id': 126, 'type': 'input', 'position': 186}, {'token': '▁59', 'token_id': 7964, 'type': 'input', 'position': 187}, {'token': '▁R', 'token_id': 472, 'type': 'input', 'position': 188}, {'token': '▁16', 'token_id': 1568, 'type': 'input', 'position': 189}, {'token': '▁O', 'token_id': 541, 'type': 'input', 'position': 190}, {'token': '2', 'token_id': 118, 'type': 'input', 'position': 191}, {'token': 'S', 'token_id': 151, 'type': 'input', 'position': 192}, {'token': 'ats', 'token_id': 1482, 'type': 'input', 'position': 193}, {'token': '▁98', 'token_id': 9762, 'type': 'input', 'position': 194}, {'token': '▁/', 'token_id': 1321, 'type': 'input', 'position': 195}, {'token': '▁in', 'token_id': 388, 'type': 'input', 'position': 196}, {'token': 'tub', 'token_id': 38096, 'type': 'input', 'position': 197}, {'token': 'ated', 'token_id': 616, 'type': 'input', 'position': 198}, {'token': '▁Gen', 'token_id': 5316, 'type': 'input', 'position': 199}, {'token': ':', 'token_id': 126, 'type': 'input', 'position': 200}, {'token': '▁In', 'token_id': 655, 'type': 'input', 'position': 201}, {'token': 'tub', 'token_id': 38096, 'type': 'input', 'position': 202}, {'token': 'ated', 'token_id': 616, 'type': 'input', 'position': 203}, {'token': '▁and', 'token_id': 391, 'type': 'input', 'position': 204}, {'token': '▁se', 'token_id': 485, 'type': 'input', 'position': 205}, {'token': 'dated', 'token_id': 8816, 'type': 'input', 'position': 206}, {'token': ';', 'token_id': 127, 'type': 'input', 'position': 207}, {'token': '▁Right', 'token_id': 6599, 'type': 'input', 'position': 208}, {'token': '▁facial', 'token_id': 16425, 'type': 'input', 'position': 209}, {'token': '▁and', 'token_id': 391, 'type': 'input', 'position': 210}, {'token': '▁p', 'token_id': 380, 'type': 'input', 'position': 211}, {'token': 'eri', 'token_id': 33543, 'type': 'input', 'position': 212}, {'token': 'orb', 'token_id': 27789, 'type': 'input', 'position': 213}, {'token': 'ital', 'token_id': 1388, 'type': 'input', 'position': 214}, {'token': '▁ec', 'token_id': 10041, 'type': 'input', 'position': 215}, {'token': 'ch', 'token_id': 455, 'type': 'input', 'position': 216}, {'token': 'ym', 'token_id': 5049, 'type': 'input', 'position': 217}, {'token': 'osis', 'token_id': 6059, 'type': 'input', 'position': 218}, {'token': './', 'token_id': 19672, 'type': 'input', 'position': 219}, {'token': '▁c', 'token_id': 370, 'type': 'input', 'position': 220}, {'token': '-', 'token_id': 113, 'type': 'input', 'position': 221}, {'token': 'collar', 'token_id': 37777, 'type': 'input', 'position': 222}, {'token': '▁in', 'token_id': 388, 'type': 'input', 'position': 223}, {'token': '▁place', 'token_id': 1396, 'type': 'input', 'position': 224}, {'token': '/', 'token_id': 115, 'type': 'input', 'position': 225}, {'token': '▁Neuro', 'token_id': 13883, 'type': 'input', 'position': 226}, {'token': ':', 'token_id': 126, 'type': 'input', 'position': 227}, {'token': '▁Upon', 'token_id': 14539, 'type': 'input', 'position': 228}, {'token': '▁arrival', 'token_id': 10426, 'type': 'input', 'position': 229}, {'token': ',', 'token_id': 112, 'type': 'input', 'position': 230}, {'token': '▁pt', 'token_id': 43076, 'type': 'input', 'position': 231}, {'token': '▁was', 'token_id': 474, 'type': 'input', 'position': 232}, {'token': '▁in', 'token_id': 388, 'type': 'input', 'position': 233}, {'token': 'tub', 'token_id': 38096, 'type': 'input', 'position': 234}, {'token': 'ated', 'token_id': 616, 'type': 'input', 'position': 235}, {'token': '▁and', 'token_id': 391, 'type': 'input', 'position': 236}, {'token': '▁se', 'token_id': 485, 'type': 'input', 'position': 237}, {'token': 'dated', 'token_id': 8816, 'type': 'input', 'position': 238}, {'token': '▁on', 'token_id': 420, 'type': 'input', 'position': 239}, {'token': '▁Pro', 'token_id': 1142, 'type': 'input', 'position': 240}, {'token': 'po', 'token_id': 7602, 'type': 'input', 'position': 241}, {'token': 'fol', 'token_id': 9163, 'type': 'input', 'position': 242}, {'token': '.', 'token_id': 114, 'type': 'input', 'position': 243}, {'token': '▁No', 'token_id': 1501, 'type': 'input', 'position': 244}, {'token': '▁eye', 'token_id': 4252, 'type': 'input', 'position': 245}, {'token': '▁opening', 'token_id': 4857, 'type': 'input', 'position': 246}, {'token': '▁to', 'token_id': 385, 'type': 'input', 'position': 247}, {'token': '▁s', 'token_id': 365, 'type': 'input', 'position': 248}, {'token': 'ternal', 'token_id': 4459, 'type': 'input', 'position': 249}, {'token': '▁rub', 'token_id': 6538, 'type': 'input', 'position': 250}, {'token': '.', 'token_id': 114, 'type': 'input', 'position': 251}, {'token': '▁No', 'token_id': 1501, 'type': 'input', 'position': 252}, {'token': '▁movement', 'token_id': 3457, 'type': 'input', 'position': 253}, {'token': '▁of', 'token_id': 387, 'type': 'input', 'position': 254}, {'token': '▁extrem', 'token_id': 9064, 'type': 'input', 'position': 255}, {'token': 'ities', 'token_id': 972, 'type': 'input', 'position': 256}, {'token': '▁to', 'token_id': 385, 'type': 'input', 'position': 257}, {'token': '▁', 'token_id': 321, 'type': 'input', 'position': 258}, {'token': 'noxious', 'token_id': 40692, 'type': 'input', 'position': 259}, {'token': '▁stimulation', 'token_id': 20188, 'type': 'input', 'position': 260}, {'token': '.', 'token_id': 114, 'type': 'input', 'position': 261}, {'token': '▁P', 'token_id': 451, 'type': 'input', 'position': 262}, {'token': 'up', 'token_id': 1030, 'type': 'input', 'position': 263}, {'token': 'ils', 'token_id': 4588, 'type': 'input', 'position': 264}, {'token': '▁were', 'token_id': 648, 'type': 'input', 'position': 265}, {'token': '▁2', 'token_id': 463, 'type': 'input', 'position': 266}, {'token': '▁to', 'token_id': 385, 'type': 'input', 'position': 267}, {'token': '▁1', 'token_id': 453, 'type': 'input', 'position': 268}, {'token': '.', 'token_id': 114, 'type': 'input', 'position': 269}, {'token': '5', 'token_id': 121, 'type': 'input', 'position': 270}, {'token': '▁b', 'token_id': 376, 'type': 'input', 'position': 271}, {'token': 'ilaterally', 'token_id': 39808, 'type': 'input', 'position': 272}, {'token': '.', 'token_id': 114, 'type': 'input', 'position': 273}, {'token': '▁Trace', 'token_id': 35013, 'type': 'input', 'position': 274}, {'token': '▁corn', 'token_id': 11777, 'type': 'input', 'position': 275}, {'token': 'eal', 'token_id': 2388, 'type': 'input', 'position': 276}, {'token': '▁reflex', 'token_id': 24234, 'type': 'input', 'position': 277}, {'token': '▁with', 'token_id': 452, 'type': 'input', 'position': 278}, {'token': '▁trace', 'token_id': 12955, 'type': 'input', 'position': 279}, {'token': '▁pup', 'token_id': 15653, 'type': 'input', 'position': 280}, {'token': 'illary', 'token_id': 15957, 'type': 'input', 'position': 281}, {'token': '▁response', 'token_id': 2983, 'type': 'input', 'position': 282}, {'token': '.', 'token_id': 114, 'type': 'input', 'position': 283}, {'token': '▁G', 'token_id': 503, 'type': 'input', 'position': 284}, {'token': 'CS', 'token_id': 8003, 'type': 'input', 'position': 285}, {'token': '=', 'token_id': 129, 'type': 'input', 'position': 286}, {'token': '3', 'token_id': 119, 'type': 'input', 'position': 287}, {'token': 'T', 'token_id': 152, 'type': 'input', 'position': 288}, {'token': '▁on', 'token_id': 420, 'type': 'input', 'position': 289}, {'token': '▁sed', 'token_id': 10182, 'type': 'input', 'position': 290}, {'token': 'ation', 'token_id': 442, 'type': 'input', 'position': 291}, {'token': '.', 'token_id': 114, 'type': 'input', 'position': 292}, {'token': '▁Neuro', 'token_id': 13883, 'type': 'input', 'position': 293}, {'token': '▁exam', 'token_id': 2915, 'type': 'input', 'position': 294}, {'token': '▁repeated', 'token_id': 5201, 'type': 'input', 'position': 295}, {'token': '▁after', 'token_id': 807, 'type': 'input', 'position': 296}, {'token': '▁pt', 'token_id': 43076, 'type': 'input', 'position': 297}, {'token': '▁returned', 'token_id': 4605, 'type': 'input', 'position': 298}, {'token': '▁from', 'token_id': 523, 'type': 'input', 'position': 299}, {'token': '▁CT', 'token_id': 16457, 'type': 'input', 'position': 300}, {'token': '▁scan', 'token_id': 9468, 'type': 'input', 'position': 301}, {'token': '.', 'token_id': 114, 'type': 'input', 'position': 302}, {'token': '▁Note', 'token_id': 5841, 'type': 'input', 'position': 303}, {'token': ':', 'token_id': 126, 'type': 'input', 'position': 304}, {'token': '▁while', 'token_id': 1082, 'type': 'input', 'position': 305}, {'token': '▁in', 'token_id': 388, 'type': 'input', 'position': 306}, {'token': '▁scanner', 'token_id': 27575, 'type': 'input', 'position': 307}, {'token': ',', 'token_id': 112, 'type': 'input', 'position': 308}, {'token': '▁pt', 'token_id': 43076, 'type': 'input', 'position': 309}, {'token': '▁had', 'token_id': 651, 'type': 'input', 'position': 310}, {'token': '▁some', 'token_id': 718, 'type': 'input', 'position': 311}, {'token': '▁spontaneous', 'token_id': 25420, 'type': 'input', 'position': 312}, {'token': '▁upper', 'token_id': 6828, 'type': 'input', 'position': 313}, {'token': '▁ext', 'token_id': 1171, 'type': 'input', 'position': 314}, {'token': '.', 'token_id': 114, 'type': 'input', 'position': 315}, {'token': '▁movement', 'token_id': 3457, 'type': 'input', 'position': 316}, {'token': '.', 'token_id': 114, 'type': 'input', 'position': 317}, {'token': '▁On', 'token_id': 1651, 'type': 'input', 'position': 318}, {'token': '▁exam', 'token_id': 2915, 'type': 'input', 'position': 319}, {'token': ':', 'token_id': 126, 'type': 'input', 'position': 320}, {'token': '▁Pt', 'token_id': 34453, 'type': 'input', 'position': 321}, {'token': '▁without', 'token_id': 1332, 'type': 'input', 'position': 322}, {'token': '▁eye', 'token_id': 4252, 'type': 'input', 'position': 323}, {'token': '▁opening', 'token_id': 4857, 'type': 'input', 'position': 324}, {'token': '▁to', 'token_id': 385, 'type': 'input', 'position': 325}, {'token': '▁voice', 'token_id': 3910, 'type': 'input', 'position': 326}, {'token': '▁or', 'token_id': 494, 'type': 'input', 'position': 327}, {'token': '▁', 'token_id': 321, 'type': 'input', 'position': 328}, {'token': 'noxious', 'token_id': 40692, 'type': 'input', 'position': 329}, {'token': '▁stim', 'token_id': 7233, 'type': 'input', 'position': 330}, {'token': '.', 'token_id': 114, 'type': 'input', 'position': 331}, {'token': '▁?', 'token_id': 5734, 'type': 'input', 'position': 332}, {'token': '▁follow', 'token_id': 1162, 'type': 'input', 'position': 333}, {'token': '▁commands', 'token_id': 9830, 'type': 'input', 'position': 334}, {'token': '▁->', 'token_id': 4714, 'type': 'input', 'position': 335}, {'token': 'm', 'token_id': 177, 'type': 'input', 'position': 336}, {'token': 'oved', 'token_id': 2769, 'type': 'input', 'position': 337}, {'token': '▁feet', 'token_id': 3726, 'type': 'input', 'position': 338}, {'token': '▁x', 'token_id': 2225, 'type': 'input', 'position': 339}, {'token': '▁2', 'token_id': 463, 'type': 'input', 'position': 340}, {'token': '▁to', 'token_id': 385, 'type': 'input', 'position': 341}, {'token': '▁request', 'token_id': 2682, 'type': 'input', 'position': 342}, {'token': '▁of', 'token_id': 387, 'type': 'input', 'position': 343}, {'token': '▁w', 'token_id': 367, 'type': 'input', 'position': 344}, {'token': 'iggle', 'token_id': 24183, 'type': 'input', 'position': 345}, {'token': '▁toes', 'token_id': 24033, 'type': 'input', 'position': 346}, {'token': '.', 'token_id': 114, 'type': 'input', 'position': 347}, {'token': '▁Pt', 'token_id': 34453, 'type': 'input', 'position': 348}, {'token': '▁local', 'token_id': 2058, 'type': 'input', 'position': 349}, {'token': 'izes', 'token_id': 4441, 'type': 'input', 'position': 350}, {'token': '▁brisk', 'token_id': 36085, 'type': 'input', 'position': 351}, {'token': 'ly', 'token_id': 407, 'type': 'input', 'position': 352}, {'token': '▁with', 'token_id': 452, 'type': 'input', 'position': 353}, {'token': '▁R', 'token_id': 472, 'type': 'input', 'position': 354}, {'token': 'UE', 'token_id': 9025, 'type': 'input', 'position': 355}, {'token': ',', 'token_id': 112, 'type': 'input', 'position': 356}, {'token': '▁Ext', 'token_id': 5784, 'type': 'input', 'position': 357}, {'token': 'ensor', 'token_id': 22955, 'type': 'input', 'position': 358}, {'token': '▁post', 'token_id': 1382, 'type': 'input', 'position': 359}, {'token': 'ures', 'token_id': 1043, 'type': 'input', 'position': 360}, {'token': '▁with', 'token_id': 452, 'type': 'input', 'position': 361}, {'token': '▁L', 'token_id': 507, 'type': 'input', 'position': 362}, {'token': 'UE', 'token_id': 9025, 'type': 'input', 'position': 363}, {'token': ',', 'token_id': 112, 'type': 'input', 'position': 364}, {'token': '▁w', 'token_id': 367, 'type': 'input', 'position': 365}, {'token': '/', 'token_id': 115, 'type': 'input', 'position': 366}, {'token': 'd', 'token_id': 168, 'type': 'input', 'position': 367}, {'token': \"'s\", 'token_id': 439, 'type': 'input', 'position': 368}, {'token': '▁b', 'token_id': 376, 'type': 'input', 'position': 369}, {'token': '/', 'token_id': 115, 'type': 'input', 'position': 370}, {'token': 'l', 'token_id': 176, 'type': 'input', 'position': 371}, {'token': '▁LE', 'token_id': 12610, 'type': 'input', 'position': 372}, {'token': \"'s\", 'token_id': 439, 'type': 'input', 'position': 373}, {'token': '▁to', 'token_id': 385, 'type': 'input', 'position': 374}, {'token': '▁', 'token_id': 321, 'type': 'input', 'position': 375}, {'token': 'noxious', 'token_id': 40692, 'type': 'input', 'position': 376}, {'token': ',', 'token_id': 112, 'type': 'input', 'position': 377}, {'token': '▁no', 'token_id': 746, 'type': 'input', 'position': 378}, {'token': '▁c', 'token_id': 370, 'type': 'input', 'position': 379}, {'token': 'lon', 'token_id': 15096, 'type': 'input', 'position': 380}, {'token': 'us', 'token_id': 486, 'type': 'input', 'position': 381}, {'token': '.', 'token_id': 114, 'type': 'input', 'position': 382}, {'token': '▁Pt', 'token_id': 34453, 'type': 'input', 'position': 383}, {'token': '▁lightly', 'token_id': 15477, 'type': 'input', 'position': 384}, {'token': '▁chewing', 'token_id': 36716, 'type': 'input', 'position': 385}, {'token': '▁on', 'token_id': 420, 'type': 'input', 'position': 386}, {'token': '▁E', 'token_id': 513, 'type': 'input', 'position': 387}, {'token': 'TT', 'token_id': 15852, 'type': 'input', 'position': 388}, {'token': '.', 'token_id': 114, 'type': 'input', 'position': 389}, {'token': '▁G', 'token_id': 503, 'type': 'input', 'position': 390}, {'token': 'CS', 'token_id': 8003, 'type': 'input', 'position': 391}, {'token': '=', 'token_id': 129, 'type': 'input', 'position': 392}, {'token': '▁E', 'token_id': 513, 'type': 'input', 'position': 393}, {'token': '=', 'token_id': 129, 'type': 'input', 'position': 394}, {'token': '1', 'token_id': 117, 'type': 'input', 'position': 395}, {'token': ',', 'token_id': 112, 'type': 'input', 'position': 396}, {'token': '▁M', 'token_id': 438, 'type': 'input', 'position': 397}, {'token': '=', 'token_id': 129, 'type': 'input', 'position': 398}, {'token': '5', 'token_id': 121, 'type': 'input', 'position': 399}, {'token': ',', 'token_id': 112, 'type': 'input', 'position': 400}, {'token': '▁V', 'token_id': 670, 'type': 'input', 'position': 401}, {'token': '=', 'token_id': 129, 'type': 'input', 'position': 402}, {'token': '1', 'token_id': 117, 'type': 'input', 'position': 403}, {'token': 'T', 'token_id': 152, 'type': 'input', 'position': 404}, {'token': '▁=', 'token_id': 897, 'type': 'input', 'position': 405}, {'token': '▁7', 'token_id': 868, 'type': 'input', 'position': 406}, {'token': 'T', 'token_id': 152, 'type': 'input', 'position': 407}, {'token': '▁HE', 'token_id': 11280, 'type': 'input', 'position': 408}, {'token': 'ENT', 'token_id': 3626, 'type': 'input', 'position': 409}, {'token': ':', 'token_id': 126, 'type': 'input', 'position': 410}, {'token': '▁+', 'token_id': 1444, 'type': 'input', 'position': 411}, {'token': '▁Rac', 'token_id': 24847, 'type': 'input', 'position': 412}, {'token': 'coon', 'token_id': 21013, 'type': 'input', 'position': 413}, {'token': \"'s\", 'token_id': 439, 'type': 'input', 'position': 414}, {'token': '▁sign', 'token_id': 1152, 'type': 'input', 'position': 415}, {'token': ',', 'token_id': 112, 'type': 'input', 'position': 416}, {'token': '▁Neg', 'token_id': 13597, 'type': 'input', 'position': 417}, {'token': '▁battles', 'token_id': 10282, 'type': 'input', 'position': 418}, {'token': '▁sign', 'token_id': 1152, 'type': 'input', 'position': 419}, {'token': ',', 'token_id': 112, 'type': 'input', 'position': 420}, {'token': '▁negative', 'token_id': 4734, 'type': 'input', 'position': 421}, {'token': '▁he', 'token_id': 440, 'type': 'input', 'position': 422}, {'token': 'mot', 'token_id': 28027, 'type': 'input', 'position': 423}, {'token': 'ym', 'token_id': 5049, 'type': 'input', 'position': 424}, {'token': 'pa', 'token_id': 9058, 'type': 'input', 'position': 425}, {'token': 'num', 'token_id': 22611, 'type': 'input', 'position': 426}, {'token': ',', 'token_id': 112, 'type': 'input', 'position': 427}, {'token': '▁negative', 'token_id': 4734, 'type': 'input', 'position': 428}, {'token': '▁C', 'token_id': 428, 'type': 'input', 'position': 429}, {'token': 'SF', 'token_id': 20903, 'type': 'input', 'position': 430}, {'token': '▁r', 'token_id': 475, 'type': 'input', 'position': 431}, {'token': 'hin', 'token_id': 20180, 'type': 'input', 'position': 432}, {'token': 'orr', 'token_id': 38991, 'type': 'input', 'position': 433}, {'token': 'hea', 'token_id': 21733, 'type': 'input', 'position': 434}, {'token': '/', 'token_id': 115, 'type': 'input', 'position': 435}, {'token': 'ot', 'token_id': 414, 'type': 'input', 'position': 436}, {'token': 'orr', 'token_id': 38991, 'type': 'input', 'position': 437}, {'token': 'hea', 'token_id': 21733, 'type': 'input', 'position': 438}, {'token': '.', 'token_id': 114, 'type': 'input', 'position': 439}, {'token': '▁Neck', 'token_id': 34827, 'type': 'input', 'position': 440}, {'token': ':', 'token_id': 126, 'type': 'input', 'position': 441}, {'token': '▁In', 'token_id': 655, 'type': 'input', 'position': 442}, {'token': '▁collar', 'token_id': 20009, 'type': 'input', 'position': 443}, {'token': '.', 'token_id': 114, 'type': 'input', 'position': 444}, {'token': '▁Lun', 'token_id': 20049, 'type': 'input', 'position': 445}, {'token': 'gs', 'token_id': 14643, 'type': 'input', 'position': 446}, {'token': ':', 'token_id': 126, 'type': 'input', 'position': 447}, {'token': '▁clear', 'token_id': 1699, 'type': 'input', 'position': 448}, {'token': '▁/', 'token_id': 1321, 'type': 'input', 'position': 449}, {'token': '▁?', 'token_id': 5734, 'type': 'input', 'position': 450}, {'token': '▁R', 'token_id': 472, 'type': 'input', 'position': 451}, {'token': '▁lower', 'token_id': 2894, 'type': 'input', 'position': 452}, {'token': '▁lobe', 'token_id': 50019, 'type': 'input', 'position': 453}, {'token': '▁r', 'token_id': 475, 'type': 'input', 'position': 454}, {'token': 'hon', 'token_id': 24231, 'type': 'input', 'position': 455}, {'token': 'chi', 'token_id': 11173, 'type': 'input', 'position': 456}, {'token': '▁Card', 'token_id': 5273, 'type': 'input', 'position': 457}, {'token': 'iac', 'token_id': 9708, 'type': 'input', 'position': 458}, {'token': ':', 'token_id': 126, 'type': 'input', 'position': 459}, {'token': '▁s', 'token_id': 365, 'type': 'input', 'position': 460}, {'token': '1', 'token_id': 117, 'type': 'input', 'position': 461}, {'token': '▁s', 'token_id': 365, 'type': 'input', 'position': 462}, {'token': '2', 'token_id': 118, 'type': 'input', 'position': 463}, {'token': '▁R', 'token_id': 472, 'type': 'input', 'position': 464}, {'token': 'RR', 'token_id': 21196, 'type': 'input', 'position': 465}, {'token': '▁Abd', 'token_id': 17971, 'type': 'input', 'position': 466}, {'token': ':', 'token_id': 126, 'type': 'input', 'position': 467}, {'token': '▁Soft', 'token_id': 8398, 'type': 'input', 'position': 468}, {'token': '▁Extrem', 'token_id': 47972, 'type': 'input', 'position': 469}, {'token': ':', 'token_id': 126, 'type': 'input', 'position': 470}, {'token': '▁Warm', 'token_id': 25793, 'type': 'input', 'position': 471}, {'token': '▁and', 'token_id': 391, 'type': 'input', 'position': 472}, {'token': '▁well', 'token_id': 981, 'type': 'input', 'position': 473}, {'token': '-', 'token_id': 113, 'type': 'input', 'position': 474}, {'token': 'pe', 'token_id': 532, 'type': 'input', 'position': 475}, {'token': 'rf', 'token_id': 41972, 'type': 'input', 'position': 476}, {'token': 'used', 'token_id': 1585, 'type': 'input', 'position': 477}, {'token': '▁/', 'token_id': 1321, 'type': 'input', 'position': 478}, {'token': '▁no', 'token_id': 746, 'type': 'input', 'position': 479}, {'token': '▁ed', 'token_id': 1326, 'type': 'input', 'position': 480}, {'token': 'ema', 'token_id': 19788, 'type': 'input', 'position': 481}, {'token': '.', 'token_id': 114, 'type': 'input', 'position': 482}, {'token': '<unk>', 'token_id': 100, 'type': 'input', 'position': 483}, {'token': '▁FAM', 'token_id': 42230, 'type': 'input', 'position': 484}, {'token': 'ILY', 'token_id': 33441, 'type': 'input', 'position': 485}, {'token': '▁H', 'token_id': 468, 'type': 'input', 'position': 486}, {'token': 'ISTORY', 'token_id': 42581, 'type': 'input', 'position': 487}, {'token': ':', 'token_id': 126, 'type': 'input', 'position': 488}, {'token': '▁Non', 'token_id': 8605, 'type': 'input', 'position': 489}, {'token': '-', 'token_id': 113, 'type': 'input', 'position': 490}, {'token': 'cont', 'token_id': 3743, 'type': 'input', 'position': 491}, {'token': 'rib', 'token_id': 923, 'type': 'input', 'position': 492}, {'token': 'utory', 'token_id': 18058, 'type': 'input', 'position': 493}, {'token': '<unk>', 'token_id': 100, 'type': 'input', 'position': 494}, {'token': '▁SOC', 'token_id': 31531, 'type': 'input', 'position': 495}, {'token': 'IAL', 'token_id': 12677, 'type': 'input', 'position': 496}, {'token': '▁H', 'token_id': 468, 'type': 'input', 'position': 497}, {'token': 'ISTORY', 'token_id': 42581, 'type': 'input', 'position': 498}, {'token': ':', 'token_id': 126, 'type': 'input', 'position': 499}, {'token': '▁Married', 'token_id': 44199, 'type': 'input', 'position': 500}, {'token': ',', 'token_id': 112, 'type': 'input', 'position': 501}, {'token': '▁resides', 'token_id': 29177, 'type': 'input', 'position': 502}, {'token': '▁at', 'token_id': 480, 'type': 'input', 'position': 503}, {'token': '▁home', 'token_id': 1464, 'type': 'input', 'position': 504}, {'token': '▁with', 'token_id': 452, 'type': 'input', 'position': 505}, {'token': '▁wife', 'token_id': 3757, 'type': 'input', 'position': 506}, {'token': '.', 'token_id': 114, 'type': 'input', 'position': 507}, {'token': '<unk>', 'token_id': 100, 'type': 'input', 'position': 508}, {'token': '▁', 'token_id': 321, 'type': 'input', 'position': 509}, {'token': '[SEP]', 'token_id': 66, 'type': 'input', 'position': 510}], 'factors': [[[0.0001901228097267449, 0.006784292869269848, 0.0004180455580353737, 0.0, 0.0, 0.0, 0.0, 0.0, 0.0, 0.0, 0.0, 0.0, 0.0, 0.0, 0.0009920562151819468, 0.0007146323914639652, 0.0, 0.0, 0.005015155766159296, 0.0, 0.00019942884682677686, 0.0, 0.0, 0.0, 0.0, 0.0, 0.0, 0.0, 0.00015504990005865693, 0.0, 0.0, 0.0006383616710081697, 0.0, 0.014360710978507996, 0.0021008227486163378, 0.0, 0.005614958703517914, 0.0, 0.0, 3.1804988384246826, 0.0, 0.0, 0.0, 0.0, 0.0, 0.0, 0.0, 0.0, 3.151482105255127, 0.0, 0.0, 0.0, 0.0, 0.0, 0.0, 0.0, 0.0, 0.0, 0.0, 2.8715384006500244, 0.0, 0.0, 0.0018665327224880457, 0.012156202457845211, 0.0009049415239132941, 0.0, 3.0489914417266846, 0.0, 0.0, 0.0, 0.0, 0.0, 0.0, 0.0, 0.0, 0.0, 0.0, 0.0, 0.0, 0.0, 0.0, 0.0, 0.0, 0.0, 0.0, 0.0, 0.0, 0.0, 0.0, 0.0, 0.0, 0.0, 0.0, 0.0, 0.0, 0.0, 0.0, 0.0, 0.0, 0.0, 0.0, 0.0, 0.0, 0.0, 0.0, 0.0, 3.077817678451538, 0.0, 0.007087599020451307, 0.0, 0.0, 0.0, 3.151393413543701, 0.0, 0.0, 0.0015749967424198985, 0.0, 0.0, 0.0, 0.0, 0.0, 0.0, 0.0, 0.0, 0.0, 0.0, 0.0, 0.0, 0.0, 0.0, 0.0, 0.0, 0.0, 0.0, 0.0, 0.0, 0.0, 0.0, 0.0, 0.0, 0.0, 0.0, 0.0, 0.0, 0.0, 0.0, 0.0, 0.0, 0.0, 0.0, 0.0, 0.0, 0.0, 0.0, 0.0, 0.0, 0.0, 0.0, 0.0, 0.0, 0.0, 0.0, 0.0, 0.002653187606483698, 0.0, 0.0, 0.0, 0.0, 0.0, 0.0, 0.0, 0.0, 0.0, 0.0, 0.0, 0.0, 0.0, 0.0, 0.0, 0.0, 0.0, 0.0, 0.0, 0.0, 0.0, 0.0, 0.0, 0.0, 0.0, 0.0, 0.0, 0.0, 0.0, 0.0, 0.0, 0.0, 0.0, 0.0, 0.0, 0.0, 0.0, 0.0, 0.0, 0.0, 0.0, 0.0, 0.0, 0.001201182953082025, 0.0, 0.000591222895309329, 0.0, 0.0, 3.1108312606811523, 3.0384304523468018, 0.0, 3.1040618419647217, 3.083281993865967, 3.1762049198150635, 3.1146678924560547, 0.0, 0.0, 0.0, 0.0, 0.0, 0.0, 0.0, 0.0, 0.0007981602102518082, 0.006159608252346516, 0.0, 0.0, 0.0, 0.0, 3.001204252243042, 0.0, 3.1569361686706543, 0.0, 3.113917827606201, 0.0, 0.0, 0.0, 0.0, 0.0, 0.0, 0.0, 8.8574415713083e-06, 0.0, 0.0, 0.2515367865562439, 0.0, 0.0, 0.0, 0.0, 0.0, 3.0737802982330322, 0.0, 3.1620960235595703, 0.00026417840854264796, 3.0303306579589844, 0.0, 0.0, 0.0, 0.0, 0.0, 0.0, 0.002098923781886697, 0.0, 0.0, 0.0, 0.0, 0.0, 0.0, 0.0029780040495097637, 0.0, 0.0, 0.0, 0.0, 0.0, 0.0, 0.0, 3.0749921798706055, 3.2253992557525635, 0.0, 0.0, 0.0, 0.0, 0.002025642665103078, 0.0, 0.0008272882550954819, 0.002495094435289502, 0.0, 0.0, 0.0, 0.0, 0.0, 0.001591197680681944, 0.001446839072741568, 0.0, 0.0, 0.0, 0.0, 0.0, 0.0, 0.0008055362268351018, 0.0, 0.0031299609690904617, 0.0, 0.0, 0.0, 0.0, 0.0, 0.0, 0.0, 0.0, 0.0, 0.0, 0.0, 0.0, 0.0, 0.0, 0.0, 0.0, 0.0031377929262816906, 0.0, 0.0, 0.0, 0.0, 0.0, 0.0, 0.0, 0.0, 0.0, 0.0, 0.0, 0.0, 0.0, 2.997006893157959, 0.0, 0.0, 0.0, 0.0, 0.0, 0.0, 3.0558176040649414, 3.0039186477661133, 0.0, 0.0, 0.0, 0.0, 0.0, 0.0, 0.00017733716231305152, 0.0, 0.0, 0.0, 0.0, 0.0, 0.0, 0.0, 3.008411407470703, 0.0, 0.0, 0.0, 0.0, 0.0, 0.0, 0.0, 0.0, 0.0, 0.0, 0.0, 0.0, 0.0, 0.0, 0.0, 3.0008270740509033, 0.0, 0.0, 0.0, 3.0610828399658203, 0.0, 0.0, 0.0, 0.0016042512143030763, 0.003769985865801573, 0.0015863535227254033, 0.006432799156755209, 0.0, 0.0, 0.0, 0.0, 0.0, 0.0, 0.0, 0.0, 0.0, 0.0, 0.0, 0.0, 0.0, 0.0, 0.0, 0.0, 0.0, 0.0, 0.0021043941378593445, 5.8775523939402774e-05, 0.0, 0.0, 0.0, 0.0, 0.0, 0.0, 0.0, 0.0, 0.0007038809708319604, 0.0, 0.0, 0.002900937106460333, 0.0025830420199781656, 0.0, 0.0, 2.572641372680664, 3.098029136657715, 3.0550549030303955, 3.048722267150879, 0.0, 0.0, 0.0015655097085982561, 0.0, 0.0, 0.0, 0.0, 0.0, 0.0, 0.0, 0.0, 0.0, 0.0, 0.0, 0.0, 0.0, 0.0, 0.0, 0.0, 0.0, 0.0, 0.0, 0.0, 0.0, 0.0, 0.0, 0.0, 0.0, 0.0, 0.0, 0.0, 0.0, 0.0, 0.0, 0.0, 0.0, 0.0, 0.0, 0.0, 0.0, 0.0, 0.0, 0.0, 0.0, 0.0, 0.0, 0.0, 0.0, 3.024705171585083, 3.0418055057525635, 3.107755422592163, 3.213571548461914, 0.0, 0.0, 3.043978452682495, 0.0, 0.0, 0.0, 0.0, 0.0, 0.0, 0.0, 0.0, 0.006545147858560085, 0.0014518563402816653, 3.158935070037842, 3.12217116355896, 0.0, 0.0, 0.0, 0.001613700413145125, 0.00038418269832618535, 0.00010996997298207134, 0.0043325708247721195, 0.011155431158840656, 0.0, 0.0, 0.0, 0.0009201218490488827, 0.0066826362162828445, 0.000598565791733563, 0.0, 0.0, 0.0, 0.0], [0.16980835795402527, 0.029125284403562546, 0.037543024867773056, 0.1281910240650177, 0.2665227949619293, 0.2241750955581665, 0.19748026132583618, 0.2984233796596527, 0.20863376557826996, 0.18258267641067505, 0.2855089008808136, 0.13393305242061615, 0.084849052131176, 1.0294432640075684, 0.0, 0.025482401251792908, 0.011390539817512035, 0.028540559113025665, 0.058151572942733765, 0.44211307168006897, 0.33718064427375793, 0.7681602239608765, 0.6600304245948792, 0.7803443670272827, 0.6916378140449524, 0.0669192522764206, 0.0, 0.07023382186889648, 0.887099027633667, 0.8061628937721252, 0.8702825903892517, 1.268354892730713, 1.3257067203521729, 0.7363349199295044, 0.9003175497055054, 0.9948773980140686, 0.9194371104240417, 0.8623224496841431, 0.9749153852462769, 0.01675751619040966, 1.5214078426361084, 0.6829693913459778, 0.26808083057403564, 0.07520872354507446, 0.20731092989444733, 0.1289530098438263, 0.14782258868217468, 0.04041077196598053, 0.0, 0.8496150970458984, 1.1135245561599731, 0.7841087579727173, 0.18420743942260742, 0.02942655421793461, 0.007032712455838919, 0.0, 0.0, 0.0005160594009794295, 0.017434081062674522, 0.01834617555141449, 0.8019998073577881, 0.6745982766151428, 0.7034231424331665, 0.5130116939544678, 0.4868766665458679, 0.7323654890060425, 0.08768380433320999, 1.5271004438400269, 1.5115032196044922, 0.4473133087158203, 0.19303704798221588, 0.023233603686094284, 0.0, 0.0, 0.0, 0.0, 0.0, 0.04764171317219734, 0.0, 0.10966452211141586, 0.0, 0.0, 0.0, 0.0, 0.0, 0.0, 0.0, 0.0, 0.0, 0.0, 0.0, 0.0, 0.0, 0.0, 0.5966183543205261, 0.575627326965332, 0.3565191924571991, 0.6423237919807434, 0.576551616191864, 0.026309804990887642, 0.010761243291199207, 0.0, 0.0, 0.0, 0.0, 2.7655745725496672e-05, 0.0, 0.22553108632564545, 0.019861094653606415, 0.013429302722215652, 0.09892594069242477, 0.048256367444992065, 0.0, 0.0, 0.3604217767715454, 0.17736420035362244, 0.5386182069778442, 0.08297251909971237, 0.0, 0.0, 0.0, 0.0, 0.0, 0.05420958995819092, 0.21962399780750275, 0.13451173901557922, 0.43639588356018066, 0.11996111273765564, 0.328980416059494, 0.05121389403939247, 0.03811163827776909, 0.0, 0.6089364290237427, 0.0, 0.0, 0.0, 0.0, 0.0, 0.0, 0.010860125534236431, 0.0, 0.0, 0.0, 0.0, 0.0, 0.0, 0.0, 0.0, 0.0, 0.0, 0.0, 0.0, 0.0, 0.0, 0.0, 0.0, 0.0, 0.0, 0.17160570621490479, 0.1854824721813202, 0.14522413909435272, 0.2538042366504669, 0.5010955333709717, 0.37739327549934387, 0.41702473163604736, 0.0, 0.0, 0.0, 0.0, 0.0, 0.0, 0.0, 0.230812668800354, 0.021422654390335083, 0.0, 0.041543252766132355, 0.0, 0.013813422992825508, 0.0, 0.025848498567938805, 0.0, 0.0, 0.0, 0.0, 0.0, 0.0, 0.0, 0.036545462906360626, 0.0, 0.0, 0.0, 0.0, 0.0, 0.0, 0.2323113977909088, 0.10180038958787918, 1.1900709867477417, 1.3606607913970947, 1.2009214162826538, 0.5507814884185791, 0.42116445302963257, 1.184187889099121, 1.3579045534133911, 1.31804621219635, 0.8475859761238098, 1.2165898084640503, 1.2234911918640137, 0.031008128076791763, 0.08870556205511093, 0.03792452812194824, 0.0, 0.18212434649467468, 0.0, 0.0, 0.0, 0.0, 0.0, 0.0, 0.0, 0.0, 0.0, 0.0, 0.0, 0.03956065699458122, 0.0, 0.0, 0.0055793654173612595, 0.004251930397003889, 0.15323060750961304, 0.45619121193885803, 0.3304736316204071, 0.4746820032596588, 1.121074914932251, 0.05627131089568138, 1.3640609979629517, 0.14722327888011932, 0.5062834620475769, 0.10760074108839035, 1.0685758590698242, 0.33783015608787537, 0.0, 0.0, 0.0, 0.0, 0.0, 0.05410297214984894, 0.0, 0.0, 0.16878734529018402, 0.0, 0.0, 0.0, 0.0, 0.0, 0.0, 0.0005272864946164191, 0.0, 0.0, 0.0, 0.29570233821868896, 0.02131033129990101, 0.0, 0.0, 0.0, 0.0, 0.0, 0.0, 0.0, 0.0, 0.0, 0.0, 0.0, 0.0, 0.0, 0.0, 0.0, 0.0, 0.0, 0.0, 0.0, 0.0, 0.0, 0.0, 0.0, 0.0, 0.0, 0.0, 0.0, 0.0, 0.0, 0.26154854893684387, 0.22511078417301178, 0.019765695556998253, 0.0, 0.0, 0.0, 0.0, 0.40700843930244446, 0.12473706901073456, 0.06174632906913757, 0.016826217994093895, 0.12576788663864136, 0.04636836796998978, 0.0, 0.0, 0.027805380523204803, 0.22601285576820374, 0.09167863428592682, 0.0, 0.2957557439804077, 0.0026651148218661547, 0.0, 0.025793524459004402, 0.0, 0.0, 0.08455084264278412, 0.0, 0.0, 0.0, 0.0, 0.0, 0.06337779760360718, 0.0, 0.11852564662694931, 0.013104959391057491, 0.0, 0.0, 0.0, 0.330747127532959, 0.1662733554840088, 0.0, 0.0, 0.0, 0.0, 0.0, 0.0, 0.0, 0.0, 0.0, 0.0, 0.0, 0.0, 0.0, 0.0, 0.0, 0.0, 0.0, 0.0, 0.02517464943230152, 0.0, 0.0, 0.0, 0.0, 0.0, 0.0, 0.0, 0.0, 0.0, 0.0, 0.0, 0.0, 0.0, 0.0, 0.0, 0.0, 0.0, 0.0, 0.0, 0.0, 0.0, 0.0, 0.0, 0.0, 0.0, 0.0, 0.0, 0.2685134708881378, 0.015317528508603573, 0.0, 0.0, 0.0, 0.0, 0.0, 0.0, 0.0, 0.03629031404852867, 0.0, 0.0, 0.0, 0.0, 0.0, 0.0, 0.0, 0.0, 0.0, 0.0, 0.0, 0.0, 0.0, 0.0, 0.0, 0.0, 0.0, 0.0, 0.0, 0.0, 0.0, 0.0, 0.0, 0.0, 0.0, 0.0, 0.0249286200851202, 0.06961125135421753, 0.0, 0.0014573594089597464, 0.0, 0.0038903418462723494, 0.0, 0.0, 0.0, 0.0, 0.032348643988370895, 0.0009775172220543027, 0.0, 0.0, 0.0, 0.0, 0.0, 0.0, 0.0, 0.0, 0.0, 0.0, 0.0, 0.0, 0.0, 0.0, 0.0, 0.0, 0.0, 0.0, 0.0, 0.025424756109714508, 0.0, 0.0, 0.0, 0.0, 0.0, 0.0, 0.0, 0.0, 0.0, 0.0, 0.0, 0.0, 0.0, 0.0, 0.0, 0.0, 0.0, 0.0, 0.0, 0.0, 0.0, 0.0, 0.0, 0.0, 0.0, 0.0, 0.0, 0.0, 0.0, 0.0021632490679621696, 0.0, 0.0, 0.0, 0.0051942928694188595, 0.0, 0.0, 0.0, 0.0, 0.24488465487957, 0.0, 0.0, 0.0, 0.0, 0.0, 0.0, 0.0, 0.0, 0.009702182374894619, 0.0031414583791047335, 0.0, 0.0, 0.0, 0.0, 0.0, 0.0, 0.03927769511938095, 0.11640956252813339, 0.10730733722448349, 0.16298893094062805, 0.32686367630958557, 0.27538907527923584, 0.20369820296764374, 0.15612037479877472, 0.6087720990180969, 0.0, 0.0, 0.3440694212913513], [0.04170471802353859, 0.30225256085395813, 0.13927733898162842, 0.0, 0.0, 0.0, 0.0, 0.0, 0.0, 0.0, 0.002967053558677435, 0.0, 0.00035897913039661944, 0.0, 0.18891805410385132, 0.08801258355379105, 0.056282490491867065, 0.13093477487564087, 0.04843997210264206, 0.0, 0.0, 0.014410538598895073, 0.04123484343290329, 0.050305288285017014, 0.0, 0.0, 0.0, 0.0, 0.0, 0.0, 0.0, 0.06222250312566757, 0.0, 0.0, 0.0, 0.0, 0.0, 0.0, 0.0, 0.0, 0.0, 0.004492297302931547, 0.06012747436761856, 0.01843404583632946, 0.0, 0.012214764952659607, 0.0, 0.02973983809351921, 0.08158546686172485, 0.027395499870181084, 0.0, 0.0, 0.0, 0.008530725724995136, 0.0, 0.0, 0.0, 0.0, 0.006961657200008631, 0.1294097900390625, 0.0, 0.0, 0.0, 0.0, 0.0, 0.0, 0.0, 0.0, 0.0, 0.6096014380455017, 0.07393069565296173, 0.0, 0.0, 0.0, 0.0, 0.0, 0.0, 0.0, 0.0, 0.0, 0.0, 0.0, 0.0, 0.0, 0.0, 0.0, 0.0, 0.0, 0.0, 0.0, 0.0, 0.0, 0.0, 0.0, 0.5599983334541321, 0.01121643278747797, 0.040218617767095566, 0.0, 0.0, 0.0, 0.00973784551024437, 0.0, 0.0, 0.0, 0.0, 0.002189676044508815, 0.057207901030778885, 0.0, 0.02886897698044777, 0.0, 0.0, 0.0, 0.011005536653101444, 0.0, 0.6475071310997009, 0.0382797047495842, 0.0, 0.0023611958604305983, 0.0, 0.0, 0.05911785364151001, 0.0, 0.2950839102268219, 0.0, 0.0, 0.0, 0.17179447412490845, 0.09858120232820511, 0.0, 0.0, 0.0, 0.0, 0.6317384243011475, 0.32652759552001953, 0.07001208513975143, 0.0, 0.0, 0.0, 0.03143169730901718, 0.0005015103379264474, 0.0, 0.04936736449599266, 0.0, 0.0, 0.0, 0.0, 0.0, 0.0, 0.0, 0.0, 0.0, 0.0, 0.0, 0.15841777622699738, 0.051864247769117355, 0.0, 0.0, 0.022981824353337288, 0.006443633697926998, 0.0, 0.0, 0.0, 0.0, 0.0, 0.0, 0.25688600540161133, 0.07616659253835678, 0.0, 0.0, 0.0, 0.0, 0.0, 0.0, 0.0, 0.0, 0.0, 0.0, 0.0, 0.0, 0.0, 0.0, 0.0, 0.0, 0.0, 0.0, 0.0, 0.0, 0.0, 0.0, 0.0, 0.0, 0.0, 0.0, 0.0, 0.0, 0.03826725482940674, 0.0, 0.0, 0.0, 0.0, 0.026798943057656288, 0.0, 0.0, 0.0, 0.0, 0.0, 0.0, 0.400075227022171, 0.021333152428269386, 0.0, 0.0, 0.142269104719162, 0.0, 0.0, 0.0, 0.0024931493680924177, 0.0, 0.0, 0.0, 0.30148011445999146, 0.0, 0.05978624150156975, 0.0, 0.0, 0.0, 0.0991898626089096, 0.031372614204883575, 0.07594562321901321, 0.0, 0.0, 0.19328132271766663, 0.07448412477970123, 0.0076026516035199165, 0.0, 0.0, 0.0, 0.0, 0.01443091407418251, 0.0, 0.0, 0.0, 0.0, 0.0, 0.8826208114624023, 0.13403870165348053, 0.011156410910189152, 0.0, 0.0, 0.25839099287986755, 0.0, 0.0, 0.7846091389656067, 0.11477994173765182, 0.0, 0.0, 0.0, 0.0, 0.0, 0.060639381408691406, 0.03612146154046059, 0.012930892407894135, 0.9753081202507019, 0.0, 0.0, 0.0, 0.08936119824647903, 0.0, 0.0, 0.0, 0.12181251496076584, 0.0, 0.0044793798588216305, 0.0, 0.862334668636322, 0.07809915393590927, 0.0, 0.0, 0.0, 0.041645124554634094, 0.0, 0.0, 0.0, 0.0, 0.9093859195709229, 0.07690703123807907, 0.0, 0.0, 0.0, 0.011681253090500832, 0.0, 0.0, 0.0, 0.9543752074241638, 0.08710034936666489, 0.036166779696941376, 0.015778793022036552, 0.02242180146276951, 0.07764409482479095, 0.0, 0.0, 0.0, 0.017123157158493996, 0.920685887336731, 0.1927819848060608, 0.14997494220733643, 0.03747786208987236, 0.0, 0.0260890144854784, 0.41481778025627136, 0.12095287442207336, 0.1562255620956421, 0.0623929500579834, 0.01182869728654623, 0.0, 0.0, 0.3040601909160614, 0.0, 0.9138761758804321, 0.13560792803764343, 0.06229425221681595, 0.2858983278274536, 0.1351936012506485, 0.026701847091317177, 0.0034609015565365553, 0.0, 0.0, 0.0, 0.0, 0.30466482043266296, 0.04228155314922333, 0.003924310673028231, 0.8994389176368713, 0.2108151912689209, 0.04932934790849686, 0.000189046302693896, 0.04487193748354912, 0.016461636871099472, 0.0, 0.0, 0.0, 0.0, 0.024698827415704727, 0.0, 0.0, 0.004835818894207478, 0.0, 0.0, 1.085800290107727, 0.1872706413269043, 0.011305526830255985, 0.08818576484918594, 0.01738550141453743, 0.10375696420669556, 0.012708068825304508, 0.0, 0.0, 0.05420035868883133, 0.0, 0.0, 0.0, 0.0, 0.0, 0.0, 0.0, 0.07729266583919525, 0.0, 0.022583698853850365, 0.0, 0.0, 0.0, 0.0, 0.0, 0.0, 0.0, 0.0, 0.030359892174601555, 0.04758104309439659, 0.280588299036026, 0.0, 0.050135537981987, 0.0, 0.0, 0.944474995136261, 0.21956081688404083, 0.016631435602903366, 0.0023124662693589926, 0.0, 0.0, 0.0, 0.8303065299987793, 0.12412948161363602, 0.0, 0.0, 0.0, 0.0, 0.0, 0.0, 0.0, 0.0, 0.0, 0.0, 0.0, 0.0, 0.0, 0.0, 0.0, 0.0, 0.0242324136197567, 0.046678606420755386, 0.0069245267659425735, 0.015330499038100243, 0.061536986380815506, 0.0, 0.055768899619579315, 0.0, 0.0011659013107419014, 0.0, 0.0, 0.0, 0.0, 0.08191533386707306, 0.0, 0.08287295699119568, 0.0, 0.0, 0.0, 0.0, 0.07069845497608185, 0.0, 0.0, 0.0, 0.0, 0.0, 0.0, 0.0, 0.0, 0.0, 0.0, 0.0, 1.021584391593933, 0.16948726773262024, 0.07905247807502747, 0.05757499113678932, 0.029119130223989487, 0.8401848077774048, 0.0656205490231514, 0.01949596032500267, 0.2095509171485901, 0.15232302248477936, 0.08488927036523819, 0.08953513950109482, 0.06548641622066498, 0.0, 0.0, 0.0, 0.0, 0.0, 0.0, 0.0, 0.0, 0.0, 0.0, 0.0, 0.0, 0.0, 0.0, 0.006919480860233307, 0.02063908986747265, 0.12216442823410034, 0.10770563781261444, 0.17325714230537415, 0.10011516511440277, 0.18952178955078125, 0.08882695436477661, 0.011642434634268284, 0.0, 0.0, 0.0, 0.20318901538848877, 0.02857665903866291, 0.0, 0.0, 0.8153699636459351, 0.37994834780693054, 0.111342653632164, 0.05691096559166908, 0.018896028399467468, 0.02719852887094021, 0.010239560157060623, 0.04548531398177147, 0.044482432305812836, 0.0, 0.011608720757067204, 0.04511211812496185, 0.2434665709733963, 0.19706572592258453, 0.12938077747821808, 0.07319369912147522, 0.08915933966636658, 0.11853554844856262, 0.08765984326601028, 0.3659670352935791, 0.14194850623607635, 0.03942873328924179, 0.0, 0.011356904171407223, 0.005249643232673407, 0.6052529215812683, 0.29783913493156433, 0.2239587903022766, 0.30356743931770325], [0.003986388444900513, 0.04915192723274231, 0.0362207368016243, 0.2006281614303589, 0.2531387507915497, 0.2579575181007385, 0.25564807653427124, 0.2414678931236267, 0.2513161599636078, 0.0, 0.03726280480623245, 0.0, 0.03178693726658821, 0.022419482469558716, 0.009099948219954967, 0.21988314390182495, 0.23993317782878876, 0.09950998425483704, 0.19750845432281494, 0.2219192236661911, 0.0, 0.0, 0.015426135621964931, 0.0014549384359270334, 0.0, 0.0, 0.0, 0.0, 0.02004123665392399, 0.05683458223938942, 0.07367745041847229, 0.0, 0.0, 0.0, 0.018181394785642624, 0.046603307127952576, 0.0, 0.015426038764417171, 0.0, 0.0, 0.0, 0.0, 0.0, 0.0, 0.0, 0.0, 0.0, 0.0, 0.0, 0.005970804486423731, 0.0, 0.0, 0.0, 0.007877495139837265, 0.12488161027431488, 0.13097108900547028, 0.016757937148213387, 0.02122650109231472, 0.0, 0.015886876732110977, 0.0, 0.0066862888634204865, 0.0402786023914814, 0.0, 0.0, 0.0, 0.0, 0.0, 0.0, 0.0, 0.02081160619854927, 0.0, 0.030515281483530998, 0.03745686262845993, 0.0, 0.0, 0.0, 0.0, 0.0, 0.0, 0.0018653604201972485, 0.0, 0.014345768839120865, 0.006128043867647648, 0.0, 0.0027021639980375767, 0.005739213898777962, 0.0, 0.0, 0.0, 0.0, 0.0, 0.0, 0.0, 0.0, 0.015816260129213333, 0.0, 0.0, 0.0, 0.0, 0.011276311241090298, 0.11737293004989624, 0.11854647845029831, 0.0029440068174153566, 0.0, 0.0, 0.00484636053442955, 0.041613467037677765, 5.742641405959148e-06, 0.0, 0.013275724835693836, 0.013006127439439297, 0.005974287632852793, 0.0, 0.0, 0.017287813127040863, 0.012630896642804146, 0.07705426961183548, 0.06904909759759903, 0.0, 0.0, 0.0, 0.014322212897241116, 0.06471152603626251, 0.043804485350847244, 0.0, 0.0, 0.0, 0.0, 0.0, 0.0, 0.0, 0.0, 0.01300481054931879, 0.25311753153800964, 0.2829398512840271, 0.277890682220459, 0.3062772750854492, 0.02236478589475155, 0.16920475661754608, 0.24153994023799896, 0.06225576251745224, 0.23468676209449768, 0.2985479533672333, 0.30838972330093384, 0.3028637766838074, 0.2849785387516022, 0.2660043239593506, 0.26080113649368286, 0.004970870912075043, 0.04664471372961998, 0.012093517929315567, 0.0, 0.029851650819182396, 0.23688358068466187, 0.2871500253677368, 0.29133978486061096, 0.02800995483994484, 0.12103384733200073, 0.1456114500761032, 0.08017077296972275, 0.015785565599799156, 0.08333822339773178, 0.03212663531303406, 0.10639261454343796, 0.01979779824614525, 0.2349662333726883, 0.32570719718933105, 0.3138972222805023, 0.31098833680152893, 0.3300916850566864, 0.05665471404790878, 0.2160213440656662, 0.29007500410079956, 0.04125078767538071, 0.22529657185077667, 0.04380105435848236, 0.21052812039852142, 0.02261735126376152, 0.026689326390624046, 0.19273537397384644, 0.01210366003215313, 0.019620945677161217, 0.008360976353287697, 0.02755044400691986, 0.1783519983291626, 0.00517928646877408, 0.015302848070859909, 0.11875069886445999, 0.026602594181895256, 0.11558261513710022, 0.034647513180971146, 0.15076854825019836, 0.08746729791164398, 0.032815612852573395, 0.017114242538809776, 0.0, 0.0, 0.00866802129894495, 0.13236147165298462, 0.0, 0.0, 0.0, 0.0, 0.0, 0.0, 0.0, 0.0, 0.0, 0.00955226831138134, 0.0, 0.0, 0.0, 0.0, 0.0, 0.0, 0.0, 0.0, 0.0, 0.0, 0.0, 0.0, 0.0, 0.010723273269832134, 0.013121183030307293, 0.025990620255470276, 0.19212934374809265, 0.0, 0.023110313341021538, 0.013692658394575119, 0.008480374701321125, 0.008014269173145294, 0.0, 0.0, 0.0, 0.0, 0.0, 0.0, 0.0, 0.0, 0.0, 0.0, 0.0, 0.0, 0.0, 0.0, 0.0, 0.0, 0.0, 0.0, 0.0, 0.0, 0.0, 0.0, 0.003428074298426509, 0.0, 0.0, 0.0, 0.0, 0.0, 0.0, 0.0, 0.014846287667751312, 0.04766734689474106, 0.04025159403681755, 0.0, 0.0, 0.0, 0.0, 0.0, 0.0, 0.0, 0.014466255903244019, 0.0, 0.0, 0.0, 0.0, 0.0, 0.0, 0.0, 0.0, 0.0, 0.0, 0.0, 0.13477224111557007, 0.20391978323459625, 0.020051008090376854, 0.0, 0.07949741184711456, 0.005794654134660959, 0.0, 0.0, 0.0, 0.014420744962990284, 0.015221542678773403, 0.007316832896322012, 0.0, 0.008591136895120144, 0.0, 0.003280624747276306, 0.0, 0.0, 0.024728460237383842, 0.14553938806056976, 0.0, 0.0, 0.0, 0.0, 0.0, 0.00679301330819726, 0.0, 0.0, 0.0, 0.0, 0.03574652969837189, 0.0007115136249922216, 0.0, 0.0, 0.056726135313510895, 0.04089181497693062, 0.0, 0.016680432483553886, 0.0, 0.0, 0.0, 0.0038008897099643946, 0.0020271337125450373, 0.0, 0.0, 0.0, 0.013971570879220963, 0.002917409874498844, 0.0, 0.0, 0.0015114080160856247, 0.0, 0.0, 0.0, 0.0, 0.0, 0.0, 0.011401205323636532, 0.0, 0.0013486561365425587, 0.0, 0.0, 0.0, 0.0, 0.013695738278329372, 0.0, 0.006281421519815922, 0.0, 0.004180135205388069, 0.0, 0.008533013984560966, 0.07420678436756134, 0.0, 0.0, 0.006993939634412527, 0.0, 0.0, 0.0, 0.0, 0.05313965678215027, 0.0, 0.0, 0.0, 0.0, 0.0, 0.0, 0.0, 0.0073011489585042, 0.04062383994460106, 0.0, 0.0, 0.0, 0.0, 0.0, 0.0, 0.0, 0.003249569796025753, 0.015555299818515778, 0.0, 0.0, 0.0, 0.0, 0.0, 0.029808377847075462, 0.08773113787174225, 0.015541056171059608, 0.14149615168571472, 0.19180385768413544, 0.03197843208909035, 0.1428738534450531, 0.0015030766371637583, 0.0, 0.017543133348226547, 0.09816187620162964, 0.0, 0.0, 0.013292890973389149, 0.11539354175329208, 0.0033238164614886045, 0.012973187491297722, 0.14134898781776428, 0.0, 0.0, 0.12879154086112976, 0.20586425065994263, 0.22819706797599792, 0.0, 0.0, 0.025184612721204758, 0.02538413740694523, 0.0, 0.0, 0.003849738510325551, 0.014463254250586033, 0.04190995916724205, 0.002521650865674019, 0.0, 0.0, 0.0, 0.0028016294818371534, 0.010144669562578201, 0.007782067637890577, 0.01427797693759203, 0.0, 0.0, 0.08817342668771744, 0.0753750130534172, 0.004201393108814955, 0.0051662977784872055, 0.022296197712421417, 0.02804468385875225, 0.0, 0.007332445587962866, 0.010726933367550373, 0.015750262886285782, 0.005998563952744007, 0.14904548227787018, 0.0, 0.011471349745988846, 0.009915772825479507, 0.0, 0.06606651842594147, 0.06688231229782104, 0.0, 0.0, 0.005899400915950537, 0.0, 0.02309383638203144, 0.0, 0.0, 0.0, 0.012598223052918911, 0.022846490144729614, 0.07919567078351974, 0.04584570974111557, 0.0, 0.0, 0.007171270437538624, 0.009336204268038273, 0.011394497007131577, 0.14845095574855804, 0.21337658166885376, 0.25454702973365784, 0.03445546329021454, 0.12605197727680206, 0.19045071303844452, 0.0, 0.0031504356302320957, 0.0, 0.0, 0.0, 0.0, 7.074645691318437e-05, 0.029411809518933296, 0.0, 0.0, 0.0, 0.0, 0.007946193218231201, 0.0, 0.17067945003509521, 0.24676991999149323, 0.2697907090187073, 0.25890010595321655, 0.0, 0.028845539316534996, 0.0, 0.004252081271260977, 0.007182525470852852, 0.024978000670671463, 0.021075483411550522, 0.16563858091831207, 0.23935922980308533, 0.2564753592014313, 0.2668837606906891, 0.0, 0.04739445075392723, 0.0, 0.0, 0.0, 0.0, 0.0, 0.0035281041637063026, 0.010531583800911903, 0.0, 0.04587132856249809, 0.01735866256058216], [0.0, 0.0, 0.0, 0.0, 0.0, 0.0, 0.0, 0.0, 0.0, 0.0, 0.0, 0.0, 0.0, 0.0, 0.0, 0.0, 0.0, 0.0, 0.0, 0.0, 0.0, 0.0, 0.0, 0.0, 0.0, 0.0, 0.000463852979009971, 0.0, 0.0, 0.0, 0.0, 0.0, 0.0, 0.0, 0.0, 0.0, 0.0, 0.0, 0.0, 0.4416552186012268, 0.0, 0.0, 0.00025410219677723944, 0.001977690029889345, 0.005845521576702595, 0.002476637251675129, 0.004420617129653692, 0.0, 0.36422860622406006, 0.0, 0.0, 0.0, 0.0, 0.0, 0.0, 0.0, 0.0, 0.0, 0.0, 0.0, 0.0, 0.0, 0.0, 0.0, 0.0, 0.0, 0.34341955184936523, 0.0, 0.0, 0.0, 0.0, 0.0, 0.0, 0.0, 0.0007455360610038042, 0.0, 0.0, 0.0, 0.0, 0.0, 0.0, 0.0, 0.0, 0.0, 0.0, 0.0, 0.0, 0.0, 0.0, 0.0, 0.0, 0.0016968294512480497, 0.002026849891990423, 0.0, 0.0, 0.0, 0.0, 0.0, 0.0, 0.0, 0.0, 0.0, 0.0, 0.0, 0.0, 0.0, 0.22217750549316406, 0.0, 0.0, 0.0, 0.0, 0.0, 0.04111604019999504, 0.0, 0.0, 0.0, 0.0, 0.0, 0.0, 0.0, 0.0, 0.0, 0.0, 0.0, 0.0, 0.0, 0.0, 0.0, 0.0, 0.0, 0.0, 0.0, 0.0, 0.0, 0.0, 0.0, 0.0, 0.0, 0.0, 0.0, 0.0, 0.0, 0.0, 0.0, 0.0, 0.0, 0.0, 0.0, 0.0, 0.0, 0.0, 0.000648253015242517, 0.0, 0.0, 0.0, 0.0, 0.0, 0.0, 0.0, 0.0, 0.00013950254651717842, 0.0, 0.0, 0.0, 0.0, 0.0, 0.0, 0.0, 0.0, 0.0, 0.0, 0.0, 0.0, 0.0, 0.0, 0.0, 0.0, 0.0, 0.0, 0.0, 0.0, 0.0, 0.0, 0.0, 0.00040827918564900756, 0.0, 0.0, 0.0, 0.0, 0.0, 0.0, 0.0, 0.0, 0.0, 0.0, 0.0, 0.012225805781781673, 0.0, 0.0, 0.0, 0.0, 0.0, 0.0, 0.0, 0.0, 0.0042984383180737495, 0.0, 0.0, 0.0, 0.0, 0.0, 0.03644024580717087, 0.17553509771823883, 0.36315926909446716, 0.0, 0.026802290230989456, 0.4232911765575409, 0.448629230260849, 0.20080901682376862, 0.0, 2.2727970645064488e-05, 0.004571135621517897, 0.0, 0.0008472680929116905, 0.0, 0.0, 0.0, 0.0, 0.0, 0.0, 0.0, 0.0, 0.0, 0.3952218294143677, 0.0, 0.15245109796524048, 0.0, 0.12228398025035858, 0.0, 0.0, 0.0, 0.0018645970849320292, 0.0, 0.0, 0.0, 0.0, 0.0, 0.0, 0.08978567272424698, 0.0, 0.0, 0.0, 0.0, 0.0, 0.2309655249118805, 0.0, 0.08818847686052322, 0.0, 0.27072417736053467, 0.0, 0.0, 0.0, 0.0, 0.0, 0.0, 0.0, 0.0, 0.0, 0.0, 0.0, 0.0, 0.0017799418419599533, 0.0, 0.0, 0.0, 0.001344240503385663, 0.0, 0.0, 0.0005064214346930385, 0.0001071948281605728, 0.27285563945770264, 0.06323638558387756, 0.0, 0.0, 0.0, 0.0, 0.0, 0.0, 0.0, 0.0, 0.0, 0.0, 0.0, 0.0, 0.0, 0.0, 0.0, 0.0, 0.0, 0.003210999071598053, 0.0, 0.0, 0.0, 0.0, 0.0, 0.0, 0.0, 0.0, 0.0, 0.0, 0.0, 0.0, 0.0, 0.0, 0.0, 0.0, 0.0, 0.0, 0.0, 0.0, 0.0, 0.0, 1.9436476577538997e-05, 0.0, 0.0, 0.0, 0.0, 0.0, 0.04052506759762764, 0.0, 0.0, 0.0, 0.0, 0.0, 0.0, 0.0003902585303876549, 0.3952217996120453, 0.0, 0.0, 0.0, 0.0, 0.0, 0.0, 0.2672975957393646, 0.37946391105651855, 3.390965866856277e-05, 0.0, 0.0, 0.0, 0.00014283331984188408, 0.0, 0.0001218067409354262, 0.0, 0.0, 0.0, 0.0, 0.0, 7.171624019974843e-05, 0.0, 0.0, 0.0, 0.0, 0.0, 0.0, 0.0, 4.3045645725214854e-05, 0.000256557745160535, 0.0, 0.0, 0.0, 0.0, 0.0, 0.0, 0.0, 0.0, 0.3811165988445282, 0.0, 0.0, 0.0, 0.057435158640146255, 0.0, 0.0, 0.0, 0.0, 0.00037201668601483107, 0.00020532439521048218, 0.0, 0.0, 0.0, 0.0, 0.0, 0.0, 0.0, 0.0, 0.0, 0.0, 0.0, 0.0, 0.0, 0.0, 0.0, 0.0, 0.0, 0.0, 0.0, 0.0, 0.0, 0.0, 0.0, 0.0, 0.0, 0.00020289649546612054, 0.002335259225219488, 0.0, 0.00010894636943703517, 0.0, 0.0, 0.0001916905166581273, 0.0, 0.0, 0.0, 0.0, 0.0, 0.2108001410961151, 0.3261544108390808, 0.38092663884162903, 0.0, 0.0, 0.0001009460975183174, 0.0, 0.0, 0.0070560951717197895, 0.0005940315895713866, 0.0049363900907337666, 0.0, 0.0, 0.0020374429877847433, 0.0, 0.0, 0.0, 0.0, 0.0, 0.0, 0.0, 0.0, 0.0, 0.0, 0.0, 0.0, 0.0, 0.0, 0.0, 0.0, 0.0, 0.0008353903540410101, 0.00010722209117375314, 0.0, 0.0, 0.0, 0.0, 0.0, 0.0, 0.0, 0.0, 0.0, 0.0, 0.0, 0.0, 0.0, 0.0, 0.0, 0.0, 0.0, 0.0031800498254597187, 0.3785209357738495, 0.4262516498565674, 0.3871154487133026, 0.09835104644298553, 0.0, 0.0, 0.3537292778491974, 0.0, 0.0033302628435194492, 0.0, 0.0, 0.0, 0.0, 0.0, 0.0, 0.0, 0.0011807100381702185, 0.1619943231344223, 0.15826772153377533, 0.00016250474436674267, 0.0, 0.0, 0.0, 0.0, 0.0, 0.0, 0.0, 0.0, 0.0, 0.0, 5.5818694818299264e-05, 0.0, 0.0011137042893096805, 0.0, 0.0, 0.0, 0.0061044939793646336], [0.0, 0.09620934724807739, 0.13328200578689575, 0.004104535095393658, 0.0, 0.0, 0.0, 0.0, 0.0, 0.0, 0.074769988656044, 0.12080208957195282, 0.08469018340110779, 0.015265349298715591, 0.15355396270751953, 0.02745051123201847, 0.020518075674772263, 0.08626178652048111, 0.02580277994275093, 0.0, 0.0, 0.06868511438369751, 0.04225211590528488, 0.013545804657042027, 8.133622031891719e-05, 0.0, 0.0229838564991951, 0.010008914396166801, 0.0002156130358343944, 0.0, 0.0, 0.0, 0.003955019637942314, 0.010708505287766457, 0.0, 0.0, 0.0, 0.0, 0.0, 0.0, 0.0, 0.036640916019678116, 0.11403699964284897, 0.17262805998325348, 0.1510513573884964, 0.1632045954465866, 0.15703581273555756, 0.16916513442993164, 0.0, 0.0, 0.0, 0.0, 0.10380551218986511, 0.17003943026065826, 0.08413053303956985, 0.11373194307088852, 0.2262732833623886, 0.1269882768392563, 0.16814878582954407, 0.029332775622606277, 0.0, 0.0, 0.0, 0.04503190144896507, 0.09123947471380234, 0.0, 0.0, 0.0, 0.0, 0.0, 0.0, 0.0, 0.0, 0.0, 0.12573112547397614, 0.04886142536997795, 0.0, 0.00900999829173088, 0.03160737827420235, 0.0, 0.03513480722904205, 0.01357758603990078, 0.028727978467941284, 0.03196907788515091, 0.16915230453014374, 0.08939701318740845, 0.0, 0.012074635364115238, 0.0416574627161026, 0.010092414915561676, 0.11549876630306244, 0.1631319224834442, 0.102275051176548, 0.09787376970052719, 0.0, 0.0, 0.0, 0.0, 0.0, 0.11743201315402985, 0.17530545592308044, 0.092017263174057, 0.10803630948066711, 0.22865509986877441, 0.18165650963783264, 0.1807049810886383, 0.016283875331282616, 0.0, 0.0, 0.0, 0.0, 0.0, 0.0, 0.0010954862227663398, 0.0, 0.0, 0.0016624018317088485, 0.0, 0.004885888192802668, 0.12919767200946808, 0.10635876655578613, 0.12273471802473068, 0.040414225310087204, 0.0, 0.0, 0.0, 0.0, 0.0, 0.0, 0.0, 0.0, 0.0, 0.0, 0.11357849836349487, 0.004308492876589298, 0.0, 0.0, 0.0, 0.0, 0.0, 0.0, 0.12693294882774353, 0.006079369690269232, 0.0, 0.0, 0.0, 0.0, 0.0, 0.0, 0.005224397871643305, 0.0022296567913144827, 0.02837933972477913, 0.01776370406150818, 0.13451528549194336, 0.014362551271915436, 0.0, 0.0, 0.0, 0.0, 0.0, 0.0, 0.0, 0.0, 0.0007802725303918123, 0.0, 0.13096913695335388, 0.025196854025125504, 0.0, 0.0, 0.0, 0.0, 0.007057259790599346, 0.0, 0.0, 0.018116768449544907, 0.01607847958803177, 0.03743221238255501, 0.026489531621336937, 0.0588560551404953, 0.11056938022375107, 0.036944929510354996, 0.06996174156665802, 0.11732008308172226, 0.14751526713371277, 0.13556362688541412, 0.04774216562509537, 0.0627007856965065, 0.1351214051246643, 0.05735991522669792, 0.1663084775209427, 0.11784831434488297, 0.19134147465229034, 0.0479876734316349, 0.039179861545562744, 0.07948043197393417, 0.06722715497016907, 0.0161873959004879, 0.0, 0.01444750465452671, 0.0, 0.0, 0.0, 0.0, 0.0, 0.0, 0.0, 0.0, 0.0, 0.0, 0.0, 0.0021563260816037655, 0.022241216152906418, 0.001949685043655336, 0.0, 0.004877747036516666, 0.0, 0.0, 0.0, 0.0, 0.047450803220272064, 0.05049699917435646, 0.06562594324350357, 0.008851869963109493, 0.008578148670494556, 0.023757873103022575, 0.10486075282096863, 0.015751749277114868, 0.0, 0.0, 0.0, 0.0, 0.011625697836279869, 0.0, 0.0, 0.0, 0.0, 0.0, 0.0, 0.0, 0.0, 0.0, 0.02543787844479084, 0.0, 0.0, 0.0, 0.0, 0.0, 0.0, 0.013324782252311707, 0.0, 0.0, 0.0, 0.0, 0.0, 0.0, 0.0, 0.0, 0.0, 0.0, 0.0, 0.0, 0.0, 0.0, 0.008201265707612038, 0.0, 0.002028627786785364, 0.12883813679218292, 0.08450161665678024, 0.16246473789215088, 0.1454126387834549, 0.1567528247833252, 0.07166283577680588, 0.010183727368712425, 0.0, 0.0, 0.00018447803449817002, 0.0, 0.0, 0.0, 0.0008410303271375597, 0.0, 0.0, 0.0, 0.0, 0.0168079175055027, 0.02954508364200592, 0.14493931829929352, 0.16083431243896484, 0.0, 0.0, 0.0, 0.0, 0.0, 0.0, 0.0, 0.012851889245212078, 0.007942846976220608, 0.019051935523748398, 0.0, 0.0, 0.0, 0.0, 0.0, 0.0, 0.0, 0.0, 0.0, 0.0, 0.0, 0.020114989951252937, 0.0, 0.0, 0.0, 0.007723633199930191, 0.03152291849255562, 0.045165494084358215, 0.0, 0.0, 0.0, 0.0038704683538526297, 0.0, 0.0, 0.0, 0.0, 0.0, 0.019290108233690262, 0.0, 0.0077385553158819675, 0.006539540830999613, 0.0, 0.0, 0.01494621578603983, 0.06389160454273224, 0.000621243380010128, 0.0, 0.057169921696186066, 0.002516178647056222, 0.008041386492550373, 0.0, 0.09267709404230118, 0.14172956347465515, 0.04706921428442001, 0.0018695058533921838, 0.0, 0.0, 0.0, 0.0, 0.0, 0.0, 0.0, 0.0, 0.0, 0.007759486325085163, 0.0, 0.0, 0.0, 0.0, 0.0, 0.0, 0.0, 0.0009455858962610364, 0.010566952638328075, 0.0, 0.0, 0.0, 0.08339326828718185, 0.14360828697681427, 0.10620278865098953, 0.09768487513065338, 0.11506859213113785, 0.15990915894508362, 0.12613032758235931, 0.049283891916275024, 0.10592332482337952, 0.022601846605539322, 0.0, 0.0, 0.0, 0.01500161737203598, 0.014907903037965298, 0.015168732963502407, 0.00987565889954567, 0.0, 0.0, 0.0, 0.0, 0.0, 0.0, 0.0, 0.0, 0.010264750570058823, 0.038485631346702576, 0.13902893662452698, 0.07659097015857697, 0.16553989052772522, 0.19487088918685913, 0.06841548532247543, 0.0706457644701004, 0.17428548634052277, 0.17816531658172607, 0.06282815337181091, 0.06800051033496857, 0.1698145866394043, 0.2039773166179657, 0.043256521224975586, 0.11216305941343307, 0.14953917264938354, 0.04129370301961899, 0.01255436334758997, 0.0, 0.0, 0.06662977486848831, 0.0, 0.0, 0.0294002965092659, 0.01321827620267868, 0.0, 0.008956936188042164, 0.0, 0.029074309393763542, 0.0, 0.04246433079242706, 0.013824580237269402, 0.0, 0.0, 0.002231125719845295, 0.009411354549229145, 0.0, 0.06278189271688461, 0.009795845486223698, 0.011429578065872192, 0.06571010500192642, 0.03337288275361061, 0.02578716166317463, 0.026485849171876907, 0.10603762418031693, 0.06377410143613815, 0.030905738472938538, 0.01903470605611801, 0.0, 0.0, 0.0, 0.0, 0.0, 0.0, 0.004307508934289217, 0.022246811538934708, 0.0, 0.003100399160757661, 0.09881714731454849, 0.08712483197450638, 0.0, 0.028238549828529358, 0.014497928321361542, 0.05381100997328758, 0.031596314162015915, 0.026984309777617455, 0.012967965565621853, 0.015148205682635307, 0.02619648166000843, 0.1551479697227478, 0.19757476449012756, 0.1640884131193161, 0.1973738670349121, 0.05551278963685036, 0.02294762246310711, 0.010324724949896336, 0.0, 0.0, 0.0, 0.0, 0.0, 0.0, 0.0027032922953367233, 0.0, 0.0023847981356084347, 0.0, 0.0, 0.04722943156957626, 0.011722780764102936, 0.0, 0.0, 0.0, 0.11352871358394623, 0.024974633008241653, 0.0, 0.0, 0.0, 0.0, 0.0, 0.045989878475666046, 0.007521533872932196, 0.0039821225218474865, 0.004291518125683069, 0.11564382910728455, 0.0049117859452962875, 0.0, 0.0, 0.0, 0.0, 0.0, 0.0, 0.0, 0.0, 0.0, 0.0, 0.004681939724832773, 0.002926013432443142, 0.14173196256160736, 0.1138191893696785, 0.02461073361337185], [0.0, 0.0, 0.0, 0.0, 0.0, 0.0, 0.0, 0.0, 0.0, 0.0, 0.0, 0.13030162453651428, 0.0, 0.0, 0.0, 0.0, 0.0, 0.0, 0.0, 0.0, 0.0, 0.0, 0.0, 0.0, 0.0, 0.0, 0.0, 0.0, 0.023610752075910568, 0.0, 0.0, 0.03403126820921898, 0.0, 0.0, 0.0, 0.0, 0.004582762718200684, 0.0, 0.19413137435913086, 0.0, 0.0, 0.0, 0.0, 0.0, 0.0, 0.0, 0.0, 0.0, 0.0, 0.0, 0.0, 0.0, 0.0, 0.0, 0.0, 0.0, 0.0, 0.0, 0.0, 0.0, 0.033466823399066925, 0.0, 0.0, 0.01913834549486637, 0.0, 0.1667385995388031, 0.0, 0.0, 0.0, 0.006060755345970392, 0.0, 0.0057116346433758736, 0.0, 0.02973238192498684, 0.0067170788533985615, 0.0, 0.7201777696609497, 0.0006471632514148951, 0.009129350073635578, 0.0, 0.641063928604126, 0.009888628497719765, 0.0, 0.002296732272952795, 0.01776077225804329, 0.008907525800168514, 0.8611522316932678, 0.009262926876544952, 0.0, 0.0, 0.10158330947160721, 0.0, 0.0, 0.0003695953346323222, 0.032627176493406296, 0.0, 0.0, 0.0, 0.0, 0.016146710142493248, 0.0, 0.0, 0.0, 0.0, 0.0, 0.0, 0.0, 0.0, 0.10487127304077148, 0.0, 0.0, 0.0, 0.0, 0.0, 0.0, 0.0, 0.0, 0.0072668022476136684, 0.0, 0.0, 0.0, 0.0, 0.05533137172460556, 0.0, 0.0, 0.0, 0.34754621982574463, 0.3146384358406067, 0.0, 0.0, 0.0, 0.0, 0.0, 0.0, 0.0, 0.0, 0.0, 0.0, 0.0, 0.0, 0.0, 0.023058772087097168, 0.016859719529747963, 0.011976120062172413, 0.01915956661105156, 0.01790194772183895, 0.027670150622725487, 0.007933365181088448, 0.0002721778582781553, 0.04295425862073898, 0.0, 0.0, 0.0, 0.008786528371274471, 0.014785245060920715, 0.0, 0.0, 0.0, 0.0, 0.0, 0.0, 0.0, 0.0, 0.0, 0.0, 0.0, 0.0, 0.0, 0.0, 0.0, 0.0, 0.0, 0.0, 0.0, 0.0, 0.0, 0.0060170311480760574, 0.0, 0.038366883993148804, 0.0, 0.09844355285167694, 0.04379284754395485, 0.0, 0.25201499462127686, 0.0, 0.0489204004406929, 0.0015865522436797619, 0.0, 0.16646240651607513, 0.0, 0.044211696833372116, 0.0, 0.028126686811447144, 0.0, 0.0, 0.18393489718437195, 0.0, 0.0, 0.0, 0.0, 0.0, 0.0, 0.0, 0.0, 0.11145643144845963, 0.0, 0.0, 0.3018108606338501, 0.030631588771939278, 0.0, 0.43177348375320435, 0.0, 0.0, 0.0, 0.021786879748106003, 0.007297895848751068, 0.0, 0.0, 0.0, 0.20484992861747742, 0.0, 0.017685944214463234, 0.0, 0.0, 0.0, 0.17183814942836761, 0.0, 0.0, 0.0, 0.0, 0.17676623165607452, 0.0, 0.0, 0.0, 0.0, 0.0, 0.11040902137756348, 0.0, 0.0, 0.0, 0.0, 0.0, 0.0, 0.08077222108840942, 0.0, 0.0, 0.0, 0.16730816662311554, 0.0, 0.0, 0.003174891695380211, 0.2571803629398346, 0.0, 0.0006496854475699365, 0.02482319436967373, 0.0, 0.0, 0.05886668339371681, 0.0, 0.0, 0.0, 0.05203692987561226, 0.0, 0.0, 0.0020685468334704638, 0.04216759651899338, 0.0, 0.1417296677827835, 0.0, 0.0, 0.0, 0.03686893731355667, 0.0, 0.19189445674419403, 0.026054928079247475, 0.005299115087836981, 0.0, 0.009569249115884304, 0.2138349711894989, 0.0195522028952837, 0.0, 0.0, 0.0, 0.1048872172832489, 0.0, 0.0, 0.0, 0.0, 0.014038794673979282, 0.008598830550909042, 0.0, 0.0, 0.0, 0.0, 0.0, 0.0, 0.006235215347260237, 0.0, 0.0, 0.0, 0.0, 0.0, 0.0, 0.0, 0.0, 0.0, 0.0, 0.0, 0.19979189336299896, 0.0, 0.0, 0.010527790524065495, 0.0, 0.004699730314314365, 0.008180150762200356, 0.024247191846370697, 0.0, 0.015623689629137516, 0.0, 0.0, 0.0, 0.0, 0.0069402302615344524, 0.0, 0.0, 0.03410148620605469, 0.0, 0.31028425693511963, 0.0, 0.0, 0.0, 0.014729171991348267, 0.01799079403281212, 0.01369988452643156, 0.0, 0.1320115625858307, 0.0, 0.01741139031946659, 0.019694151356816292, 0.08478162437677383, 0.009750335477292538, 0.0856022983789444, 0.018522001802921295, 0.024395044893026352, 0.0, 0.0, 0.0, 0.019820552319288254, 0.0, 0.0, 0.0, 0.0, 0.0, 0.07958313822746277, 0.0, 0.0, 0.763684093952179, 0.0, 0.0, 0.0, 0.04503652825951576, 0.15728649497032166, 0.0, 0.0005207521026022732, 0.870032787322998, 0.1190611720085144, 0.15304812788963318, 0.029478350654244423, 0.13491542637348175, 0.06784169375896454, 0.28207775950431824, 0.0409906767308712, 0.0395214781165123, 0.09691327065229416, 0.09887076914310455, 0.0, 0.0, 0.41114091873168945, 0.08821652084589005, 0.0, 0.0, 0.023951569572091103, 0.11841858178377151, 0.0122215012088418, 0.012574035674333572, 0.0, 0.02512122318148613, 0.0, 0.0, 0.1249430775642395, 0.00476971548050642, 0.014115848578512669, 0.025813652202486992, 0.004290414974093437, 0.03362252563238144, 0.0, 0.7319912910461426, 0.011478902772068977, 0.03905530273914337, 0.0, 0.7572696805000305, 0.027306126430630684, 0.015901830047369003, 0.0, 0.05524761602282524, 0.05482836067676544, 0.0, 0.036504365503787994, 0.014868324622511864, 0.00968872383236885, 0.05578615888953209, 0.09664913266897202, 0.0, 0.0, 0.09754642099142075, 0.023526426404714584, 0.9005893468856812, 0.06682100892066956, 0.0, 0.03428393229842186, 0.9247676730155945, 0.041131362318992615, 0.0, 0.0, 0.0026751153636723757, 0.0004348127404227853, 0.0125149916857481, 0.9158218502998352, 0.030075427144765854, 0.0015742703108116984, 0.0380808562040329, 0.020651856437325478, 0.0, 0.0, 0.006477859802544117, 0.38410884141921997, 0.0, 0.0, 0.0, 0.011916371993720531, 0.0, 0.0, 0.0, 0.0, 0.1117960512638092, 0.0, 0.0, 0.0, 0.0, 0.20933297276496887, 0.012461560778319836, 0.06075577065348625, 0.05226503685116768, 0.024626605212688446, 0.07338874042034149, 0.007988309487700462, 0.023363692685961723, 0.014927566982805729, 0.0, 0.14273250102996826, 0.03026599995791912, 0.01226096786558628, 0.0768427923321724, 0.0, 0.043631576001644135, 0.02626999281346798, 0.02221979759633541, 0.020105820149183273, 0.0, 0.0, 0.0, 0.0, 0.19919289648532867, 0.0, 0.013860180974006653, 0.0, 0.0, 0.0018194158328697085, 0.2629907429218292, 0.0300919096916914, 0.0, 0.0, 0.0, 0.0, 0.0, 0.0, 0.0, 0.0, 0.018721356987953186, 0.0, 0.04609788581728935, 0.0, 0.0, 0.0, 0.0, 0.0, 0.0, 0.0, 0.0, 0.0, 0.0, 0.3132794499397278, 0.0, 0.0, 0.0, 0.0, 0.0, 0.0, 0.0, 0.0, 0.0], [0.0, 0.0, 0.0, 0.07519922405481339, 0.0, 0.0, 0.0, 0.0, 0.0, 0.0, 0.01729174144566059, 0.0, 0.0, 0.0, 0.0, 0.03043418377637863, 0.0, 0.0, 0.0, 0.0, 0.0, 0.0, 0.0, 0.0, 0.0, 0.1330692619085312, 0.0, 0.0, 0.0, 0.11281421780586243, 0.07401302456855774, 0.0, 0.0, 0.0067667062394320965, 0.12494506686925888, 0.05957837402820587, 0.0, 0.10472293943166733, 0.0, 0.0, 0.0, 0.0, 0.0, 0.0, 0.0, 0.0, 0.0, 0.0, 0.0, 0.14280211925506592, 0.0, 0.0, 0.0, 0.005961750168353319, 0.08931557089090347, 0.0014769939007237554, 0.0, 0.00037388550117611885, 0.0, 0.0, 0.0, 0.16424158215522766, 0.09122888743877411, 0.00029932305915281177, 0.0, 0.0, 0.013487144373357296, 0.0, 0.0, 0.0, 0.16208235919475555, 0.01300161425024271, 0.13708387315273285, 0.15030236542224884, 0.034620221704244614, 0.0, 0.0, 0.0, 0.0, 0.0, 0.0, 0.2488734871149063, 0.04800582677125931, 0.04179259017109871, 0.057667460292577744, 0.03173002228140831, 0.0, 0.23356980085372925, 0.03415641933679581, 0.0, 0.02347487024962902, 0.028867557644844055, 0.011096167378127575, 0.0, 0.0, 0.15159669518470764, 0.0, 0.0, 0.0, 0.0, 0.0021353045012801886, 0.09054197371006012, 0.012704340741038322, 0.0, 0.0, 0.0, 0.0, 0.11014249920845032, 0.0, 0.1752873957157135, 0.0, 0.0, 0.0026384603697806597, 0.0, 0.0, 0.16125229001045227, 0.0, 0.09232107549905777, 0.08688186854124069, 0.0, 0.0, 0.0, 0.0, 0.13135208189487457, 0.07086885720491409, 0.0, 0.0, 0.0, 0.0, 0.0, 0.0, 0.0, 0.0, 0.0, 0.05786920711398125, 0.0, 0.0, 0.0, 0.0, 0.12487839162349701, 0.02081824466586113, 0.0, 0.10458662360906601, 0.0, 0.0, 0.0, 0.001421409542672336, 0.008065958507359028, 0.008108754642307758, 0.009364590980112553, 0.1597893238067627, 0.0, 0.0, 0.0, 0.04468519985675812, 0.0, 0.0, 0.0, 0.13665403425693512, 0.07571648061275482, 0.09596652537584305, 0.0, 0.0763055756688118, 0.0, 0.08318263292312622, 0.0, 0.049299467355012894, 0.0, 0.0, 0.0, 0.0, 0.0, 0.07155033946037292, 0.0, 0.0, 0.062470272183418274, 0.0, 0.05585499852895737, 0.0, 0.0, 0.026722384616732597, 0.0, 0.0, 0.0, 0.0015340158715844154, 0.04512178525328636, 0.005760629661381245, 0.010712245479226112, 0.07548544555902481, 0.007971753366291523, 0.05446236953139305, 0.0, 0.0923970639705658, 0.008221006952226162, 0.0, 0.0, 0.04093311354517937, 0.0, 0.0, 0.09239616245031357, 0.0, 0.1483943611383438, 0.0, 0.0, 0.0, 0.0, 0.0, 0.0, 0.267620325088501, 0.0, 0.025493813678622246, 0.030458848923444748, 0.0038922037929296494, 0.0, 0.0, 0.0168601181358099, 0.0, 0.0, 0.0, 0.0, 0.06114252284169197, 0.014843828976154327, 0.0, 0.016538990661501884, 0.0, 0.0, 0.10799846053123474, 0.0, 0.15054820477962494, 0.0, 0.0, 0.0, 0.0, 0.005103086121380329, 0.0, 0.0, 0.0, 0.001255257404409349, 0.0, 0.0, 0.18845495581626892, 0.015418583527207375, 0.0, 0.018286308273673058, 0.2692011594772339, 0.001055302331224084, 0.013916169293224812, 0.06045287102460861, 0.03493206575512886, 0.0, 0.00972843635827303, 0.0058565326035022736, 0.26351597905158997, 0.0, 0.008638882078230381, 0.0, 0.0, 0.03654981404542923, 0.02987505868077278, 0.0, 0.0, 0.005555200390517712, 0.24066874384880066, 0.003373026382178068, 0.007895669899880886, 0.061958301812410355, 0.056215494871139526, 0.020742064341902733, 0.026483235880732536, 0.0, 0.012691217474639416, 0.06464014947414398, 0.031250789761543274, 0.01418746542185545, 0.27840492129325867, 0.02246873453259468, 0.0, 0.0, 0.04595061391592026, 0.05056127905845642, 0.0, 0.0, 0.0, 0.017256449908018112, 0.16881932318210602, 0.07769665867090225, 0.0, 0.04421798512339592, 0.15814191102981567, 0.09288132190704346, 0.0, 0.0, 0.0, 0.20429982244968414, 0.0, 0.005506162531673908, 0.0, 0.0, 0.0, 0.0, 0.16919532418251038, 0.0, 0.0, 0.1291130781173706, 0.0, 0.03035047836601734, 0.008730492554605007, 0.0, 0.004327102564275265, 0.0, 0.007964691147208214, 0.03650188446044922, 0.0, 0.010039779357612133, 0.025006134063005447, 0.015607227571308613, 0.0, 0.019405297935009003, 0.21758349239826202, 0.0, 0.004616635385900736, 0.22835984826087952, 0.05323170870542526, 0.0, 0.0, 0.005696071777492762, 0.0, 0.0, 0.02608010731637478, 0.0, 0.0, 0.0, 0.02075120434165001, 0.04323326423764229, 0.0, 0.031650103628635406, 0.021055229008197784, 0.0314374677836895, 0.005049508530646563, 0.015391269698739052, 0.03592978045344353, 0.009457196108996868, 0.0292031429708004, 0.005841926671564579, 0.016240322962403297, 0.0, 0.0, 0.0027072166558355093, 0.20607315003871918, 0.02753433585166931, 0.026521872729063034, 0.03592812269926071, 0.0, 0.07114335149526596, 0.28068429231643677, 0.17224819958209991, 0.026487378403544426, 0.27772438526153564, 0.033768247812986374, 0.03190106153488159, 0.03762911260128021, 0.07809952646493912, 0.28131699562072754, 0.18898208439350128, 0.015892013907432556, 0.09153933823108673, 0.0, 0.04914957284927368, 0.04863305389881134, 0.07249324023723602, 0.0, 0.044472478330135345, 0.1484920084476471, 0.04220186173915863, 0.08384623378515244, 0.03044242225587368, 0.0, 0.0, 0.09446654468774796, 0.046343471854925156, 0.02885485626757145, 0.012493140995502472, 0.015751292929053307, 0.22961629927158356, 0.046715911477804184, 0.002802001778036356, 0.02861258015036583, 0.22539567947387695, 0.14806517958641052, 0.019934305921196938, 0.1365826576948166, 0.06342852860689163, 0.0, 0.0754304900765419, 0.0, 0.016201572492718697, 0.0, 0.14137355983257294, 0.0, 0.016971856355667114, 0.0, 0.12438088655471802, 0.0, 0.016741430386900902, 0.0936819538474083, 0.006454024463891983, 0.04425596445798874, 0.10244303941726685, 0.07388148456811905, 0.05202716588973999, 0.025508202612400055, 0.05661895126104355, 0.18984051048755646, 0.0, 0.03870602324604988, 0.00010863706120289862, 0.0028340239077806473, 0.2532418668270111, 0.048524461686611176, 0.006400759331882, 0.0, 0.054131343960762024, 0.04688926041126251, 0.0, 0.0030133614782243967, 0.0, 0.028042349964380264, 0.006567401345819235, 0.06093599647283554, 0.2054717093706131, 0.19628606736660004, 0.08418086171150208, 0.034937869757413864, 0.004875076934695244, 0.0, 0.01365384366363287, 0.06630117446184158, 0.0020871206652373075, 0.0, 0.0, 0.13777242600917816, 0.021693971008062363, 0.2749357521533966, 0.0, 0.009862988255918026, 0.21326687932014465, 0.015892382711172104, 0.012565127573907375, 0.05476432666182518, 0.0, 0.03644579276442528, 0.25784894824028015, 0.019091105088591576, 0.019700339064002037, 0.08749739825725555, 0.02071000263094902, 0.014373269863426685, 0.16506774723529816, 0.026048369705677032, 0.02327766641974449, 0.05806563049554825, 0.02114110440015793, 0.030273210257291794, 0.0070803058333694935, 0.10756051540374756, 0.058605942875146866, 0.04667790234088898, 0.001023968681693077, 0.17523083090782166, 0.08206134289503098, 0.009610052220523357, 0.24676576256752014, 0.023130252957344055, 0.047818783670663834, 0.0035141631960868835, 0.011597092263400555, 0.0, 0.0031049635726958513, 0.0, 0.08226773142814636, 8.08920813142322e-05, 0.0, 0.0, 0.0, 0.0914662778377533, 0.0453152135014534, 0.035462990403175354, 0.047293245792388916, 0.021777750924229622, 0.22748176753520966, 0.0843137577176094, 0.016716642305254936, 0.0017557600513100624, 0.010998981073498726, 0.0, 0.07924650609493256, 0.03769908845424652, 0.021510126069188118, 0.012740924023091793, 0.0, 0.17389875650405884, 0.0, 0.0, 0.0, 0.0, 0.0, 0.0, 0.0, 0.0, 0.0, 0.0], [0.016693810001015663, 0.024489400908350945, 0.12536373734474182, 0.0018664897652342916, 0.0, 0.0, 0.0, 0.0, 0.0, 0.5563327670097351, 0.006569772493094206, 0.04292440041899681, 0.011800698935985565, 0.0, 0.115349680185318, 0.0003190796705894172, 0.036005545407533646, 0.11086443066596985, 0.10165991634130478, 0.0, 0.5427626371383667, 0.0, 0.008505321107804775, 0.005133412778377533, 0.0, 0.0, 0.006459356751292944, 0.0, 0.01581481657922268, 0.0, 0.0, 0.0, 0.005312465596944094, 0.0059465100057423115, 0.0, 0.0, 0.0, 0.0, 0.0, 0.0, 0.0, 0.0, 0.0, 0.0, 0.0, 0.0, 0.0, 0.004499171394854784, 0.0, 0.0, 0.0, 0.0, 0.03293405845761299, 0.02018720656633377, 0.0, 0.0, 0.0, 0.0, 0.023877881467342377, 0.023271596059203148, 0.0, 0.0, 0.0, 0.013296518474817276, 0.0, 0.0, 0.0, 0.0, 0.0, 0.0, 0.0, 0.006660127080976963, 0.0, 0.0, 0.0, 0.0, 0.0, 0.0, 0.0, 0.0, 0.016294097527861595, 0.0, 0.0, 0.0, 0.0, 0.0, 0.0, 0.0, 0.0, 0.0, 0.04517774283885956, 0.0, 0.0, 0.0, 0.0, 0.0, 0.020482446998357773, 0.0, 0.0, 0.03834841027855873, 0.02007167786359787, 0.0, 0.0, 0.0, 0.0, 0.009096670895814896, 0.007906652987003326, 0.0, 0.019348662346601486, 0.0, 0.0, 0.0, 0.013485848903656006, 0.0, 0.0, 0.0015258415369316936, 0.015988502651453018, 0.011703243479132652, 0.0, 0.0, 0.0, 0.0, 0.04202605038881302, 0.0, 0.0, 0.0, 0.0, 0.0, 0.0, 0.0, 0.0, 0.0, 0.0, 0.09877832233905792, 0.023955438286066055, 0.0, 0.0, 0.0, 0.6853212714195251, 0.013493428938090801, 0.03338799625635147, 0.1787734180688858, 0.019261928275227547, 0.0, 0.0, 0.0, 0.0, 0.0, 0.0, 0.5881631374359131, 0.0, 0.02291976660490036, 0.008472651243209839, 0.15240874886512756, 0.04537827521562576, 0.0, 0.0, 0.6749438643455505, 0.011887926608324051, 0.0009524148190394044, 0.0, 0.0, 0.0, 0.025310160592198372, 0.0, 0.1379021555185318, 0.03278723359107971, 0.0, 0.0, 0.0, 0.0, 0.665996253490448, 0.0, 0.010740643367171288, 0.6449456810951233, 0.01728191040456295, 0.5834130048751831, 0.0, 0.5169879198074341, 0.0061796195805072784, 0.0, 0.5040993094444275, 0.0, 0.07937058806419373, 0.0, 0.0007185684517025948, 0.5407048463821411, 0.0, 0.0250256285071373, 0.0, 0.0, 0.0, 0.020770931616425514, 0.010615231469273567, 0.006388574838638306, 0.15067872405052185, 0.0, 0.0, 0.013568826019763947, 0.0, 0.511219322681427, 0.0, 0.0, 0.0026283960323780775, 0.0, 0.0, 0.0, 0.1060684323310852, 0.0, 0.0, 0.0, 0.0, 0.0, 0.0, 0.0, 0.0, 0.0, 0.0, 0.0, 0.07648013532161713, 0.0, 0.010401146486401558, 0.008978164754807949, 0.02373187057673931, 0.0021343985572457314, 0.122319296002388, 0.0, 0.6523705720901489, 0.0, 0.006153252441436052, 0.017652316018939018, 0.01064139511436224, 0.0, 0.0, 0.0, 0.0, 0.0, 0.0, 0.0, 0.0, 0.0, 0.0, 0.0, 0.01754729449748993, 0.0021015508100390434, 0.01193415280431509, 0.009752044454216957, 0.006855505984276533, 0.0, 0.0, 0.0, 0.002497507957741618, 0.0, 0.0016163127729669213, 0.006809070706367493, 0.0, 0.0, 0.0, 0.0, 0.0, 0.0, 0.0, 0.0, 0.0, 0.0, 0.046023208647966385, 0.0, 0.0, 0.0, 0.0, 0.0, 0.0, 0.0, 0.029120104387402534, 0.0, 0.0, 0.0, 0.0, 0.0, 0.0, 0.0, 0.0, 0.0012883271556347609, 0.030637767165899277, 0.020496007055044174, 0.0, 0.15511496365070343, 0.0, 0.004720412660390139, 0.05951368808746338, 0.008928142488002777, 0.0011858772486448288, 0.0, 0.006043594796210527, 0.0329195074737072, 0.017388619482517242, 0.009841440245509148, 0.02154981531202793, 0.0, 0.0, 0.0, 0.0, 0.0, 0.00923878327012062, 0.6193138957023621, 0.015512253157794476, 0.0, 0.004795233719050884, 0.05916712433099747, 0.021097540855407715, 0.0, 0.0, 0.0, 0.002387695014476776, 0.0, 0.010836205445230007, 0.0, 0.04639892652630806, 0.003297040006145835, 0.051968179643154144, 0.561497151851654, 0.0, 0.0, 0.011766750365495682, 0.0, 0.0, 0.0, 0.0, 0.0, 0.0, 0.0, 0.0, 0.16606493294239044, 0.006767422426491976, 0.0, 0.07639011740684509, 0.0, 0.0, 0.0, 0.0, 0.0, 0.0, 0.0006665231776423752, 0.0, 0.0, 0.0, 0.0, 0.0, 0.0, 0.0, 0.0, 0.0, 0.0, 0.0065325479954481125, 0.0, 0.0, 0.0, 0.0, 0.0, 0.0, 0.0, 0.00029896257910877466, 0.0, 0.0, 0.0, 0.0, 0.006536957807838917, 0.0, 0.0, 0.0, 0.0, 0.0, 0.0, 0.0, 0.0163961760699749, 0.0, 0.0, 0.0, 0.0, 0.0, 0.0, 0.0, 0.0, 0.0, 0.0, 0.0, 0.0, 0.0, 0.0, 0.04584560543298721, 0.018546324223279953, 0.0, 0.13937053084373474, 0.0, 0.13803525269031525, 0.0, 0.0, 0.0, 0.1383388340473175, 0.0, 0.0, 0.0, 0.1215861365199089, 0.010033941827714443, 0.0, 0.20282301306724548, 0.0, 0.0049350680783391, 0.0, 0.0, 0.6243476271629333, 0.10279227048158646, 0.0, 0.0, 0.025473199784755707, 0.009815042838454247, 0.0071010226383805275, 0.0, 0.0, 0.01636119745671749, 0.0, 0.0, 0.0, 0.0, 0.0, 0.0, 0.0, 0.00023753027198836207, 0.0, 0.0, 0.0, 0.0, 0.0, 0.0, 0.0, 0.03463274613022804, 0.0, 0.0, 0.0, 0.047102659940719604, 0.009260658174753189, 0.6580623984336853, 0.014816517010331154, 0.025397099554538727, 0.10673125088214874, 0.0, 0.0, 0.5698081254959106, 0.002111955778673291, 0.13614802062511444, 0.15401114523410797, 0.027872096747159958, 0.0, 0.0, 0.0, 0.0, 0.0, 0.0, 0.0, 0.5021228790283203, 0.0, 0.0013525520917028189, 0.0, 0.0, 0.0, 0.0, 0.0, 0.6708540320396423, 0.023015154525637627, 0.0030442671850323677, 0.639971911907196, 0.0, 0.026755766943097115, 0.0, 0.004882431123405695, 0.0, 0.0, 0.0, 0.11889451742172241, 0.003911437466740608, 0.0, 0.0, 0.0, 0.10849729180335999, 0.034829918295145035, 0.025558944791555405, 0.0, 0.0, 0.6669847965240479, 0.0, 0.08174514025449753, 0.002866123802959919, 0.0, 0.005332739558070898, 0.13763728737831116, 0.057701967656612396, 0.03134816139936447, 0.0, 0.0, 0.6446861624717712, 0.0, 0.0, 0.0, 0.0, 0.0, 0.0, 0.0, 0.0, 0.09580142050981522, 0.07838855683803558, 0.0], [0.18542644381523132, 0.0, 0.0, 0.1260630041360855, 0.18799860775470734, 0.22031822800636292, 0.22994746267795563, 0.24321608245372772, 0.21626706421375275, 0.14997610449790955, 0.24409885704517365, 0.15069986879825592, 0.18625974655151367, 0.04642416536808014, 0.0, 0.03894902020692825, 0.05747577175498009, 0.0317312590777874, 0.03451477363705635, 0.08407151699066162, 0.0875726193189621, 0.012310142628848553, 0.06638859957456589, 0.06422523409128189, 0.21058697998523712, 0.39751386642456055, 0.32898107171058655, 0.33891960978507996, 0.12281279265880585, 0.09990397095680237, 0.051968492567539215, 0.01410696841776371, 0.0, 0.10928738117218018, 0.10270007699728012, 0.07585715502500534, 0.1455058455467224, 0.14663270115852356, 0.07347924262285233, 0.0, 0.0, 0.1665196269750595, 0.11920852959156036, 0.012834983877837658, 0.02640925720334053, 0.07925382256507874, 0.018132256343960762, 0.004565047100186348, 0.0, 0.0670260414481163, 0.04292117431759834, 0.101285420358181, 0.17949961125850677, 0.004630951210856438, 0.0013127163983881474, 0.00443497346714139, 0.0, 0.009326528757810593, 0.0, 0.024098090827465057, 0.12642927467823029, 0.16684766113758087, 0.12678129971027374, 0.18068565428256989, 0.11077143996953964, 0.0887155756354332, 0.0, 0.0, 0.0, 0.19492162764072418, 0.18457834422588348, 0.3045704960823059, 0.3661639392375946, 0.30461594462394714, 0.035677678883075714, 0.16653625667095184, 0.19058170914649963, 0.2803294062614441, 0.16390104591846466, 0.2964426875114441, 0.03931523114442825, 0.184766948223114, 0.07651836425065994, 0.0998210534453392, 0.00012066734052496031, 0.009316155686974525, 0.0437314473092556, 0.21505436301231384, 0.18124061822891235, 0.2329607456922531, 0.015705261379480362, 0.0, 0.02630588784813881, 0.05750654637813568, 0.1375170648097992, 0.104965940117836, 0.031265418976545334, 0.07812865823507309, 0.18862725794315338, 0.13136392831802368, 0.0051295943558216095, 0.0, 0.000685833569150418, 0.0005488093011081219, 0.0026486890856176615, 0.0, 0.007197021506726742, 0.22233104705810547, 0.13884501159191132, 0.29754015803337097, 0.24341949820518494, 0.1757899522781372, 0.0039014413487166166, 0.14283782243728638, 0.19805358350276947, 0.1275372952222824, 0.12050465494394302, 0.27216148376464844, 0.3152681589126587, 0.20489931106567383, 0.34837794303894043, 0.1742706000804901, 0.24881842732429504, 0.30387064814567566, 0.3222074806690216, 0.2876843214035034, 0.21443015336990356, 0.1783754527568817, 0.28576719760894775, 0.3372528553009033, 0.26175153255462646, 0.23873664438724518, 0.14503498375415802, 0.0, 0.017737362533807755, 0.16042914986610413, 0.2052251249551773, 0.11609084159135818, 0.01582888327538967, 0.1292242556810379, 0.09950995445251465, 0.0, 0.014608494006097317, 0.11210256069898605, 0.09083809703588486, 0.1146809309720993, 0.11779171228408813, 0.1506638377904892, 0.11144142597913742, 0.029363546520471573, 0.27712002396583557, 0.21118448674678802, 0.2926563620567322, 0.0, 0.012498595751821995, 0.1477990299463272, 0.13906680047512054, 0.01847459189593792, 0.17780950665473938, 0.22106337547302246, 0.3110782504081726, 0.25241783261299133, 0.19140198826789856, 0.25698259472846985, 0.20768380165100098, 0.0, 0.0, 0.09060801565647125, 0.1264992207288742, 0.12678055465221405, 0.08267225325107574, 0.0, 0.13147105276584625, 0.09171707928180695, 0.0, 0.06325273960828781, 0.0012693373719230294, 0.08985850214958191, 0.00018109954544343054, 0.04270479828119278, 0.06049005687236786, 0.0, 0.04282645881175995, 0.0, 0.0, 0.06119050830602646, 0.0, 0.0, 0.0, 0.0, 0.0, 0.0, 0.055690813809633255, 0.09812374413013458, 0.10570500046014786, 0.05289192125201225, 0.018855378031730652, 0.0, 0.0, 0.08550961315631866, 0.05889565125107765, 0.017382850870490074, 0.0, 0.0, 0.05862588807940483, 0.024806806817650795, 0.013135933317244053, 0.023156534880399704, 0.11918139457702637, 0.02658398076891899, 0.024020805954933167, 0.11793452501296997, 0.010463071055710316, 0.0, 0.0032348178792744875, 0.014567452482879162, 0.0, 0.0, 0.0, 0.0, 0.0, 0.03876139596104622, 0.0, 0.0862451121211052, 0.022557709366083145, 0.0, 0.0036512992810457945, 0.020104905590415, 0.07004476338624954, 0.08692718297243118, 0.04875290021300316, 0.05356360971927643, 0.0, 0.0, 0.0, 0.0, 0.01973991096019745, 0.0, 0.014526590704917908, 0.24781039357185364, 0.28535401821136475, 0.16511985659599304, 0.18455545604228973, 0.015669023618102074, 0.0, 0.017383603379130363, 0.0, 0.0, 0.21841301023960114, 0.04023740813136101, 0.0, 0.0, 0.0, 0.0, 0.001177001977339387, 0.0, 0.0, 0.0025448412634432316, 0.014947798103094101, 0.20640935003757477, 0.11509639769792557, 0.029835505411028862, 0.11636343598365784, 0.19470606744289398, 0.00946732982993126, 0.0, 0.0, 0.0, 0.0, 0.033951591700315475, 0.0, 0.0, 0.0, 0.0, 0.0, 0.0, 0.0, 0.0, 0.0, 0.0, 0.0, 0.0, 0.05231550335884094, 0.0, 0.0, 0.01056500431150198, 0.0030268034897744656, 0.0, 0.013138455338776112, 0.04927579686045647, 0.11289459466934204, 0.14350824058055878, 0.00037524389335885644, 0.017711365595459938, 0.051468972116708755, 0.0, 0.010166351683437824, 0.05086704343557358, 0.01621824875473976, 0.04831046611070633, 0.13213956356048584, 0.15996365249156952, 0.01645827852189541, 0.0, 0.0, 0.0035552072804421186, 0.09416086971759796, 0.1071133241057396, 0.0, 0.010249889455735683, 0.005128508899360895, 0.0, 0.0, 0.0, 0.0, 0.046212337911129, 0.0, 0.0, 0.0, 0.0, 0.0, 0.0, 0.0, 0.0023498935624957085, 0.0, 0.0, 0.00018497015116736293, 0.0, 0.08952753990888596, 0.20115533471107483, 0.04220114275813103, 0.0, 0.0, 0.0, 0.0, 0.0, 0.0018109594238922, 0.0, 0.0, 0.0, 0.0, 0.0, 0.0, 0.0, 0.0, 0.0, 0.0, 0.0, 0.0054810745641589165, 0.09169578552246094, 0.08022978156805038, 0.0004817579174414277, 0.0, 0.0, 0.035814058035612106, 0.013577157631516457, 0.0, 0.016081733629107475, 0.012167767621576786, 0.0, 0.0, 0.0, 0.0045625376515090466, 0.0, 0.0, 0.0, 0.008643921464681625, 0.0, 0.0, 0.0, 0.0, 0.0, 0.0, 0.0, 0.0, 0.005956868641078472, 0.20140281319618225, 0.019383909180760384, 0.0, 0.022528700530529022, 0.0, 0.0, 0.0, 0.0, 0.0, 0.0, 0.01080061960965395, 0.05755048245191574, 0.01866694912314415, 0.0, 0.0, 0.0, 0.0, 0.0, 0.0, 0.0, 0.0, 0.0, 0.0, 0.0, 0.0, 0.0, 0.0, 0.0, 0.0, 0.0, 0.0, 0.0, 0.0, 0.0, 0.0, 0.0, 0.018248300999403, 0.040587522089481354, 0.0, 0.0, 0.0, 0.0, 0.03367694094777107, 0.0, 0.0, 0.0, 0.03771970048546791, 0.0038535722997039557, 0.0009339452954009175, 0.0, 0.0, 0.0, 0.0, 0.0, 0.0006764180725440383, 0.0005110363126732409, 0.03873874247074127, 0.04373394325375557, 0.035620857030153275, 0.0, 0.02414431981742382, 0.12232235819101334, 0.07129108160734177, 0.0, 0.0, 0.0, 0.0, 0.014774241484701633, 0.0, 0.0, 0.0, 0.0, 0.0, 0.0, 0.0, 0.0, 0.0, 0.0, 0.0, 0.0, 0.0, 0.0, 0.0, 0.0, 0.0, 0.0, 0.0, 0.0, 0.0, 0.0, 0.0, 0.0, 0.0, 0.0, 0.0, 0.0, 0.0, 0.012962501496076584, 0.0, 0.0022295298986136913, 0.0, 0.0, 0.0, 0.0, 0.0, 0.060996197164058685, 0.04514195770025253, 0.0, 0.0, 0.0, 0.0, 0.0, 0.0, 0.0022429926320910454, 0.018613100051879883, 0.012271631509065628, 0.016102608293294907, 0.03491322696208954, 0.0, 0.0, 0.0, 0.0, 0.0, 0.003029497805982828, 0.0, 0.008338126353919506, 0.0, 0.007721729576587677, 0.0, 0.0, 0.030751124024391174, 0.07059154659509659, 0.0, 0.0, 0.10631102323532104], [0.0, 0.3780216872692108, 0.0, 0.0, 0.0, 0.0, 0.0, 0.0, 0.0, 0.0, 0.0, 0.0, 0.0026595958042889833, 0.0, 0.0, 0.0, 0.0, 0.0, 0.0, 0.0, 0.0, 0.0, 0.0, 0.0, 0.35039022564888, 0.0, 0.0, 0.0, 0.14201012253761292, 0.0, 0.0, 0.056203845888376236, 0.03097515180706978, 0.22945049405097961, 0.0, 0.0, 0.25497984886169434, 0.0, 0.21521715819835663, 0.0, 0.0, 0.36520516872406006, 0.249627485871315, 0.030703246593475342, 0.03638191148638725, 0.21891172230243683, 0.04282055422663689, 0.0, 0.0, 0.0, 0.24547095596790314, 0.6355676054954529, 0.14865072071552277, 0.0, 0.0, 0.0, 0.0, 0.0, 0.0, 0.0, 0.35530269145965576, 0.0, 0.0, 0.144475057721138, 0.00042792977183125913, 0.5087043046951294, 0.02958555519580841, 0.0, 0.0, 0.0, 0.0, 0.3108341097831726, 0.0, 0.0, 0.026769809424877167, 0.0, 0.0622374527156353, 0.018712401390075684, 0.3280204236507416, 0.0, 0.0, 0.0, 0.0, 0.0, 0.0, 0.0, 0.0, 0.0, 0.0, 0.0, 0.01573798432946205, 0.04979158192873001, 0.0, 0.0, 0.0, 0.0, 0.8558077216148376, 0.3563830852508545, 0.541481077671051, 0.18070858716964722, 0.0, 0.0, 0.0, 0.0, 0.0, 0.0, 0.0, 0.0, 0.4305166006088257, 0.0, 0.0, 0.051574964076280594, 0.33498066663742065, 0.330233097076416, 0.0, 0.053533654659986496, 0.17525437474250793, 0.0, 0.0, 0.058693766593933105, 0.10207120329141617, 0.04256564378738403, 0.0, 0.0, 0.0, 0.332836389541626, 0.03608310595154762, 0.35099083185195923, 0.0466531477868557, 0.14939351379871368, 0.0, 0.38029083609580994, 0.0, 0.0, 0.0, 0.0, 0.0, 0.0, 0.0, 0.0, 0.0, 0.0, 0.0, 0.0, 0.0, 0.0, 0.0, 0.0, 0.0, 0.0, 0.0, 0.0, 0.0, 0.0, 0.0, 0.0, 0.0, 0.018629878759384155, 0.0, 0.0, 0.0, 0.0, 0.0, 0.2725270688533783, 0.0, 0.0, 0.0, 0.0, 0.0, 0.0, 0.0, 0.0, 0.0, 0.0, 0.0, 0.0, 0.0, 0.0, 0.0, 0.0, 0.0, 0.0, 0.0, 0.0, 0.0, 0.0, 0.0, 0.0, 0.0, 0.0, 0.0, 0.0, 0.0, 0.0, 0.0, 0.04342443495988846, 0.1445302814245224, 0.0, 0.0, 0.0, 0.029909448698163033, 0.0, 0.0, 0.0080778319388628, 0.5708066821098328, 0.16846860945224762, 0.0, 0.0, 0.004220840986818075, 0.0, 0.2827632427215576, 0.023326456546783447, 0.0, 0.0, 0.0, 0.0, 0.0, 0.0, 0.0, 0.0, 0.06960583478212357, 0.1427038311958313, 0.012272939085960388, 0.7197166085243225, 0.4288232624530792, 0.0, 0.019785502925515175, 0.010410042479634285, 0.2056054025888443, 0.2958158850669861, 0.5220500230789185, 0.0, 0.6020392775535583, 0.07526984810829163, 0.0, 0.07624313235282898, 0.9239567518234253, 0.10141005367040634, 0.0677533894777298, 0.5561846494674683, 0.0, 0.0, 0.0, 0.0, 0.06007480248808861, 0.14620277285575867, 0.17260529100894928, 0.47392168641090393, 0.0, 0.0, 0.0005320960190147161, 0.0, 0.10922973603010178, 0.24097640812397003, 0.1462402641773224, 0.0, 0.0, 0.6246495842933655, 0.0, 0.0, 0.06984779238700867, 0.046376753598451614, 0.0, 0.0, 0.0, 0.5088793039321899, 0.23457449674606323, 0.39253902435302734, 0.12546654045581818, 0.3639999330043793, 0.09366907179355621, 0.22349600493907928, 0.00941831897944212, 0.0, 0.03176425024867058, 0.0, 0.0, 0.0, 0.6019989848136902, 0.14061757922172546, 0.0, 0.0, 0.22699354588985443, 0.0, 0.0, 0.0, 0.0, 0.06660041213035583, 0.12830011546611786, 0.4758422076702118, 0.057334206998348236, 0.07868339866399765, 0.13900567591190338, 0.08762681484222412, 0.11116575449705124, 0.4950850009918213, 0.8060594201087952, 0.0, 0.7207410931587219, 0.7230092287063599, 0.1581234335899353, 0.03006039746105671, 0.0, 0.0, 0.009955563582479954, 0.6958401203155518, 0.7264399528503418, 0.08068807423114777, 0.385783851146698, 0.0, 0.8449208736419678, 0.6494647860527039, 0.2713128924369812, 0.053496453911066055, 0.0, 0.04267558455467224, 0.19042935967445374, 0.002681939397007227, 0.033529914915561676, 0.10735175758600235, 0.021548185497522354, 0.12621277570724487, 0.7631416916847229, 0.19198767840862274, 0.3391110599040985, 1.0813077688217163, 0.19469599425792694, 0.5810314416885376, 0.09685854613780975, 0.0, 0.0, 0.1883663833141327, 0.0, 0.4435552954673767, 0.22702880203723907, 0.0, 0.0, 0.09390030056238174, 0.01354089006781578, 0.0790131539106369, 0.062373023480176926, 0.9612743854522705, 0.23822616040706635, 0.17833566665649414, 0.021479975432157516, 0.08193106949329376, 0.0, 0.03979885205626488, 0.09288017451763153, 0.24935482442378998, 0.3185694217681885, 0.3815838694572449, 0.7949512004852295, 0.6308677792549133, 0.0, 0.0, 0.0, 0.0, 0.0, 0.0, 0.0, 0.4379441440105438, 0.0, 0.0, 0.0, 0.06659722328186035, 0.1944262981414795, 0.0, 0.06995180994272232, 0.0, 0.0, 0.0, 0.0, 0.0032351315021514893, 0.37099549174308777, 0.0, 0.0, 0.3837246000766754, 0.553252637386322, 0.0, 0.0, 0.0, 0.0, 0.05405670776963234, 0.27998533844947815, 0.10300091654062271, 0.3789178431034088, 0.0, 0.0, 0.0, 0.0, 0.0, 0.0, 0.0, 0.0, 0.04155191779136658, 0.0, 0.0, 0.0, 0.0, 0.0, 0.0, 0.0, 0.0, 0.0, 0.05101042613387108, 0.02194232866168022, 0.0, 0.0, 0.0, 0.0, 0.04558389633893967, 0.0, 0.0, 0.21092981100082397, 0.060098905116319656, 0.0, 0.0, 0.0, 0.0, 0.05596935749053955, 0.18697312474250793, 0.0, 0.0, 0.0, 0.0, 0.0, 0.0006584631628356874, 0.07580569386482239, 0.0, 0.0, 0.0, 0.0, 0.0, 0.0, 0.0, 0.0, 0.0, 0.0, 0.0, 0.0, 0.010062288492918015, 0.09334934502840042, 0.004821826703846455, 0.0, 0.0, 0.0, 0.08653517812490463, 0.42266929149627686, 0.0, 0.0035410155542194843, 0.0, 0.0, 0.0, 0.0, 0.0, 0.0, 0.0, 0.0, 0.0, 0.0, 0.0, 0.0, 0.0, 0.0, 0.0, 0.0, 0.0, 0.03744231536984444, 0.0425867922604084, 0.013942535035312176, 0.2209063172340393, 0.6210317015647888, 0.6379733085632324, 0.042482905089855194, 0.0, 0.0, 0.10100694745779037, 0.13369658589363098, 0.8384791612625122, 0.0, 0.013126062229275703, 0.0, 0.0, 0.0, 0.03399575874209404, 0.08030624687671661, 0.05834011733531952, 0.014934677630662918, 0.2023913711309433, 0.30780091881752014, 0.0, 0.0037165593821555376, 0.18620269000530243, 0.0, 0.0, 0.018257256597280502, 0.08716826140880585, 0.08003358542919159, 0.02762431651353836, 0.183989018201828, 0.3189235031604767, 0.7407645583152771, 1.0662884712219238, 0.7822838425636292, 1.067737102508545, 0.32486993074417114, 0.0, 0.0, 0.0, 0.0], [0.0, 0.0, 0.0, 0.0, 0.0, 0.0, 0.0, 0.0, 0.0, 0.0, 0.009699066169559956, 0.009725830517709255, 0.05851155146956444, 0.05346726253628731, 0.0, 0.0, 0.0, 0.0, 0.0, 0.0, 0.0, 0.019240856170654297, 0.052208591252565384, 0.07610657811164856, 0.0, 0.0, 0.11581499874591827, 0.12273075431585312, 0.0, 0.0, 0.0, 0.0, 0.013980659656226635, 0.0, 0.0, 0.0, 0.0, 0.0, 0.0, 0.0, 0.05106941610574722, 0.0, 0.0, 0.015934240072965622, 0.01039713155478239, 0.0, 0.02563483454287052, 0.04052746295928955, 0.0, 0.0, 0.0, 0.0, 0.0, 0.0013208090094849467, 0.0, 0.0, 0.0, 0.046593375504016876, 0.028889494016766548, 0.0, 0.0, 0.0, 0.0, 0.0, 0.01252339780330658, 0.0, 0.0, 0.08174799382686615, 0.06279616802930832, 0.0, 0.0, 0.0, 0.0, 0.0, 0.040509551763534546, 0.15280681848526, 0.0, 0.19580277800559998, 0.18658316135406494, 0.18547344207763672, 0.0003958579618483782, 0.0, 0.16787824034690857, 0.15985551476478577, 0.012304488569498062, 0.14575935900211334, 0.0, 0.0, 0.15378151834011078, 0.19374261796474457, 0.04123232513666153, 0.06979511678218842, 0.14793211221694946, 0.18826556205749512, 0.0, 0.0, 0.0, 0.0, 0.0, 0.0, 0.005063319578766823, 0.0, 0.0, 0.0, 0.014080055058002472, 0.026165766641497612, 0.0, 0.0, 0.0, 0.0, 0.16157712042331696, 0.16309425234794617, 0.0, 0.11091530323028564, 0.0, 0.0, 0.03291253000497818, 0.0, 0.0, 0.0, 0.0, 0.020078139379620552, 0.0, 0.0, 0.0, 0.022996848449110985, 0.0, 0.0, 0.13687099516391754, 0.1384163498878479, 0.19048134982585907, 0.11280880868434906, 0.0, 0.0, 0.0, 0.0, 0.0, 0.011641313321888447, 0.0, 0.0, 0.012295426800847054, 0.0, 0.0, 0.004844592418521643, 0.01753905788064003, 0.0, 0.005734150763601065, 0.005678683985024691, 0.04098716005682945, 0.021305812522768974, 0.0, 0.15245851874351501, 0.1505165845155716, 0.0, 0.0, 0.0, 0.0027561397291719913, 0.0, 0.0, 0.0, 0.0, 0.13389353454113007, 0.0, 0.0032516764476895332, 0.0, 0.0, 0.0, 0.0, 0.0, 0.0, 0.0, 0.0, 0.0, 0.011792427860200405, 0.0, 0.0, 0.0, 0.0, 0.0, 0.05618467181921005, 0.0, 0.0, 0.07405249774456024, 0.0, 0.029989823698997498, 0.0, 0.0, 0.04017462581396103, 0.0, 0.0026166418101638556, 0.0, 0.0, 0.0, 0.12926022708415985, 0.05632317066192627, 0.0, 0.012639324180781841, 0.10048418492078781, 0.06125381961464882, 0.0, 0.0, 0.0, 0.10880424082279205, 0.08896820992231369, 0.0, 0.06569673866033554, 0.12279711663722992, 0.0, 0.0, 0.3480359613895416, 0.08170494437217712, 0.17566701769828796, 0.06096266582608223, 0.08219120651483536, 0.42295268177986145, 0.12073151022195816, 0.04268153756856918, 0.08378292620182037, 0.12763595581054688, 0.051761116832494736, 0.18516702950000763, 0.17920653522014618, 0.32870933413505554, 0.031943585723638535, 0.14776650071144104, 0.0, 0.0, 0.0, 0.0, 0.06347820162773132, 0.0, 0.13467411696910858, 0.0, 0.0, 0.12970885634422302, 0.02161291241645813, 0.0, 0.0097728306427598, 0.13200928270816803, 0.0358663834631443, 0.0019910975825041533, 0.18670734763145447, 0.2266543209552765, 0.0, 0.0, 0.30895817279815674, 0.31127339601516724, 0.08407625555992126, 0.03581991419196129, 0.3570035994052887, 0.34942466020584106, 0.0, 0.0, 0.30802467465400696, 0.0, 0.4031943380832672, 0.12430179864168167, 0.09053333103656769, 0.0, 0.22941593825817108, 0.3217725455760956, 0.0, 0.04326611012220383, 0.1670665293931961, 0.2578718960285187, 0.0, 0.0040436419658362865, 0.0, 0.02952263504266739, 0.049943141639232635, 0.06274590641260147, 0.1174824982881546, 0.21340352296829224, 0.0, 0.0, 0.3348158895969391, 0.40375176072120667, 0.3561561703681946, 0.02891872264444828, 0.2365368902683258, 0.09822474420070648, 0.168709397315979, 0.350860059261322, 0.0, 0.0, 0.015761524438858032, 0.0, 0.0, 0.0, 0.006526590790599585, 0.23500022292137146, 0.23027914762496948, 0.0, 0.0, 0.20550724864006042, 0.0749082937836647, 0.0028939631301909685, 0.1333160102367401, 0.04946454241871834, 0.006404808722436428, 0.0, 0.19528734683990479, 0.010669175535440445, 0.0, 0.008583137765526772, 0.0055267103016376495, 0.0017326029483228922, 0.21875712275505066, 0.0, 0.16562628746032715, 0.018598441034555435, 0.05222461000084877, 0.25783222913742065, 0.3124600052833557, 0.22472897171974182, 0.16786698997020721, 0.3586287200450897, 0.0, 0.0, 0.18289326131343842, 0.0, 0.0, 0.004993554670363665, 0.31718990206718445, 0.3373635709285736, 0.05328230932354927, 0.30808883905410767, 0.053603608161211014, 0.10415150225162506, 0.23441649973392487, 0.31304872035980225, 0.01852196268737316, 0.0548584870994091, 0.11358121037483215, 0.3107803463935852, 0.09591159224510193, 0.0, 0.27821603417396545, 0.3618062436580658, 0.13217030465602875, 0.09914599359035492, 0.02320949174463749, 0.21797189116477966, 0.0, 0.0006086668581701815, 0.3677128255367279, 0.3854443430900574, 0.0, 0.0, 0.20732294023036957, 0.1383925825357437, 0.1704804003238678, 0.12922540307044983, 0.02332737296819687, 0.0566435232758522, 0.11646784842014313, 0.012585909105837345, 0.10685762017965317, 0.2786318063735962, 0.16878429055213928, 0.30158987641334534, 0.051493268460035324, 0.08137152343988419, 0.12926246225833893, 0.0, 0.0769118070602417, 0.0913844183087349, 0.12162052094936371, 0.12344345450401306, 0.08131971210241318, 0.021396169438958168, 0.06966588646173477, 0.0513981468975544, 0.1274443119764328, 0.03862432390451431, 0.0, 0.2232731431722641, 0.049937330186367035, 0.04062454029917717, 0.037879135459661484, 0.30936262011528015, 0.31778091192245483, 0.0, 0.0, 0.17384549975395203, 0.2810632288455963, 0.20963485538959503, 0.07933168858289719, 0.1378980129957199, 0.0, 0.0, 0.0008062903652898967, 0.0, 0.0, 0.0, 0.012886601500213146, 0.0, 0.0, 0.0, 0.01735125109553337, 0.0, 0.0, 0.0, 0.0, 0.0, 0.008087369613349438, 0.02480630949139595, 0.0, 0.019758891314268112, 0.04423954337835312, 0.012205804698169231, 0.029494108632206917, 0.07730819284915924, 0.23081256449222565, 0.14064311981201172, 0.3149292469024658, 0.0, 0.015114997513592243, 0.1826418787240982, 0.26686227321624756, 0.0, 0.18510675430297852, 0.038166437298059464, 0.07661708444356918, 0.053964342921972275, 0.03664303570985794, 0.319784939289093, 0.0, 0.12504266202449799, 0.04544782266020775, 0.04543152451515198, 0.17451682686805725, 0.22451461851596832, 0.2810901403427124, 0.3000210225582123, 0.042164918035268784, 0.18823383748531342, 0.27826279401779175, 0.31117168068885803, 0.0, 0.0, 6.208779814187437e-05, 0.0, 0.2702610492706299, 0.0, 0.03361785411834717, 0.18455658853054047, 0.0, 0.09006288647651672, 0.0005766573594883084, 0.04253922775387764, 0.0, 0.2629421353340149, 0.27352893352508545, 0.19641418755054474, 0.25299811363220215, 0.23105879127979279, 0.07051975280046463, 0.19660121202468872, 0.007444217801094055, 0.041321735829114914, 0.0, 0.006724786013364792, 0.0, 0.0, 0.015051004476845264, 0.007417614106088877, 0.0, 0.0, 0.019053179770708084, 0.0, 0.0, 0.0, 0.03392428532242775, 0.0, 0.0, 0.02907022088766098, 0.0537722148001194, 0.024946797639131546, 0.0007720264256931841, 0.046559449285268784, 0.3636327087879181, 0.024441104382276535, 0.0, 0.0, 0.0, 0.007053324952721596, 0.019250202924013138, 0.0, 0.0, 0.014232798479497433, 0.005991075187921524, 0.003950739279389381, 0.15718382596969604, 0.0, 0.0, 0.0, 0.0, 0.00014398567145690322, 0.0, 0.0, 0.0, 0.010095540434122086, 0.0, 0.020164815708994865, 0.0, 0.11476924270391464, 0.0, 0.0, 0.0, 0.03009543940424919]]]})\n",
              "         }, function (err) {\n",
              "            console.log(err);\n",
              "        })"
            ],
            "text/plain": [
              "<IPython.core.display.Javascript object>"
            ]
          },
          "metadata": {
            "tags": []
          }
        }
      ]
    },
    {
      "cell_type": "markdown",
      "metadata": {
        "id": "8VzoEO1bWoiD"
      },
      "source": [
        "We can also do this for the first layer only. According to Alammar, the first layer of Transformer models tend to do much of the early filtering and prioritization of tokens to be used in later representations."
      ]
    },
    {
      "cell_type": "code",
      "metadata": {
        "id": "TuXIcUHo2rYX",
        "colab": {
          "base_uri": "https://localhost:8080/",
          "height": 453
        },
        "outputId": "ecd29644-f023-4667-90b1-f0bea4caf064"
      },
      "source": [
        "nmf3 = ecco_out.run_nmf(n_components=12, from_layer=0, to_layer=1)\n",
        "nmf3.explore()"
      ],
      "execution_count": null,
      "outputs": [
        {
          "output_type": "display_data",
          "data": {
            "text/html": [
              "<html lang=\"en\">\n",
              "<script src=\"https://requirejs.org/docs/release/2.3.6/minified/require.js\"></script>\n",
              "<script>\n",
              "    var ecco_url = 'https://storage.googleapis.com/ml-intro/ecco/'\n",
              "    // var ecco_url = 'http://localhost:8000/ecco/'\n",
              "\n",
              "    if (window.ecco === undefined) window.ecco = {}\n",
              "\n",
              "    requirejs.config({\n",
              "        urlArgs: \"bust=\" + (new Date()).getTime(),\n",
              "        nodeRequire: require,\n",
              "        paths: {\n",
              "            d3: \"https://d3js.org/d3.v5.min\",\n",
              "            \"d3-array\": \"https://d3js.org/d3-array.v2.min\",\n",
              "            jquery: \"https://code.jquery.com/jquery-3.5.1.min\",\n",
              "            // oldEcco: ecco_url + 'ecco',\n",
              "            ecco: ecco_url + 'js/0.0.4/ecco-bundle.min',\n",
              "            xregexp: 'https://cdnjs.cloudflare.com/ajax/libs/xregexp/3.2.0/xregexp-all.min'\n",
              "        }\n",
              "    });\n",
              "    requirejs(['d3'],\n",
              "        function (d3) {\n",
              "            d3.select('#css').attr('href', ecco_url + 'html/styles.css')\n",
              "        })\n",
              "\n",
              "    console.log('Ecco initialize.')\n",
              "</script>\n",
              "\n",
              "<head>\n",
              "    <link id='css' rel=\"stylesheet\" type=\"text/css\">\n",
              "</head>\n"
            ],
            "text/plain": [
              "<IPython.core.display.HTML object>"
            ]
          },
          "metadata": {
            "tags": []
          }
        },
        {
          "output_type": "display_data",
          "data": {
            "text/html": [
              "<script>\n",
              "    // console.log('defining basic')\n",
              "    define('basic', ['d3'],\n",
              "        function (d3) {\n",
              "            return {\n",
              "                init: function (viz_id = null) {\n",
              "\n",
              "                    // console.log('basic init')\n",
              "                    if (viz_id == null){\n",
              "                        viz_id = \"viz_\" + Math.round(Math.random() * 10000000)\n",
              "                    }\n",
              "                    const div = d3.select('#basic').attr('id', viz_id),\n",
              "                        div_parent = d3.select('#' + viz_id).node().parentNode\n",
              "\n",
              "                    // Link to CSS file\n",
              "                    d3.select(div_parent).insert('link')\n",
              "                        .attr('rel', 'stylesheet')\n",
              "                        .attr('type', 'text/css')\n",
              "                        .attr('href', ecco_url + 'html/styles.css')\n",
              "\n",
              "                    return viz_id\n",
              "                }\n",
              "            }\n",
              "        }, function (err) {console.log(err);}\n",
              "    )\n",
              "    // console.log('after defining basic')\n",
              "\n",
              "</script>\n",
              "<div id=\"basic\"></div>\n"
            ],
            "text/plain": [
              "<IPython.core.display.HTML object>"
            ]
          },
          "metadata": {
            "tags": []
          }
        },
        {
          "output_type": "display_data",
          "data": {
            "application/javascript": [
              "\n",
              "         requirejs(['basic', 'ecco'], function(basic, ecco){\n",
              "            const viz_id = basic.init()\n",
              "            ecco.interactiveTokensAndFactorSparklines(viz_id, {'tokens': [{'token': '[CLS]', 'token_id': 65, 'type': 'input', 'position': 0}, {'token': '▁', 'token_id': 321, 'type': 'input', 'position': 1}, {'token': '<unk>', 'token_id': 100, 'type': 'input', 'position': 2}, {'token': '▁C', 'token_id': 428, 'type': 'input', 'position': 3}, {'token': 'HI', 'token_id': 25475, 'type': 'input', 'position': 4}, {'token': 'EF', 'token_id': 25526, 'type': 'input', 'position': 5}, {'token': '▁COM', 'token_id': 9541, 'type': 'input', 'position': 6}, {'token': 'PLA', 'token_id': 45811, 'type': 'input', 'position': 7}, {'token': 'INT', 'token_id': 12495, 'type': 'input', 'position': 8}, {'token': ':', 'token_id': 126, 'type': 'input', 'position': 9}, {'token': '▁s', 'token_id': 365, 'type': 'input', 'position': 10}, {'token': '/', 'token_id': 115, 'type': 'input', 'position': 11}, {'token': 'p', 'token_id': 180, 'type': 'input', 'position': 12}, {'token': '▁fall', 'token_id': 2222, 'type': 'input', 'position': 13}, {'token': '<unk>', 'token_id': 100, 'type': 'input', 'position': 14}, {'token': '▁PRES', 'token_id': 32653, 'type': 'input', 'position': 15}, {'token': 'ENT', 'token_id': 3626, 'type': 'input', 'position': 16}, {'token': '▁', 'token_id': 321, 'type': 'input', 'position': 17}, {'token': 'ILL', 'token_id': 8368, 'type': 'input', 'position': 18}, {'token': 'NESS', 'token_id': 31198, 'type': 'input', 'position': 19}, {'token': ':', 'token_id': 126, 'type': 'input', 'position': 20}, {'token': '▁77', 'token_id': 8642, 'type': 'input', 'position': 21}, {'token': '▁yo', 'token_id': 27507, 'type': 'input', 'position': 22}, {'token': '▁male', 'token_id': 4358, 'type': 'input', 'position': 23}, {'token': '▁on', 'token_id': 420, 'type': 'input', 'position': 24}, {'token': '▁Co', 'token_id': 1867, 'type': 'input', 'position': 25}, {'token': 'um', 'token_id': 489, 'type': 'input', 'position': 26}, {'token': 'adin', 'token_id': 17173, 'type': 'input', 'position': 27}, {'token': '▁for', 'token_id': 430, 'type': 'input', 'position': 28}, {'token': '▁D', 'token_id': 461, 'type': 'input', 'position': 29}, {'token': 'VT', 'token_id': 36493, 'type': 'input', 'position': 30}, {'token': '▁who', 'token_id': 609, 'type': 'input', 'position': 31}, {'token': '▁fell', 'token_id': 3315, 'type': 'input', 'position': 32}, {'token': '▁at', 'token_id': 480, 'type': 'input', 'position': 33}, {'token': '▁C', 'token_id': 428, 'type': 'input', 'position': 34}, {'token': 'VS', 'token_id': 20405, 'type': 'input', 'position': 35}, {'token': '▁with', 'token_id': 452, 'type': 'input', 'position': 36}, {'token': '▁LOC', 'token_id': 37448, 'type': 'input', 'position': 37}, {'token': '▁and', 'token_id': 391, 'type': 'input', 'position': 38}, {'token': '▁un', 'token_id': 656, 'type': 'input', 'position': 39}, {'token': 'responsive', 'token_id': 39873, 'type': 'input', 'position': 40}, {'token': '▁on', 'token_id': 420, 'type': 'input', 'position': 41}, {'token': '▁[', 'token_id': 786, 'type': 'input', 'position': 42}, {'token': '**', 'token_id': 1275, 'type': 'input', 'position': 43}, {'token': '11', 'token_id': 1258, 'type': 'input', 'position': 44}, {'token': '-', 'token_id': 113, 'type': 'input', 'position': 45}, {'token': '15', 'token_id': 1415, 'type': 'input', 'position': 46}, {'token': '**', 'token_id': 1275, 'type': 'input', 'position': 47}, {'token': '].', 'token_id': 4184, 'type': 'input', 'position': 48}, {'token': '▁Initially', 'token_id': 31001, 'type': 'input', 'position': 49}, {'token': '▁brought', 'token_id': 3282, 'type': 'input', 'position': 50}, {'token': '▁to', 'token_id': 385, 'type': 'input', 'position': 51}, {'token': '▁[', 'token_id': 786, 'type': 'input', 'position': 52}, {'token': '**', 'token_id': 1275, 'type': 'input', 'position': 53}, {'token': 'H', 'token_id': 140, 'type': 'input', 'position': 54}, {'token': 'ospital', 'token_id': 3632, 'type': 'input', 'position': 55}, {'token': '1', 'token_id': 117, 'type': 'input', 'position': 56}, {'token': '▁777', 'token_id': 35635, 'type': 'input', 'position': 57}, {'token': '**', 'token_id': 1275, 'type': 'input', 'position': 58}, {'token': ']', 'token_id': 161, 'type': 'input', 'position': 59}, {'token': '▁with', 'token_id': 452, 'type': 'input', 'position': 60}, {'token': '▁G', 'token_id': 503, 'type': 'input', 'position': 61}, {'token': 'CS', 'token_id': 8003, 'type': 'input', 'position': 62}, {'token': '▁of', 'token_id': 387, 'type': 'input', 'position': 63}, {'token': '▁5', 'token_id': 743, 'type': 'input', 'position': 64}, {'token': '▁and', 'token_id': 391, 'type': 'input', 'position': 65}, {'token': '▁in', 'token_id': 388, 'type': 'input', 'position': 66}, {'token': 'tub', 'token_id': 38096, 'type': 'input', 'position': 67}, {'token': 'ated', 'token_id': 616, 'type': 'input', 'position': 68}, {'token': '.', 'token_id': 114, 'type': 'input', 'position': 69}, {'token': '▁Was', 'token_id': 9021, 'type': 'input', 'position': 70}, {'token': '▁given', 'token_id': 1914, 'type': 'input', 'position': 71}, {'token': '▁Vit', 'token_id': 18372, 'type': 'input', 'position': 72}, {'token': '▁K', 'token_id': 610, 'type': 'input', 'position': 73}, {'token': '▁10', 'token_id': 939, 'type': 'input', 'position': 74}, {'token': 'mg', 'token_id': 11397, 'type': 'input', 'position': 75}, {'token': ',', 'token_id': 112, 'type': 'input', 'position': 76}, {'token': '▁hypert', 'token_id': 32709, 'type': 'input', 'position': 77}, {'token': 'onic', 'token_id': 9330, 'type': 'input', 'position': 78}, {'token': '▁saline', 'token_id': 47476, 'type': 'input', 'position': 79}, {'token': '▁,', 'token_id': 938, 'type': 'input', 'position': 80}, {'token': '▁D', 'token_id': 461, 'type': 'input', 'position': 81}, {'token': 'ilan', 'token_id': 38340, 'type': 'input', 'position': 82}, {'token': 'tin', 'token_id': 43802, 'type': 'input', 'position': 83}, {'token': '▁1', 'token_id': 453, 'type': 'input', 'position': 84}, {'token': 'gm', 'token_id': 39971, 'type': 'input', 'position': 85}, {'token': ',', 'token_id': 112, 'type': 'input', 'position': 86}, {'token': '▁Pro', 'token_id': 1142, 'type': 'input', 'position': 87}, {'token': 'po', 'token_id': 7602, 'type': 'input', 'position': 88}, {'token': 'fol', 'token_id': 9163, 'type': 'input', 'position': 89}, {'token': '▁@', 'token_id': 2589, 'type': 'input', 'position': 90}, {'token': '▁10', 'token_id': 939, 'type': 'input', 'position': 91}, {'token': 'mc', 'token_id': 23310, 'type': 'input', 'position': 92}, {'token': 'g', 'token_id': 171, 'type': 'input', 'position': 93}, {'token': '.', 'token_id': 114, 'type': 'input', 'position': 94}, {'token': '▁He', 'token_id': 780, 'type': 'input', 'position': 95}, {'token': '▁was', 'token_id': 474, 'type': 'input', 'position': 96}, {'token': '▁transferred', 'token_id': 11273, 'type': 'input', 'position': 97}, {'token': '▁to', 'token_id': 385, 'type': 'input', 'position': 98}, {'token': '▁[', 'token_id': 786, 'type': 'input', 'position': 99}, {'token': '**', 'token_id': 1275, 'type': 'input', 'position': 100}, {'token': 'H', 'token_id': 140, 'type': 'input', 'position': 101}, {'token': 'ospital', 'token_id': 3632, 'type': 'input', 'position': 102}, {'token': '1', 'token_id': 117, 'type': 'input', 'position': 103}, {'token': '▁22', 'token_id': 2635, 'type': 'input', 'position': 104}, {'token': '**', 'token_id': 1275, 'type': 'input', 'position': 105}, {'token': ']', 'token_id': 161, 'type': 'input', 'position': 106}, {'token': '▁ER', 'token_id': 13894, 'type': 'input', 'position': 107}, {'token': '▁where', 'token_id': 911, 'type': 'input', 'position': 108}, {'token': '▁Neuro', 'token_id': 13883, 'type': 'input', 'position': 109}, {'token': 'sur', 'token_id': 11894, 'type': 'input', 'position': 110}, {'token': 'gery', 'token_id': 7177, 'type': 'input', 'position': 111}, {'token': '▁was', 'token_id': 474, 'type': 'input', 'position': 112}, {'token': '▁consulted', 'token_id': 26990, 'type': 'input', 'position': 113}, {'token': '.', 'token_id': 114, 'type': 'input', 'position': 114}, {'token': '▁Upon', 'token_id': 14539, 'type': 'input', 'position': 115}, {'token': '▁arrival', 'token_id': 10426, 'type': 'input', 'position': 116}, {'token': '▁I', 'token_id': 415, 'type': 'input', 'position': 117}, {'token': 'NR', 'token_id': 24824, 'type': 'input', 'position': 118}, {'token': '▁3', 'token_id': 614, 'type': 'input', 'position': 119}, {'token': '.', 'token_id': 114, 'type': 'input', 'position': 120}, {'token': '0', 'token_id': 116, 'type': 'input', 'position': 121}, {'token': '.', 'token_id': 114, 'type': 'input', 'position': 122}, {'token': '▁F', 'token_id': 477, 'type': 'input', 'position': 123}, {'token': 'FP', 'token_id': 5938, 'type': 'input', 'position': 124}, {'token': '▁started', 'token_id': 2168, 'type': 'input', 'position': 125}, {'token': ',', 'token_id': 112, 'type': 'input', 'position': 126}, {'token': '▁and', 'token_id': 391, 'type': 'input', 'position': 127}, {'token': '▁emer', 'token_id': 3266, 'type': 'input', 'position': 128}, {'token': 'gent', 'token_id': 6884, 'type': 'input', 'position': 129}, {'token': '▁bolt', 'token_id': 18201, 'type': 'input', 'position': 130}, {'token': '▁placed', 'token_id': 4725, 'type': 'input', 'position': 131}, {'token': '.', 'token_id': 114, 'type': 'input', 'position': 132}, {'token': '<unk>', 'token_id': 100, 'type': 'input', 'position': 133}, {'token': '▁MED', 'token_id': 26213, 'type': 'input', 'position': 134}, {'token': 'ICAL', 'token_id': 20252, 'type': 'input', 'position': 135}, {'token': '▁H', 'token_id': 468, 'type': 'input', 'position': 136}, {'token': 'ISTORY', 'token_id': 42581, 'type': 'input', 'position': 137}, {'token': ':', 'token_id': 126, 'type': 'input', 'position': 138}, {'token': '▁D', 'token_id': 461, 'type': 'input', 'position': 139}, {'token': 'VT', 'token_id': 36493, 'type': 'input', 'position': 140}, {'token': '<unk>', 'token_id': 100, 'type': 'input', 'position': 141}, {'token': '▁MED', 'token_id': 26213, 'type': 'input', 'position': 142}, {'token': 'IC', 'token_id': 2250, 'type': 'input', 'position': 143}, {'token': 'ATION', 'token_id': 6335, 'type': 'input', 'position': 144}, {'token': '▁ON', 'token_id': 6278, 'type': 'input', 'position': 145}, {'token': '▁A', 'token_id': 418, 'type': 'input', 'position': 146}, {'token': 'DM', 'token_id': 23228, 'type': 'input', 'position': 147}, {'token': 'ISSION', 'token_id': 40474, 'type': 'input', 'position': 148}, {'token': ':', 'token_id': 126, 'type': 'input', 'position': 149}, {'token': '▁Co', 'token_id': 1867, 'type': 'input', 'position': 150}, {'token': 'um', 'token_id': 489, 'type': 'input', 'position': 151}, {'token': 'adin', 'token_id': 17173, 'type': 'input', 'position': 152}, {'token': '<unk>', 'token_id': 100, 'type': 'input', 'position': 153}, {'token': '▁ALL', 'token_id': 11197, 'type': 'input', 'position': 154}, {'token': 'ERG', 'token_id': 49938, 'type': 'input', 'position': 155}, {'token': 'IES', 'token_id': 11116, 'type': 'input', 'position': 156}, {'token': ':', 'token_id': 126, 'type': 'input', 'position': 157}, {'token': '▁No', 'token_id': 1501, 'type': 'input', 'position': 158}, {'token': '▁Drug', 'token_id': 11196, 'type': 'input', 'position': 159}, {'token': '▁All', 'token_id': 1540, 'type': 'input', 'position': 160}, {'token': 'ergy', 'token_id': 26180, 'type': 'input', 'position': 161}, {'token': '▁Information', 'token_id': 6289, 'type': 'input', 'position': 162}, {'token': '▁on', 'token_id': 420, 'type': 'input', 'position': 163}, {'token': '▁File', 'token_id': 9321, 'type': 'input', 'position': 164}, {'token': '<unk>', 'token_id': 100, 'type': 'input', 'position': 165}, {'token': '▁PH', 'token_id': 9471, 'type': 'input', 'position': 166}, {'token': 'YS', 'token_id': 16410, 'type': 'input', 'position': 167}, {'token': 'ICAL', 'token_id': 20252, 'type': 'input', 'position': 168}, {'token': '▁EX', 'token_id': 7889, 'type': 'input', 'position': 169}, {'token': 'AM', 'token_id': 2491, 'type': 'input', 'position': 170}, {'token': ':', 'token_id': 126, 'type': 'input', 'position': 171}, {'token': '▁On', 'token_id': 1651, 'type': 'input', 'position': 172}, {'token': '▁Admission', 'token_id': 44126, 'type': 'input', 'position': 173}, {'token': ':', 'token_id': 126, 'type': 'input', 'position': 174}, {'token': '▁O', 'token_id': 541, 'type': 'input', 'position': 175}, {'token': ':', 'token_id': 126, 'type': 'input', 'position': 176}, {'token': '▁T', 'token_id': 410, 'type': 'input', 'position': 177}, {'token': ':', 'token_id': 126, 'type': 'input', 'position': 178}, {'token': '▁97', 'token_id': 10212, 'type': 'input', 'position': 179}, {'token': '▁BP', 'token_id': 21098, 'type': 'input', 'position': 180}, {'token': ':', 'token_id': 126, 'type': 'input', 'position': 181}, {'token': '▁128', 'token_id': 13209, 'type': 'input', 'position': 182}, {'token': '/', 'token_id': 115, 'type': 'input', 'position': 183}, {'token': '68', 'token_id': 3205, 'type': 'input', 'position': 184}, {'token': '▁HR', 'token_id': 15273, 'type': 'input', 'position': 185}, {'token': ':', 'token_id': 126, 'type': 'input', 'position': 186}, {'token': '▁59', 'token_id': 7964, 'type': 'input', 'position': 187}, {'token': '▁R', 'token_id': 472, 'type': 'input', 'position': 188}, {'token': '▁16', 'token_id': 1568, 'type': 'input', 'position': 189}, {'token': '▁O', 'token_id': 541, 'type': 'input', 'position': 190}, {'token': '2', 'token_id': 118, 'type': 'input', 'position': 191}, {'token': 'S', 'token_id': 151, 'type': 'input', 'position': 192}, {'token': 'ats', 'token_id': 1482, 'type': 'input', 'position': 193}, {'token': '▁98', 'token_id': 9762, 'type': 'input', 'position': 194}, {'token': '▁/', 'token_id': 1321, 'type': 'input', 'position': 195}, {'token': '▁in', 'token_id': 388, 'type': 'input', 'position': 196}, {'token': 'tub', 'token_id': 38096, 'type': 'input', 'position': 197}, {'token': 'ated', 'token_id': 616, 'type': 'input', 'position': 198}, {'token': '▁Gen', 'token_id': 5316, 'type': 'input', 'position': 199}, {'token': ':', 'token_id': 126, 'type': 'input', 'position': 200}, {'token': '▁In', 'token_id': 655, 'type': 'input', 'position': 201}, {'token': 'tub', 'token_id': 38096, 'type': 'input', 'position': 202}, {'token': 'ated', 'token_id': 616, 'type': 'input', 'position': 203}, {'token': '▁and', 'token_id': 391, 'type': 'input', 'position': 204}, {'token': '▁se', 'token_id': 485, 'type': 'input', 'position': 205}, {'token': 'dated', 'token_id': 8816, 'type': 'input', 'position': 206}, {'token': ';', 'token_id': 127, 'type': 'input', 'position': 207}, {'token': '▁Right', 'token_id': 6599, 'type': 'input', 'position': 208}, {'token': '▁facial', 'token_id': 16425, 'type': 'input', 'position': 209}, {'token': '▁and', 'token_id': 391, 'type': 'input', 'position': 210}, {'token': '▁p', 'token_id': 380, 'type': 'input', 'position': 211}, {'token': 'eri', 'token_id': 33543, 'type': 'input', 'position': 212}, {'token': 'orb', 'token_id': 27789, 'type': 'input', 'position': 213}, {'token': 'ital', 'token_id': 1388, 'type': 'input', 'position': 214}, {'token': '▁ec', 'token_id': 10041, 'type': 'input', 'position': 215}, {'token': 'ch', 'token_id': 455, 'type': 'input', 'position': 216}, {'token': 'ym', 'token_id': 5049, 'type': 'input', 'position': 217}, {'token': 'osis', 'token_id': 6059, 'type': 'input', 'position': 218}, {'token': './', 'token_id': 19672, 'type': 'input', 'position': 219}, {'token': '▁c', 'token_id': 370, 'type': 'input', 'position': 220}, {'token': '-', 'token_id': 113, 'type': 'input', 'position': 221}, {'token': 'collar', 'token_id': 37777, 'type': 'input', 'position': 222}, {'token': '▁in', 'token_id': 388, 'type': 'input', 'position': 223}, {'token': '▁place', 'token_id': 1396, 'type': 'input', 'position': 224}, {'token': '/', 'token_id': 115, 'type': 'input', 'position': 225}, {'token': '▁Neuro', 'token_id': 13883, 'type': 'input', 'position': 226}, {'token': ':', 'token_id': 126, 'type': 'input', 'position': 227}, {'token': '▁Upon', 'token_id': 14539, 'type': 'input', 'position': 228}, {'token': '▁arrival', 'token_id': 10426, 'type': 'input', 'position': 229}, {'token': ',', 'token_id': 112, 'type': 'input', 'position': 230}, {'token': '▁pt', 'token_id': 43076, 'type': 'input', 'position': 231}, {'token': '▁was', 'token_id': 474, 'type': 'input', 'position': 232}, {'token': '▁in', 'token_id': 388, 'type': 'input', 'position': 233}, {'token': 'tub', 'token_id': 38096, 'type': 'input', 'position': 234}, {'token': 'ated', 'token_id': 616, 'type': 'input', 'position': 235}, {'token': '▁and', 'token_id': 391, 'type': 'input', 'position': 236}, {'token': '▁se', 'token_id': 485, 'type': 'input', 'position': 237}, {'token': 'dated', 'token_id': 8816, 'type': 'input', 'position': 238}, {'token': '▁on', 'token_id': 420, 'type': 'input', 'position': 239}, {'token': '▁Pro', 'token_id': 1142, 'type': 'input', 'position': 240}, {'token': 'po', 'token_id': 7602, 'type': 'input', 'position': 241}, {'token': 'fol', 'token_id': 9163, 'type': 'input', 'position': 242}, {'token': '.', 'token_id': 114, 'type': 'input', 'position': 243}, {'token': '▁No', 'token_id': 1501, 'type': 'input', 'position': 244}, {'token': '▁eye', 'token_id': 4252, 'type': 'input', 'position': 245}, {'token': '▁opening', 'token_id': 4857, 'type': 'input', 'position': 246}, {'token': '▁to', 'token_id': 385, 'type': 'input', 'position': 247}, {'token': '▁s', 'token_id': 365, 'type': 'input', 'position': 248}, {'token': 'ternal', 'token_id': 4459, 'type': 'input', 'position': 249}, {'token': '▁rub', 'token_id': 6538, 'type': 'input', 'position': 250}, {'token': '.', 'token_id': 114, 'type': 'input', 'position': 251}, {'token': '▁No', 'token_id': 1501, 'type': 'input', 'position': 252}, {'token': '▁movement', 'token_id': 3457, 'type': 'input', 'position': 253}, {'token': '▁of', 'token_id': 387, 'type': 'input', 'position': 254}, {'token': '▁extrem', 'token_id': 9064, 'type': 'input', 'position': 255}, {'token': 'ities', 'token_id': 972, 'type': 'input', 'position': 256}, {'token': '▁to', 'token_id': 385, 'type': 'input', 'position': 257}, {'token': '▁', 'token_id': 321, 'type': 'input', 'position': 258}, {'token': 'noxious', 'token_id': 40692, 'type': 'input', 'position': 259}, {'token': '▁stimulation', 'token_id': 20188, 'type': 'input', 'position': 260}, {'token': '.', 'token_id': 114, 'type': 'input', 'position': 261}, {'token': '▁P', 'token_id': 451, 'type': 'input', 'position': 262}, {'token': 'up', 'token_id': 1030, 'type': 'input', 'position': 263}, {'token': 'ils', 'token_id': 4588, 'type': 'input', 'position': 264}, {'token': '▁were', 'token_id': 648, 'type': 'input', 'position': 265}, {'token': '▁2', 'token_id': 463, 'type': 'input', 'position': 266}, {'token': '▁to', 'token_id': 385, 'type': 'input', 'position': 267}, {'token': '▁1', 'token_id': 453, 'type': 'input', 'position': 268}, {'token': '.', 'token_id': 114, 'type': 'input', 'position': 269}, {'token': '5', 'token_id': 121, 'type': 'input', 'position': 270}, {'token': '▁b', 'token_id': 376, 'type': 'input', 'position': 271}, {'token': 'ilaterally', 'token_id': 39808, 'type': 'input', 'position': 272}, {'token': '.', 'token_id': 114, 'type': 'input', 'position': 273}, {'token': '▁Trace', 'token_id': 35013, 'type': 'input', 'position': 274}, {'token': '▁corn', 'token_id': 11777, 'type': 'input', 'position': 275}, {'token': 'eal', 'token_id': 2388, 'type': 'input', 'position': 276}, {'token': '▁reflex', 'token_id': 24234, 'type': 'input', 'position': 277}, {'token': '▁with', 'token_id': 452, 'type': 'input', 'position': 278}, {'token': '▁trace', 'token_id': 12955, 'type': 'input', 'position': 279}, {'token': '▁pup', 'token_id': 15653, 'type': 'input', 'position': 280}, {'token': 'illary', 'token_id': 15957, 'type': 'input', 'position': 281}, {'token': '▁response', 'token_id': 2983, 'type': 'input', 'position': 282}, {'token': '.', 'token_id': 114, 'type': 'input', 'position': 283}, {'token': '▁G', 'token_id': 503, 'type': 'input', 'position': 284}, {'token': 'CS', 'token_id': 8003, 'type': 'input', 'position': 285}, {'token': '=', 'token_id': 129, 'type': 'input', 'position': 286}, {'token': '3', 'token_id': 119, 'type': 'input', 'position': 287}, {'token': 'T', 'token_id': 152, 'type': 'input', 'position': 288}, {'token': '▁on', 'token_id': 420, 'type': 'input', 'position': 289}, {'token': '▁sed', 'token_id': 10182, 'type': 'input', 'position': 290}, {'token': 'ation', 'token_id': 442, 'type': 'input', 'position': 291}, {'token': '.', 'token_id': 114, 'type': 'input', 'position': 292}, {'token': '▁Neuro', 'token_id': 13883, 'type': 'input', 'position': 293}, {'token': '▁exam', 'token_id': 2915, 'type': 'input', 'position': 294}, {'token': '▁repeated', 'token_id': 5201, 'type': 'input', 'position': 295}, {'token': '▁after', 'token_id': 807, 'type': 'input', 'position': 296}, {'token': '▁pt', 'token_id': 43076, 'type': 'input', 'position': 297}, {'token': '▁returned', 'token_id': 4605, 'type': 'input', 'position': 298}, {'token': '▁from', 'token_id': 523, 'type': 'input', 'position': 299}, {'token': '▁CT', 'token_id': 16457, 'type': 'input', 'position': 300}, {'token': '▁scan', 'token_id': 9468, 'type': 'input', 'position': 301}, {'token': '.', 'token_id': 114, 'type': 'input', 'position': 302}, {'token': '▁Note', 'token_id': 5841, 'type': 'input', 'position': 303}, {'token': ':', 'token_id': 126, 'type': 'input', 'position': 304}, {'token': '▁while', 'token_id': 1082, 'type': 'input', 'position': 305}, {'token': '▁in', 'token_id': 388, 'type': 'input', 'position': 306}, {'token': '▁scanner', 'token_id': 27575, 'type': 'input', 'position': 307}, {'token': ',', 'token_id': 112, 'type': 'input', 'position': 308}, {'token': '▁pt', 'token_id': 43076, 'type': 'input', 'position': 309}, {'token': '▁had', 'token_id': 651, 'type': 'input', 'position': 310}, {'token': '▁some', 'token_id': 718, 'type': 'input', 'position': 311}, {'token': '▁spontaneous', 'token_id': 25420, 'type': 'input', 'position': 312}, {'token': '▁upper', 'token_id': 6828, 'type': 'input', 'position': 313}, {'token': '▁ext', 'token_id': 1171, 'type': 'input', 'position': 314}, {'token': '.', 'token_id': 114, 'type': 'input', 'position': 315}, {'token': '▁movement', 'token_id': 3457, 'type': 'input', 'position': 316}, {'token': '.', 'token_id': 114, 'type': 'input', 'position': 317}, {'token': '▁On', 'token_id': 1651, 'type': 'input', 'position': 318}, {'token': '▁exam', 'token_id': 2915, 'type': 'input', 'position': 319}, {'token': ':', 'token_id': 126, 'type': 'input', 'position': 320}, {'token': '▁Pt', 'token_id': 34453, 'type': 'input', 'position': 321}, {'token': '▁without', 'token_id': 1332, 'type': 'input', 'position': 322}, {'token': '▁eye', 'token_id': 4252, 'type': 'input', 'position': 323}, {'token': '▁opening', 'token_id': 4857, 'type': 'input', 'position': 324}, {'token': '▁to', 'token_id': 385, 'type': 'input', 'position': 325}, {'token': '▁voice', 'token_id': 3910, 'type': 'input', 'position': 326}, {'token': '▁or', 'token_id': 494, 'type': 'input', 'position': 327}, {'token': '▁', 'token_id': 321, 'type': 'input', 'position': 328}, {'token': 'noxious', 'token_id': 40692, 'type': 'input', 'position': 329}, {'token': '▁stim', 'token_id': 7233, 'type': 'input', 'position': 330}, {'token': '.', 'token_id': 114, 'type': 'input', 'position': 331}, {'token': '▁?', 'token_id': 5734, 'type': 'input', 'position': 332}, {'token': '▁follow', 'token_id': 1162, 'type': 'input', 'position': 333}, {'token': '▁commands', 'token_id': 9830, 'type': 'input', 'position': 334}, {'token': '▁->', 'token_id': 4714, 'type': 'input', 'position': 335}, {'token': 'm', 'token_id': 177, 'type': 'input', 'position': 336}, {'token': 'oved', 'token_id': 2769, 'type': 'input', 'position': 337}, {'token': '▁feet', 'token_id': 3726, 'type': 'input', 'position': 338}, {'token': '▁x', 'token_id': 2225, 'type': 'input', 'position': 339}, {'token': '▁2', 'token_id': 463, 'type': 'input', 'position': 340}, {'token': '▁to', 'token_id': 385, 'type': 'input', 'position': 341}, {'token': '▁request', 'token_id': 2682, 'type': 'input', 'position': 342}, {'token': '▁of', 'token_id': 387, 'type': 'input', 'position': 343}, {'token': '▁w', 'token_id': 367, 'type': 'input', 'position': 344}, {'token': 'iggle', 'token_id': 24183, 'type': 'input', 'position': 345}, {'token': '▁toes', 'token_id': 24033, 'type': 'input', 'position': 346}, {'token': '.', 'token_id': 114, 'type': 'input', 'position': 347}, {'token': '▁Pt', 'token_id': 34453, 'type': 'input', 'position': 348}, {'token': '▁local', 'token_id': 2058, 'type': 'input', 'position': 349}, {'token': 'izes', 'token_id': 4441, 'type': 'input', 'position': 350}, {'token': '▁brisk', 'token_id': 36085, 'type': 'input', 'position': 351}, {'token': 'ly', 'token_id': 407, 'type': 'input', 'position': 352}, {'token': '▁with', 'token_id': 452, 'type': 'input', 'position': 353}, {'token': '▁R', 'token_id': 472, 'type': 'input', 'position': 354}, {'token': 'UE', 'token_id': 9025, 'type': 'input', 'position': 355}, {'token': ',', 'token_id': 112, 'type': 'input', 'position': 356}, {'token': '▁Ext', 'token_id': 5784, 'type': 'input', 'position': 357}, {'token': 'ensor', 'token_id': 22955, 'type': 'input', 'position': 358}, {'token': '▁post', 'token_id': 1382, 'type': 'input', 'position': 359}, {'token': 'ures', 'token_id': 1043, 'type': 'input', 'position': 360}, {'token': '▁with', 'token_id': 452, 'type': 'input', 'position': 361}, {'token': '▁L', 'token_id': 507, 'type': 'input', 'position': 362}, {'token': 'UE', 'token_id': 9025, 'type': 'input', 'position': 363}, {'token': ',', 'token_id': 112, 'type': 'input', 'position': 364}, {'token': '▁w', 'token_id': 367, 'type': 'input', 'position': 365}, {'token': '/', 'token_id': 115, 'type': 'input', 'position': 366}, {'token': 'd', 'token_id': 168, 'type': 'input', 'position': 367}, {'token': \"'s\", 'token_id': 439, 'type': 'input', 'position': 368}, {'token': '▁b', 'token_id': 376, 'type': 'input', 'position': 369}, {'token': '/', 'token_id': 115, 'type': 'input', 'position': 370}, {'token': 'l', 'token_id': 176, 'type': 'input', 'position': 371}, {'token': '▁LE', 'token_id': 12610, 'type': 'input', 'position': 372}, {'token': \"'s\", 'token_id': 439, 'type': 'input', 'position': 373}, {'token': '▁to', 'token_id': 385, 'type': 'input', 'position': 374}, {'token': '▁', 'token_id': 321, 'type': 'input', 'position': 375}, {'token': 'noxious', 'token_id': 40692, 'type': 'input', 'position': 376}, {'token': ',', 'token_id': 112, 'type': 'input', 'position': 377}, {'token': '▁no', 'token_id': 746, 'type': 'input', 'position': 378}, {'token': '▁c', 'token_id': 370, 'type': 'input', 'position': 379}, {'token': 'lon', 'token_id': 15096, 'type': 'input', 'position': 380}, {'token': 'us', 'token_id': 486, 'type': 'input', 'position': 381}, {'token': '.', 'token_id': 114, 'type': 'input', 'position': 382}, {'token': '▁Pt', 'token_id': 34453, 'type': 'input', 'position': 383}, {'token': '▁lightly', 'token_id': 15477, 'type': 'input', 'position': 384}, {'token': '▁chewing', 'token_id': 36716, 'type': 'input', 'position': 385}, {'token': '▁on', 'token_id': 420, 'type': 'input', 'position': 386}, {'token': '▁E', 'token_id': 513, 'type': 'input', 'position': 387}, {'token': 'TT', 'token_id': 15852, 'type': 'input', 'position': 388}, {'token': '.', 'token_id': 114, 'type': 'input', 'position': 389}, {'token': '▁G', 'token_id': 503, 'type': 'input', 'position': 390}, {'token': 'CS', 'token_id': 8003, 'type': 'input', 'position': 391}, {'token': '=', 'token_id': 129, 'type': 'input', 'position': 392}, {'token': '▁E', 'token_id': 513, 'type': 'input', 'position': 393}, {'token': '=', 'token_id': 129, 'type': 'input', 'position': 394}, {'token': '1', 'token_id': 117, 'type': 'input', 'position': 395}, {'token': ',', 'token_id': 112, 'type': 'input', 'position': 396}, {'token': '▁M', 'token_id': 438, 'type': 'input', 'position': 397}, {'token': '=', 'token_id': 129, 'type': 'input', 'position': 398}, {'token': '5', 'token_id': 121, 'type': 'input', 'position': 399}, {'token': ',', 'token_id': 112, 'type': 'input', 'position': 400}, {'token': '▁V', 'token_id': 670, 'type': 'input', 'position': 401}, {'token': '=', 'token_id': 129, 'type': 'input', 'position': 402}, {'token': '1', 'token_id': 117, 'type': 'input', 'position': 403}, {'token': 'T', 'token_id': 152, 'type': 'input', 'position': 404}, {'token': '▁=', 'token_id': 897, 'type': 'input', 'position': 405}, {'token': '▁7', 'token_id': 868, 'type': 'input', 'position': 406}, {'token': 'T', 'token_id': 152, 'type': 'input', 'position': 407}, {'token': '▁HE', 'token_id': 11280, 'type': 'input', 'position': 408}, {'token': 'ENT', 'token_id': 3626, 'type': 'input', 'position': 409}, {'token': ':', 'token_id': 126, 'type': 'input', 'position': 410}, {'token': '▁+', 'token_id': 1444, 'type': 'input', 'position': 411}, {'token': '▁Rac', 'token_id': 24847, 'type': 'input', 'position': 412}, {'token': 'coon', 'token_id': 21013, 'type': 'input', 'position': 413}, {'token': \"'s\", 'token_id': 439, 'type': 'input', 'position': 414}, {'token': '▁sign', 'token_id': 1152, 'type': 'input', 'position': 415}, {'token': ',', 'token_id': 112, 'type': 'input', 'position': 416}, {'token': '▁Neg', 'token_id': 13597, 'type': 'input', 'position': 417}, {'token': '▁battles', 'token_id': 10282, 'type': 'input', 'position': 418}, {'token': '▁sign', 'token_id': 1152, 'type': 'input', 'position': 419}, {'token': ',', 'token_id': 112, 'type': 'input', 'position': 420}, {'token': '▁negative', 'token_id': 4734, 'type': 'input', 'position': 421}, {'token': '▁he', 'token_id': 440, 'type': 'input', 'position': 422}, {'token': 'mot', 'token_id': 28027, 'type': 'input', 'position': 423}, {'token': 'ym', 'token_id': 5049, 'type': 'input', 'position': 424}, {'token': 'pa', 'token_id': 9058, 'type': 'input', 'position': 425}, {'token': 'num', 'token_id': 22611, 'type': 'input', 'position': 426}, {'token': ',', 'token_id': 112, 'type': 'input', 'position': 427}, {'token': '▁negative', 'token_id': 4734, 'type': 'input', 'position': 428}, {'token': '▁C', 'token_id': 428, 'type': 'input', 'position': 429}, {'token': 'SF', 'token_id': 20903, 'type': 'input', 'position': 430}, {'token': '▁r', 'token_id': 475, 'type': 'input', 'position': 431}, {'token': 'hin', 'token_id': 20180, 'type': 'input', 'position': 432}, {'token': 'orr', 'token_id': 38991, 'type': 'input', 'position': 433}, {'token': 'hea', 'token_id': 21733, 'type': 'input', 'position': 434}, {'token': '/', 'token_id': 115, 'type': 'input', 'position': 435}, {'token': 'ot', 'token_id': 414, 'type': 'input', 'position': 436}, {'token': 'orr', 'token_id': 38991, 'type': 'input', 'position': 437}, {'token': 'hea', 'token_id': 21733, 'type': 'input', 'position': 438}, {'token': '.', 'token_id': 114, 'type': 'input', 'position': 439}, {'token': '▁Neck', 'token_id': 34827, 'type': 'input', 'position': 440}, {'token': ':', 'token_id': 126, 'type': 'input', 'position': 441}, {'token': '▁In', 'token_id': 655, 'type': 'input', 'position': 442}, {'token': '▁collar', 'token_id': 20009, 'type': 'input', 'position': 443}, {'token': '.', 'token_id': 114, 'type': 'input', 'position': 444}, {'token': '▁Lun', 'token_id': 20049, 'type': 'input', 'position': 445}, {'token': 'gs', 'token_id': 14643, 'type': 'input', 'position': 446}, {'token': ':', 'token_id': 126, 'type': 'input', 'position': 447}, {'token': '▁clear', 'token_id': 1699, 'type': 'input', 'position': 448}, {'token': '▁/', 'token_id': 1321, 'type': 'input', 'position': 449}, {'token': '▁?', 'token_id': 5734, 'type': 'input', 'position': 450}, {'token': '▁R', 'token_id': 472, 'type': 'input', 'position': 451}, {'token': '▁lower', 'token_id': 2894, 'type': 'input', 'position': 452}, {'token': '▁lobe', 'token_id': 50019, 'type': 'input', 'position': 453}, {'token': '▁r', 'token_id': 475, 'type': 'input', 'position': 454}, {'token': 'hon', 'token_id': 24231, 'type': 'input', 'position': 455}, {'token': 'chi', 'token_id': 11173, 'type': 'input', 'position': 456}, {'token': '▁Card', 'token_id': 5273, 'type': 'input', 'position': 457}, {'token': 'iac', 'token_id': 9708, 'type': 'input', 'position': 458}, {'token': ':', 'token_id': 126, 'type': 'input', 'position': 459}, {'token': '▁s', 'token_id': 365, 'type': 'input', 'position': 460}, {'token': '1', 'token_id': 117, 'type': 'input', 'position': 461}, {'token': '▁s', 'token_id': 365, 'type': 'input', 'position': 462}, {'token': '2', 'token_id': 118, 'type': 'input', 'position': 463}, {'token': '▁R', 'token_id': 472, 'type': 'input', 'position': 464}, {'token': 'RR', 'token_id': 21196, 'type': 'input', 'position': 465}, {'token': '▁Abd', 'token_id': 17971, 'type': 'input', 'position': 466}, {'token': ':', 'token_id': 126, 'type': 'input', 'position': 467}, {'token': '▁Soft', 'token_id': 8398, 'type': 'input', 'position': 468}, {'token': '▁Extrem', 'token_id': 47972, 'type': 'input', 'position': 469}, {'token': ':', 'token_id': 126, 'type': 'input', 'position': 470}, {'token': '▁Warm', 'token_id': 25793, 'type': 'input', 'position': 471}, {'token': '▁and', 'token_id': 391, 'type': 'input', 'position': 472}, {'token': '▁well', 'token_id': 981, 'type': 'input', 'position': 473}, {'token': '-', 'token_id': 113, 'type': 'input', 'position': 474}, {'token': 'pe', 'token_id': 532, 'type': 'input', 'position': 475}, {'token': 'rf', 'token_id': 41972, 'type': 'input', 'position': 476}, {'token': 'used', 'token_id': 1585, 'type': 'input', 'position': 477}, {'token': '▁/', 'token_id': 1321, 'type': 'input', 'position': 478}, {'token': '▁no', 'token_id': 746, 'type': 'input', 'position': 479}, {'token': '▁ed', 'token_id': 1326, 'type': 'input', 'position': 480}, {'token': 'ema', 'token_id': 19788, 'type': 'input', 'position': 481}, {'token': '.', 'token_id': 114, 'type': 'input', 'position': 482}, {'token': '<unk>', 'token_id': 100, 'type': 'input', 'position': 483}, {'token': '▁FAM', 'token_id': 42230, 'type': 'input', 'position': 484}, {'token': 'ILY', 'token_id': 33441, 'type': 'input', 'position': 485}, {'token': '▁H', 'token_id': 468, 'type': 'input', 'position': 486}, {'token': 'ISTORY', 'token_id': 42581, 'type': 'input', 'position': 487}, {'token': ':', 'token_id': 126, 'type': 'input', 'position': 488}, {'token': '▁Non', 'token_id': 8605, 'type': 'input', 'position': 489}, {'token': '-', 'token_id': 113, 'type': 'input', 'position': 490}, {'token': 'cont', 'token_id': 3743, 'type': 'input', 'position': 491}, {'token': 'rib', 'token_id': 923, 'type': 'input', 'position': 492}, {'token': 'utory', 'token_id': 18058, 'type': 'input', 'position': 493}, {'token': '<unk>', 'token_id': 100, 'type': 'input', 'position': 494}, {'token': '▁SOC', 'token_id': 31531, 'type': 'input', 'position': 495}, {'token': 'IAL', 'token_id': 12677, 'type': 'input', 'position': 496}, {'token': '▁H', 'token_id': 468, 'type': 'input', 'position': 497}, {'token': 'ISTORY', 'token_id': 42581, 'type': 'input', 'position': 498}, {'token': ':', 'token_id': 126, 'type': 'input', 'position': 499}, {'token': '▁Married', 'token_id': 44199, 'type': 'input', 'position': 500}, {'token': ',', 'token_id': 112, 'type': 'input', 'position': 501}, {'token': '▁resides', 'token_id': 29177, 'type': 'input', 'position': 502}, {'token': '▁at', 'token_id': 480, 'type': 'input', 'position': 503}, {'token': '▁home', 'token_id': 1464, 'type': 'input', 'position': 504}, {'token': '▁with', 'token_id': 452, 'type': 'input', 'position': 505}, {'token': '▁wife', 'token_id': 3757, 'type': 'input', 'position': 506}, {'token': '.', 'token_id': 114, 'type': 'input', 'position': 507}, {'token': '<unk>', 'token_id': 100, 'type': 'input', 'position': 508}, {'token': '▁', 'token_id': 321, 'type': 'input', 'position': 509}, {'token': '[SEP]', 'token_id': 66, 'type': 'input', 'position': 510}], 'factors': [[[0.08039823919534683, 0.030614778399467468, 0.0, 0.0, 0.011562087573111057, 0.0, 0.0, 0.0, 0.0, 0.0, 0.0, 0.0, 0.038636114448308945, 0.08268797397613525, 0.0, 0.0, 0.04341348260641098, 0.016952548176050186, 0.0, 0.0, 0.0, 0.0, 0.0, 0.008571324869990349, 0.3023988902568817, 0.034126363694667816, 0.0039923894219100475, 0.00739669892936945, 0.17801643908023834, 0.0, 0.0, 0.22671116888523102, 0.12181825190782547, 0.19841797649860382, 0.0, 0.0, 0.0, 0.0, 0.4299488961696625, 0.0, 0.0, 0.3206990659236908, 0.009550194256007671, 0.0, 0.0, 0.0, 0.0, 0.0, 0.011007788591086864, 0.013988225720822811, 0.10460672527551651, 0.47268593311309814, 0.02889261767268181, 0.0, 0.0, 0.02694440819323063, 0.0, 0.0, 0.0, 0.0, 0.0, 0.012185903266072273, 0.01863696426153183, 0.2792809009552002, 0.02411879599094391, 0.36072859168052673, 0.24862390756607056, 0.006401013117283583, 0.0, 0.2842249572277069, 0.11387103796005249, 0.14291535317897797, 0.047535240650177, 0.030362965539097786, 0.02950054034590721, 0.0, 0.0, 0.0, 0.015369653701782227, 0.0, 0.0, 0.022515088319778442, 0.0, 0.03236459940671921, 0.0, 0.004782116040587425, 0.0, 0.0, 0.0, 0.0, 0.027678467333316803, 0.01623670943081379, 0.0007090005674399436, 0.012275475077331066, 0.23744910955429077, 0.0, 0.3094119429588318, 0.03442970663309097, 0.4291689693927765, 0.017756644636392593, 0.0, 0.009719407185912132, 0.05330243706703186, 0.03203656151890755, 0.00964330229908228, 0.0, 0.0016302833100780845, 0.0, 0.1564171463251114, 0.014058617874979973, 0.0, 0.0208358783274889, 0.3397364020347595, 0.024434302002191544, 0.2853151857852936, 0.08504501730203629, 0.046418726444244385, 0.03206329792737961, 0.02694527804851532, 0.0, 0.18163669109344482, 0.02882682904601097, 0.2391088455915451, 0.04091648384928703, 0.09906934201717377, 0.1668129563331604, 0.10541979223489761, 0.4834005534648895, 0.03420542925596237, 0.0589725635945797, 0.020342063158750534, 0.08589529246091843, 0.244341179728508, 0.0032452410086989403, 0.003176274476572871, 0.07168051600456238, 0.06454962491989136, 0.024808214977383614, 0.018719622865319252, 0.017361585050821304, 0.010957867838442326, 0.0, 0.0, 0.0036642279010266066, 0.0, 0.010015181265771389, 0.03159228712320328, 0.003119715955108404, 0.03214751556515694, 0.0, 0.053465016186237335, 0.02034619264304638, 0.003945599310100079, 0.0, 0.0, 0.0, 0.0, 0.0, 0.012969089671969414, 0.05462253838777542, 0.056869667023420334, 0.03428938612341881, 0.017781859263777733, 0.3060833215713501, 0.0, 0.0, 0.0, 0.0, 0.0054533700458705425, 0.0002592352102510631, 0.0, 0.0, 0.01867913268506527, 0.017396366223692894, 0.0, 0.0, 0.0, 0.0, 0.0, 0.0, 0.0, 0.0, 0.0, 0.0, 0.0027424676809459925, 0.0, 0.003524237545207143, 0.0, 0.0, 0.002851110650226474, 0.0, 0.0, 0.006979675497859716, 0.014347650110721588, 0.0, 0.0, 0.28510135412216187, 0.002115149050951004, 0.0, 0.02282542735338211, 0.0, 0.0, 0.0, 0.0, 0.5401556491851807, 0.0, 0.0, 0.137263223528862, 0.05528058484196663, 0.0, 0.5233575701713562, 0.012495916336774826, 0.0, 0.0, 0.0, 0.0, 0.0, 0.0, 0.0, 0.03654239699244499, 0.0, 0.09793883562088013, 0.0268266424536705, 0.3434556722640991, 0.09140066057443619, 0.0, 0.0, 0.0002194128028349951, 0.027463970705866814, 0.02448510006070137, 0.0500338189303875, 0.0, 0.325652152299881, 0.28877556324005127, 0.01437724381685257, 0.0, 0.5331077575683594, 0.0, 0.0, 0.3102380931377411, 0.012089729309082031, 0.0, 0.0, 0.28988248109817505, 0.07542334496974945, 0.10111460834741592, 0.07457677274942398, 0.5243381857872009, 0.027500856667757034, 0.019477101042866707, 0.0221811905503273, 0.25637930631637573, 0.033803291618824005, 0.03712547570466995, 0.34940797090530396, 0.0, 0.028605379164218903, 0.5270960330963135, 0.12296012043952942, 0.017348820343613625, 0.015974603593349457, 0.25223785638809204, 0.02966107614338398, 0.028326554223895073, 0.04373566433787346, 0.3294265568256378, 0.010983060114085674, 0.35100436210632324, 0.005674384068697691, 0.17950955033302307, 0.03664502128958702, 0.0, 0.000728603801690042, 0.22168879210948944, 0.0, 0.0, 0.0031912552658468485, 0.0, 0.006284291855990887, 0.0333891287446022, 0.008809935301542282, 0.02154189720749855, 0.04638925567269325, 0.2603648006916046, 0.00687951035797596, 0.0, 0.0, 0.00984178390353918, 0.0, 0.33850011229515076, 0.0, 0.0, 0.2806336581707001, 0.07791118323802948, 0.010396384634077549, 0.03458021208643913, 0.17057177424430847, 0.0, 0.04616749286651611, 0.19532470405101776, 0.009132908657193184, 0.003581862198188901, 0.26378023624420166, 0.026459040120244026, 0.0216249767690897, 0.2649438679218292, 0.3370295464992523, 0.009166335687041283, 0.011029476299881935, 0.0, 0.24195146560668945, 0.17251893877983093, 0.0, 0.062474627047777176, 0.017825372517108917, 0.2802745997905731, 0.03213542699813843, 0.26109886169433594, 0.03122704289853573, 0.0, 0.009023088030517101, 0.0, 0.0521300807595253, 0.047186654061079025, 0.04254687577486038, 0.4607541263103485, 0.037685174494981766, 0.31895458698272705, 0.02733743004500866, 0.0, 0.0, 0.19175060093402863, 0.0, 0.06446065753698349, 0.0, 0.0, 0.02445964887738228, 0.0039548506028950214, 0.03259727731347084, 0.006855939049273729, 0.0, 0.2932169437408447, 0.030443798750638962, 0.2918824553489685, 0.0, 0.0031190451700240374, 0.02564937248826027, 0.22550034523010254, 0.04560514912009239, 0.019611939787864685, 0.01879940927028656, 0.0, 0.08863981068134308, 0.0, 0.0, 0.0, 0.0, 0.021559081971645355, 0.0, 0.0, 0.0, 0.0, 0.0, 0.0, 0.013914758339524269, 0.0, 0.0, 0.012865690514445305, 0.21391770243644714, 0.0003940771275665611, 0.0, 0.0, 0.03077859804034233, 0.14088329672813416, 0.3971576690673828, 0.05163665860891342, 0.0, 0.07176441699266434, 0.20006516575813293, 0.0, 0.0, 0.010062472894787788, 0.21386660635471344, 0.016920432448387146, 0.04085899516940117, 0.02071487344801426, 0.30395835638046265, 0.04065082594752312, 0.0, 0.19054758548736572, 0.0, 0.0, 0.0, 0.0, 0.0, 0.0, 0.0, 0.0, 0.0, 0.0, 0.0, 0.0, 0.0, 0.0, 0.0, 0.0, 0.004770003724843264, 0.0, 0.0, 0.0, 0.0, 0.0, 0.0, 0.0, 0.18147431313991547, 0.02000955119729042, 0.0, 0.0, 0.0, 0.011737006716430187, 0.0, 0.0013300769496709108, 0.043056704103946686, 0.0, 0.0, 0.0, 0.025164596736431122, 0.0, 0.0, 0.0, 0.014106198213994503, 0.0, 0.0, 0.0, 0.0, 0.0, 0.0, 0.0, 0.0, 0.19540604948997498, 0.0, 0.0, 0.013079975731670856, 0.024325858801603317, 0.23616743087768555, 0.005515472497791052, 0.01915723830461502, 0.0, 0.04839587211608887, 0.00486069405451417, 0.0, 0.0, 0.08134511113166809, 0.04488903284072876, 0.0, 0.0, 0.021493127569556236, 0.0, 0.021044425666332245, 0.0, 0.0, 0.019459392875432968, 0.0, 0.0, 0.0, 0.0, 0.0, 0.0, 0.0, 0.0, 0.01173971127718687, 0.0, 0.46883541345596313, 0.05503593385219574, 0.021007675677537918, 0.0, 0.0, 0.023001231253147125, 0.022547844797372818, 0.19247086346149445, 0.00891883298754692, 0.01658017747104168, 0.22222356498241425, 0.0, 0.0, 0.0, 0.006600606255233288, 0.0, 0.004099495708942413, 0.0356757789850235, 0.0810842514038086, 0.0, 0.021465960890054703, 0.0010242265416309237, 0.0394144169986248, 0.02068020962178707, 0.0, 0.05586787685751915, 0.0037943581119179726, 0.03594552353024483, 0.0, 0.04770026355981827, 0.04210926219820976, 0.24041613936424255, 0.04882454872131348, 0.02499057725071907, 0.03930602967739105, 0.24506030976772308, 0.0, 0.048545658588409424, 0.1250477433204651], [0.0, 0.0, 0.0, 0.8081914186477661, 0.3397291898727417, 0.23434175550937653, 0.30244576930999756, 0.2396705597639084, 0.0, 0.0, 0.0, 0.0, 0.024560891091823578, 0.006238832138478756, 0.0, 0.6149508953094482, 0.14368382096290588, 0.03473113849759102, 0.4525410234928131, 0.0, 0.0, 0.0, 0.0, 0.0, 0.03262144327163696, 0.5961676836013794, 0.03903921693563461, 0.010432777926325798, 0.049235790967941284, 0.6282972693443298, 0.1483333706855774, 0.0, 0.0, 0.018289031460881233, 0.8667236566543579, 0.12771493196487427, 0.0, 0.28551656007766724, 0.0, 0.0, 0.0, 0.0, 0.0, 0.0, 0.0, 0.023088689893484116, 0.0, 0.0, 0.0, 0.48366692662239075, 0.013211938552558422, 0.0, 0.0, 0.0, 0.7004098296165466, 0.10793104767799377, 0.06977862119674683, 0.0, 0.0, 0.0, 0.0, 0.7940887212753296, 0.12814147770404816, 0.011162025853991508, 0.0, 0.0, 0.003807374043390155, 0.0, 0.0, 0.018887247890233994, 0.42258593440055847, 0.05208107456564903, 0.5816695690155029, 0.5307254195213318, 0.05301216244697571, 0.0, 0.09287621080875397, 0.00871024839580059, 0.006464400328695774, 0.0, 0.0, 0.6268561482429504, 0.0026010400615632534, 0.0064972699619829655, 0.045406680554151535, 0.0, 0.04638396203517914, 0.6985490918159485, 0.009412627667188644, 0.0, 0.0, 0.0013923696242272854, 0.0, 0.0, 0.03630385175347328, 0.5149751305580139, 0.0, 0.0, 0.0, 0.0, 0.0, 0.5274307131767273, 0.0, 0.0, 0.0, 0.0, 0.017879221588373184, 0.44042229652404785, 0.05836954340338707, 0.6395624876022339, 0.0, 0.0, 0.0, 0.0, 0.0, 0.4776778817176819, 0.0, 0.4322877824306488, 0.2372414469718933, 0.0, 0.0, 0.0, 0.0, 0.5809589624404907, 0.03409190475940704, 0.0, 0.0, 0.03004509024322033, 0.007038617040961981, 0.02486591227352619, 0.0, 0.0, 0.014773414470255375, 0.0, 0.5050675272941589, 0.2044803649187088, 0.1992439329624176, 0.0, 0.027528196573257446, 0.6625368595123291, 0.15719382464885712, 0.002072239061817527, 0.5964725017547607, 0.18957151472568512, 0.232255756855011, 0.10264796018600464, 0.17116506397724152, 0.1400555968284607, 0.04265785589814186, 0.0, 0.4951412081718445, 0.029612665995955467, 0.014127031899988651, 0.008293782360851765, 0.4676177203655243, 0.20173583924770355, 0.0, 0.0, 0.5433932542800903, 0.10790283977985382, 0.29039666056632996, 0.0, 0.2388814240694046, 0.039602234959602356, 0.5337862372398376, 0.025485897436738014, 0.5855600237846375, 0.4367246627807617, 0.21441884338855743, 0.2946043014526367, 0.0, 0.0, 0.7141100764274597, 0.043379221111536026, 0.00559135852381587, 0.4994294047355652, 0.01111526694148779, 0.43728673458099365, 0.0034548966214060783, 0.00211269105784595, 0.08295860141515732, 0.0, 0.0, 0.0, 0.0, 0.17769281566143036, 0.0, 0.0, 0.6479410529136658, 0.009776508435606956, 0.4400681257247925, 0.0, 0.417327344417572, 0.0, 0.0, 0.0, 0.002050549490377307, 0.0, 0.0, 0.40165963768959045, 0.03729596734046936, 0.8528115153312683, 0.021812304854393005, 0.0, 0.0, 0.0, 0.0, 0.015627136453986168, 0.6369075179100037, 0.0, 0.0, 0.03302716091275215, 0.0, 0.003911236766725779, 0.004726730287075043, 0.0, 0.0, 0.0, 0.0, 0.0, 0.0, 0.02292812243103981, 0.0, 0.05019134283065796, 0.07985076308250427, 0.04053816571831703, 0.5484572649002075, 0.022375689819455147, 0.6007289290428162, 0.0, 0.0, 0.0, 0.0, 0.0, 0.0, 0.0, 0.0, 0.0, 0.0, 0.01630561612546444, 0.629887044429779, 0.0, 0.0, 0.0, 0.492296427488327, 0.0, 0.0, 0.0, 0.008363151922821999, 0.0040790848433971405, 0.0, 0.029456909745931625, 0.5627337098121643, 0.0, 0.0, 0.0, 0.0, 0.0, 0.03690328821539879, 0.00449661910533905, 0.0, 0.10015519708395004, 0.6168438792228699, 0.030896291136741638, 0.0, 0.0, 0.0, 0.0, 0.0, 0.0, 0.0, 0.020716678351163864, 0.010439325124025345, 0.06671679764986038, 0.6551215052604675, 0.008256855420768261, 0.0, 0.0, 0.0, 0.0, 0.0, 0.0, 0.0, 0.057166993618011475, 0.7612334489822388, 0.2521020174026489, 0.0, 0.025277411565184593, 0.1751367598772049, 0.0, 0.0, 0.0, 0.035656992346048355, 0.646550178527832, 0.02605382539331913, 0.002609910676255822, 0.0929614007472992, 0.026000604033470154, 0.00765396561473608, 0.06462735682725906, 0.6062501668930054, 0.0, 0.00888098031282425, 0.3199212849140167, 0.0, 0.018710924312472343, 0.05477520078420639, 0.00435004523023963, 0.054745618253946304, 0.018002239987254143, 0.05485018342733383, 0.05541294440627098, 0.0, 0.0, 0.0, 0.03289316967129707, 0.00570246996358037, 0.08333718776702881, 0.8042306303977966, 0.010091349482536316, 0.053416285663843155, 0.5229365825653076, 0.0299744363874197, 0.032555870711803436, 0.013846063055098057, 0.030692972242832184, 0.014803239144384861, 0.013032717630267143, 0.08194606751203537, 0.02871478721499443, 0.0, 0.0942690297961235, 0.0, 0.0732206255197525, 0.011346640065312386, 0.00010684699373086914, 0.009291094727814198, 0.01564677432179451, 0.06796471029520035, 0.03543034568428993, 0.028068820014595985, 0.022955503314733505, 0.009657565504312515, 0.035051751881837845, 0.0, 0.00170719379093498, 0.0, 0.03993873670697212, 0.5807422399520874, 0.02068294957280159, 0.022874929010868073, 0.0, 0.053558599203825, 0.002071171998977661, 0.803541362285614, 0.1112995520234108, 0.0, 0.6360403895378113, 0.0, 0.0, 0.008985974825918674, 0.0, 0.6565112471580505, 0.09364685416221619, 0.0, 0.0, 0.0, 0.0019154088804498315, 0.021291326731443405, 0.0, 0.026225218549370766, 0.031146077439188957, 0.28852832317352295, 0.0, 0.0, 0.0, 0.0, 0.0, 0.08089970052242279, 0.021158946678042412, 0.02379011921584606, 0.019161509349942207, 0.07223153859376907, 0.48716118931770325, 0.0, 0.0, 0.0, 0.5897276997566223, 0.05910888686776161, 0.02227073162794113, 0.6112043261528015, 0.17341043055057526, 0.0, 0.38150450587272644, 0.0, 0.0, 0.0, 0.5208517909049988, 0.0, 0.0, 0.0, 0.39520883560180664, 0.0, 0.00567484088242054, 0.20598387718200684, 0.0, 0.0, 0.44703471660614014, 0.3317123055458069, 0.012004249729216099, 0.006529668811708689, 0.0, 0.2888089120388031, 0.0, 0.0, 0.020602721720933914, 0.0, 0.5611650347709656, 0.03198666870594025, 0.03956996276974678, 0.0, 0.008965807035565376, 0.0, 0.0, 0.0, 0.0, 0.011443326249718666, 0.03113546222448349, 0.016728553920984268, 0.8066781759262085, 0.49053090810775757, 0.0, 0.0, 0.0, 0.0, 0.004999925848096609, 0.0, 0.00017525089788250625, 0.0, 0.04406753554940224, 0.29413339495658875, 0.0, 0.7464107871055603, 0.0, 0.04384757578372955, 0.5588558316230774, 0.00950063206255436, 0.02377718687057495, 0.048059459775686264, 0.0, 0.0, 0.7891538739204407, 0.02353634126484394, 0.009685536846518517, 0.0, 0.0, 0.013578749261796474, 0.5865312218666077, 0.0, 0.006580277346074581, 0.0, 0.01793232560157776, 0.0, 0.0, 0.7180542349815369, 0.3230351209640503, 0.0440516322851181, 0.0, 0.6093021631240845, 0.0, 0.0, 0.3869195282459259, 0.0, 0.04019208624958992, 0.03983446955680847, 0.0, 0.0, 0.0, 0.0, 0.05491198971867561, 0.0, 0.0, 0.03832440823316574, 0.0, 0.6257222294807434, 0.3400793969631195, 0.35555076599121094, 0.0, 0.0, 0.42423686385154724, 0.0, 0.0, 0.0, 0.0, 0.0, 0.5953624844551086, 0.2422153651714325, 0.304736852645874, 0.0, 0.0, 0.4020269215106964, 0.0, 0.0, 0.059361737221479416, 0.030234163627028465, 0.0, 0.0, 0.0, 0.0, 0.07156180590391159, 0.013420169241726398], [0.04756586253643036, 0.024190429598093033, 0.023061469197273254, 0.0, 0.0, 0.0, 0.008036908693611622, 0.0019081232603639364, 0.0, 0.924376904964447, 0.0, 0.0003159097977913916, 0.0, 0.0, 0.0, 0.0, 0.0004940408398397267, 0.03716908395290375, 0.015479941852390766, 0.0, 0.8592901229858398, 0.0, 0.0, 0.0, 0.0, 0.0015006534522399306, 0.0, 0.0, 0.000115057329821866, 0.0, 0.004101892467588186, 0.002174682915210724, 0.0042763883247971535, 0.034228332340717316, 0.0, 0.0, 0.0, 0.0, 0.0, 0.0, 0.0, 0.0, 0.0, 0.0, 0.0, 0.021339185535907745, 0.0, 0.0, 0.015865430235862732, 0.0014806141844019294, 0.0, 0.0, 0.0, 0.0, 0.0, 0.0, 0.003992682322859764, 0.0, 0.0, 0.016505859792232513, 0.00025999784702435136, 0.0, 0.0, 0.0003817799733951688, 0.0, 0.0, 0.0, 0.0, 0.0, 0.07571609318256378, 0.0, 0.0167921744287014, 0.008510840125381947, 0.0, 0.0, 0.0, 0.0, 0.0, 0.0, 0.0, 0.0, 0.0, 0.0008109824848361313, 0.007438375614583492, 0.021006502211093903, 0.0, 0.0, 0.0, 0.0, 0.0055999248288571835, 0.022638481110334396, 0.0, 0.0, 0.0, 0.06847750395536423, 0.0, 0.06746659427881241, 0.0013800922315567732, 0.0, 0.0, 0.0, 0.0, 0.0, 0.0, 0.0, 0.0, 0.014021382667124271, 0.0, 0.035194117575883865, 0.0, 0.0, 0.0, 0.06103117763996124, 0.0, 0.09643952548503876, 0.0, 0.0, 0.0, 0.0, 0.0, 0.047659676522016525, 0.0, 0.08793950080871582, 0.0, 0.0, 0.002256992971524596, 0.0, 0.0, 0.0, 0.0, 0.005221333354711533, 0.006562183611094952, 0.04293350875377655, 0.004876445513218641, 0.0005911396583542228, 0.005073576234281063, 0.0, 0.0, 0.8716588616371155, 0.0, 0.010503300465643406, 0.02892438881099224, 0.012111220508813858, 0.0399140939116478, 0.01377109345048666, 0.053337737917900085, 0.01274536270648241, 0.0, 0.0031101880595088005, 0.9015882015228271, 0.03342864662408829, 0.01415893342345953, 0.004162235651165247, 0.01888355053961277, 0.020739132538437843, 0.0, 0.0030033898074179888, 0.9235569834709167, 0.009599271230399609, 0.015341414138674736, 0.0, 0.010491783730685711, 0.0, 0.0, 0.0, 0.012596335262060165, 0.020106488838791847, 0.0, 0.030597062781453133, 0.015682825818657875, 0.006216602865606546, 0.9096089601516724, 0.0072791315615177155, 0.027402272447943687, 0.9365610480308533, 0.009424394927918911, 0.9178149700164795, 0.01749752275645733, 0.9054316878318787, 0.015837687999010086, 0.02740204706788063, 0.8566777110099792, 0.00011509351315908134, 0.02256038971245289, 0.0, 0.0, 0.8688802719116211, 0.0, 0.0, 0.0, 0.0, 0.03655711188912392, 0.006179931107908487, 0.015906332060694695, 0.0, 0.0, 0.0, 0.0, 0.009413388557732105, 0.0, 0.8750960230827332, 0.0, 0.0, 0.006327522918581963, 0.0, 0.0, 0.0, 0.3317407965660095, 0.0, 0.0, 0.0, 0.0, 0.0, 0.015416300855576992, 0.0018372879130765796, 0.0, 0.0, 0.0, 0.0036149548832327127, 0.022864170372486115, 0.0, 0.0301127377897501, 0.0018354547210037708, 0.0, 0.010442602448165417, 0.01898232102394104, 0.007910608313977718, 0.8229868412017822, 0.005473101977258921, 0.0, 0.0, 0.0, 0.06148030236363411, 0.0, 0.0, 0.0, 0.0, 0.0, 0.0, 0.0, 0.0, 0.0, 0.002085734624415636, 0.08530961722135544, 0.0, 0.0, 0.0, 0.0, 0.0, 0.0, 0.0, 0.07322335243225098, 0.0, 0.0, 0.0, 0.0, 0.0, 0.0, 0.005585233215242624, 0.0, 0.0, 0.06829427182674408, 0.0, 0.0027946350164711475, 0.0069941869005560875, 0.05950948968529701, 0.0015422613359987736, 0.0, 0.0, 0.06575523316860199, 0.0, 0.0, 0.0, 0.09357261657714844, 0.0, 0.0018935812404379249, 0.004429702181369066, 0.0, 0.0, 0.00340957660228014, 0.0, 0.0, 0.021996354684233665, 0.08876901865005493, 0.0, 0.0, 0.04309150204062462, 0.018923142924904823, 0.0, 0.0, 0.0, 0.0, 0.08486933261156082, 0.015837781131267548, 0.0031175496987998486, 0.024997439235448837, 0.032209645956754684, 0.021145319566130638, 0.04099559411406517, 0.057689182460308075, 0.030511753633618355, 0.0035554480273276567, 0.09862426668405533, 0.0, 0.8076170682907104, 0.03298332542181015, 0.0, 0.0017304940847679973, 0.014662309549748898, 0.008780205622315407, 0.021872257813811302, 0.016858253628015518, 0.0, 0.0014916564105078578, 0.0, 0.08355845510959625, 0.0, 0.08869412541389465, 0.0, 0.0038351709954440594, 0.7974179983139038, 0.0, 0.02253923937678337, 0.0, 0.0, 0.0, 0.03832774609327316, 0.0, 0.03030158393085003, 0.0, 0.0, 0.0723099559545517, 0.04175260663032532, 0.028382224962115288, 0.01650577411055565, 0.00867224857211113, 0.020193228498101234, 0.001648786012083292, 0.0012208368862047791, 0.0, 0.009479218162596226, 0.0, 0.01084392610937357, 0.006973338779062033, 0.0, 0.009696128778159618, 0.0, 0.07945085316896439, 0.0, 0.0, 0.0, 0.0021354015916585922, 0.0, 0.0, 0.0, 0.003786033019423485, 0.0, 0.0, 0.0, 0.003831032430753112, 0.002025966765359044, 0.0, 0.00021053121599834412, 0.008621050976216793, 0.000408122141379863, 0.0, 0.0, 0.0, 0.0, 0.0, 0.0, 0.0, 0.0, 0.0, 0.0, 0.0183706097304821, 0.0, 0.0, 0.0, 0.0, 0.0, 0.0, 0.0746493712067604, 0.0, 0.018208133056759834, 0.0, 0.0, 0.0, 0.0, 0.09965460002422333, 0.0, 0.0, 0.06961441040039062, 0.0, 0.0685095265507698, 0.003985430113971233, 0.0, 0.0, 0.05129726603627205, 0.0, 0.0, 0.0, 0.0659906342625618, 0.010247658006846905, 0.0, 0.14781123399734497, 0.0, 0.0, 0.0, 0.005453909747302532, 0.8935441970825195, 0.07205791771411896, 0.015994157642126083, 0.008567698299884796, 0.026711376383900642, 0.005966844968497753, 0.005103514064103365, 0.0, 0.0, 0.009543374180793762, 0.010515335015952587, 0.01575951650738716, 0.02647075057029724, 0.0, 0.0, 0.0, 0.0, 0.0036884655710309744, 0.009395393542945385, 0.0, 0.0, 0.0013177146902307868, 0.0, 0.0011495711514726281, 0.012768366374075413, 0.029683122411370277, 0.0, 0.0, 0.009845989756286144, 0.09270056337118149, 0.0, 0.9129286408424377, 0.0, 0.006465871352702379, 0.08879543095827103, 0.0, 0.03132110834121704, 0.9016291499137878, 0.026194555684924126, 0.0, 0.037295956164598465, 0.0161470714956522, 0.02512386254966259, 0.0, 0.0, 0.0, 0.008126857690513134, 0.0, 0.008008824661374092, 0.936335027217865, 0.008008258417248726, 0.024914201349020004, 0.0, 0.028054730966687202, 0.011102587915956974, 0.032950617372989655, 0.0, 0.9254407286643982, 0.01562458835542202, 0.0, 0.8682385683059692, 0.011070268228650093, 0.0, 0.0, 0.033560894429683685, 0.0, 0.0, 0.00691880052909255, 0.0, 0.013719795271754265, 0.011407476849853992, 0.0, 0.06720241159200668, 0.0195147804915905, 0.008660560473799706, 0.0226115882396698, 0.015991676598787308, 0.0, 0.8828964829444885, 0.0, 0.05221838876605034, 0.0, 0.0016390299424529076, 0.009416659362614155, 0.01950952224433422, 0.040606383234262466, 0.024790823459625244, 0.0, 0.0, 0.8361024260520935, 0.0, 0.0, 0.0, 0.0036564066540449858, 0.0, 0.0, 0.0, 0.04604131355881691, 0.0, 0.05535540729761124, 0.0660315528512001], [0.0, 0.3011511564254761, 0.03918791562318802, 0.02001476287841797, 0.033770278096199036, 0.001744554960168898, 0.022324256598949432, 0.0, 0.008524784818291664, 0.0, 0.7408145666122437, 0.06202938035130501, 0.3628333508968353, 0.11833375692367554, 0.0, 0.0, 0.0, 0.3501175045967102, 0.0, 0.0, 0.00825311616063118, 0.0, 0.0, 0.0023443831596523523, 0.013271205127239227, 0.06113416329026222, 0.09806620329618454, 0.0, 0.0, 0.0010306320618838072, 0.0, 0.01776472106575966, 0.05236999690532684, 0.039812467992305756, 0.0, 0.0, 0.0, 0.0, 0.0, 0.3963526785373688, 0.0, 0.0, 0.0, 0.03619689866900444, 0.004315536934882402, 0.07047561556100845, 0.0, 0.0, 0.0, 0.0, 0.0, 0.0, 0.007802173960953951, 0.009352720342576504, 0.08626065403223038, 0.028356989845633507, 0.0, 0.0, 0.0, 0.0, 0.0, 0.0, 0.03627221658825874, 0.05007702857255936, 0.002663143677636981, 0.0, 0.3281458914279938, 0.07375343888998032, 0.0, 0.0, 0.0, 0.027213308960199356, 0.0, 0.005408684257417917, 0.12009859085083008, 0.0, 0.0, 0.0025920129846781492, 0.0, 0.0, 0.0, 0.08000990748405457, 0.027874313294887543, 0.017574330791831017, 0.17651745676994324, 0.0, 0.0, 0.024680839851498604, 0.05474594607949257, 0.0, 0.024056822061538696, 0.2017444372177124, 0.058746468275785446, 0.10342734307050705, 0.018527735024690628, 0.0, 0.003449201351031661, 0.0, 0.0, 0.0, 0.0, 0.05542100593447685, 0.03420446813106537, 0.0, 0.0, 0.0, 0.0, 0.0, 0.0, 0.0, 0.04181693121790886, 0.0, 0.0, 0.0, 0.0, 0.01530754566192627, 0.01132198330014944, 0.0, 0.0, 0.01232506800442934, 0.0, 0.0, 0.0, 0.0, 0.0, 0.011745535768568516, 0.0, 0.000691995199304074, 0.06341677159070969, 0.0, 0.0, 0.0, 0.0, 0.0, 0.0, 0.0, 0.011868882924318314, 0.0, 0.013035852462053299, 0.05686357617378235, 0.01327796932309866, 0.0, 0.0, 0.0, 0.0, 0.0, 0.0, 0.0, 0.023549268022179604, 0.001062317518517375, 0.071584552526474, 0.11408381164073944, 0.0, 0.0, 0.0, 0.0, 0.0, 0.0, 0.0, 0.0006647059926763177, 0.0, 0.0, 0.0, 0.0, 0.0, 0.0, 0.0, 0.0, 0.0, 0.0, 0.0, 0.0, 0.0, 0.026039090007543564, 0.0, 2.6408185931359185e-06, 0.0, 0.0, 0.0, 0.0, 0.0, 0.0, 0.0, 0.0, 0.0, 0.0, 0.0, 0.0, 0.0, 0.0, 0.0, 0.0, 0.0, 0.013730430975556374, 0.0, 0.0, 0.3880466818809509, 0.10088258236646652, 0.0, 0.008002071641385555, 0.0, 0.010168572887778282, 0.08257691562175751, 0.0, 0.0, 0.5604115724563599, 0.0, 0.03332299366593361, 0.0, 0.0, 0.0, 0.5476200580596924, 0.10748755186796188, 0.04263170436024666, 0.0, 0.1409665048122406, 0.2979729473590851, 0.04443066939711571, 0.0, 0.0, 0.6481351256370544, 0.1700684130191803, 0.009111532010138035, 0.09799200296401978, 0.0416446328163147, 0.0, 0.0, 0.0, 0.0, 0.0021239290945231915, 0.0, 0.029090752825140953, 0.02693898044526577, 0.37317878007888794, 0.10533774644136429, 0.0, 0.0, 0.5526707172393799, 0.0, 0.0, 0.019655335694551468, 0.05641346797347069, 0.0, 0.0023835848551243544, 0.0, 0.07145794481039047, 0.0, 0.0, 0.757691502571106, 0.0, 0.0, 0.0, 0.0, 0.0, 0.0, 0.0, 0.0, 0.0, 0.5591323375701904, 0.0, 0.0, 0.0, 0.0, 0.08203142136335373, 0.0, 0.0, 0.06502524763345718, 0.0, 0.1020832508802414, 0.0, 0.0, 0.45672231912612915, 0.0, 0.0, 0.0, 0.04423854500055313, 0.0, 0.0, 0.0, 0.0, 0.03714543953537941, 0.0, 0.0, 0.0, 0.0, 0.028410030528903008, 0.0, 0.0, 0.0, 0.0, 0.012005683034658432, 0.0, 0.0, 0.0, 0.0, 0.0, 0.0, 0.011427676305174828, 0.0, 0.0, 0.0, 0.0, 0.0, 0.0, 0.0, 0.0, 0.13784267008304596, 0.0, 0.0, 0.0, 0.0, 0.019979704171419144, 0.0, 0.015953022986650467, 0.005893900990486145, 0.008032898418605328, 0.012653176672756672, 0.0, 0.0, 0.0, 0.0, 0.0, 0.0, 0.10999079793691635, 0.01064364891499281, 0.0017728360835462809, 0.04120466485619545, 0.039154134690761566, 0.6128355860710144, 0.0, 0.0, 0.0, 0.0, 0.03924783691763878, 0.0, 0.046674296259880066, 0.2710675299167633, 0.009103259071707726, 0.05341029539704323, 0.11205772310495377, 0.06766244769096375, 0.0, 0.011857929639518261, 0.017911940813064575, 0.545505166053772, 0.006226256489753723, 0.0, 0.034481875598430634, 0.01251437421888113, 0.15116624534130096, 0.0, 0.028447415679693222, 0.015199598856270313, 0.0012093621771782637, 0.0, 0.0013439740287140012, 0.013032902963459492, 0.023717554286122322, 0.0, 0.2750302255153656, 0.0, 0.0, 0.0, 0.0, 0.0, 0.4165947139263153, 0.07876336574554443, 0.19819338619709015, 0.045391857624053955, 0.4306851327419281, 0.03811734914779663, 0.20473089814186096, 0.003060298739001155, 0.0, 0.0, 0.5560344457626343, 0.0, 0.0, 0.06608030200004578, 0.6095068454742432, 0.08388713002204895, 0.03501766547560692, 0.010650546289980412, 0.0, 0.022340351715683937, 0.0014100878033787012, 0.004027782939374447, 0.07078215479850769, 0.0, 0.01830207370221615, 0.01136128418147564, 0.06460461020469666, 0.0, 0.12644192576408386, 0.0, 0.08282649517059326, 0.0, 0.10422399640083313, 0.0, 0.0, 0.0, 0.08182927221059799, 0.0, 0.07591619342565536, 0.0002522965078242123, 0.0, 0.07125165313482285, 0.0, 0.05029180645942688, 0.019915534183382988, 0.004722945857793093, 0.11342586576938629, 0.00670070992782712, 0.0, 0.03118887171149254, 0.03178605064749718, 0.004975170362740755, 0.00939177256077528, 0.0036617747973650694, 0.015334326773881912, 0.0, 0.002728650812059641, 0.26005685329437256, 0.0735628604888916, 0.07384676486253738, 0.13007880747318268, 0.014175833202898502, 0.0, 0.0020809480920434, 0.0, 0.0, 0.7537835240364075, 0.0939783975481987, 0.045033231377601624, 0.0, 0.05377008765935898, 0.18079040944576263, 0.04392201453447342, 0.0, 0.0006803242722526193, 0.0, 0.008398393169045448, 0.0006837164983153343, 0.0, 0.01934717781841755, 0.030731001868844032, 0.027069948613643646, 0.010989275760948658, 0.06282613426446915, 0.0, 0.0, 0.0, 0.05955290049314499, 0.0, 0.7835999727249146, 0.06391922384500504, 0.0, 0.0, 0.0, 0.023513194173574448, 0.8212329745292664, 0.05974089354276657, 0.7403851747512817, 0.0558309443295002, 0.0, 0.0, 0.0, 0.0, 0.0021848103497177362, 0.017674289643764496, 0.01583290472626686, 0.0, 0.0, 0.1961461454629898, 0.2293117344379425, 0.241012305021286, 0.10778515040874481, 0.0, 0.0, 0.07625149190425873, 0.28938886523246765, 0.0, 0.02358952909708023, 0.01790292002260685, 0.0, 0.0, 0.0, 0.0, 0.005605669226497412, 0.04398725554347038, 0.18748606741428375, 0.14132815599441528, 0.07156720012426376, 0.0, 0.0, 0.0, 0.0, 0.0, 0.0, 0.0, 0.0, 0.0033353911712765694, 0.0, 0.03810003399848938, 0.11263181269168854, 0.0, 0.023379160091280937, 0.0, 0.0, 0.3306533098220825, 0.042171210050582886], [0.0, 0.0, 0.03050588257610798, 0.0, 0.0, 0.0, 0.014493724331259727, 0.0, 0.06362173706293106, 0.0013524710666388273, 0.0801759734749794, 0.0, 0.012496128678321838, 0.010290701873600483, 0.04359746351838112, 0.0507529154419899, 0.011135932989418507, 0.016389664262533188, 0.04200548306107521, 0.03254590556025505, 0.021326160058379173, 0.0, 0.2674793303012848, 0.0, 0.0, 0.04133044555783272, 0.0, 0.005827892106026411, 0.0, 0.0, 0.0, 0.0, 0.0, 0.0, 0.0, 0.003763069398701191, 0.0, 0.0, 0.009700086899101734, 0.0, 0.0, 0.0, 0.0, 0.14032697677612305, 0.0, 0.8564046025276184, 0.0, 0.42661768198013306, 0.0, 0.0, 0.0, 0.0, 0.0, 0.0540987104177475, 0.018477628007531166, 0.042942728847265244, 0.0, 0.02324041910469532, 0.20087768137454987, 0.0, 0.0, 0.0, 0.0, 0.11292579770088196, 0.0, 0.6435937881469727, 0.0, 0.0, 0.0, 0.051056161522865295, 0.0, 0.0, 0.0, 0.01059612538665533, 0.0, 0.542127788066864, 0.06171361356973648, 0.0129104508087039, 0.001009449828416109, 0.0033324158284813166, 0.0, 0.0, 0.011459502391517162, 0.012011745944619179, 0.0, 0.2832643389701843, 0.044077981263399124, 0.0407847985625267, 0.0083187660202384, 0.013810788281261921, 0.0, 0.0, 0.2106165885925293, 0.1502615064382553, 0.11270911991596222, 0.0, 0.0, 0.0, 0.0, 0.0, 0.044483594596385956, 0.004314097110182047, 0.03272150829434395, 0.0, 0.11786442995071411, 0.4901779592037201, 0.0, 0.0, 0.0, 0.0, 0.0, 0.0, 0.0, 0.0, 0.0, 0.0, 0.0, 0.0016583672259002924, 0.0, 0.033281560987234116, 1.1973025798797607, 0.037961941212415695, 0.5860832929611206, 0.02500809170305729, 0.0, 0.0, 0.0, 0.0, 0.0, 0.0, 0.0016925515374168754, 0.0, 0.03539383411407471, 0.00010375046986155212, 0.02169238217175007, 0.0, 0.0, 0.0, 0.015100195072591305, 0.03174934908747673, 0.037482041865587234, 0.20488570630550385, 0.06642863899469376, 0.012706653214991093, 0.0, 0.0, 0.0, 0.0, 0.0, 0.025410985574126244, 0.060321833938360214, 0.0011902019614353776, 0.020275866612792015, 0.0492052286863327, 0.07926814258098602, 0.0, 0.01296896580606699, 0.015738878399133682, 0.0, 0.001404709997586906, 0.0, 0.0024363768752664328, 0.007521566469222307, 0.0, 0.016277186572551727, 0.033209916204214096, 0.0573255755007267, 0.017381852492690086, 0.0, 0.0, 0.0, 0.0, 0.0, 0.0, 0.0, 0.04845141991972923, 0.04617825895547867, 0.044567566365003586, 0.07174627482891083, 0.0015723280375823379, 0.4269295036792755, 0.1638074815273285, 0.044426027685403824, 0.5947691798210144, 0.06098577007651329, 0.4939894676208496, 0.19214586913585663, 0.0, 0.5928823351860046, 0.03533203899860382, 0.7098124623298645, 0.0, 0.25261417031288147, 0.0028477762825787067, 0.006044792011380196, 0.34584957361221313, 0.010185426101088524, 0.0, 0.0, 0.03639625385403633, 0.04452994838356972, 0.029660368338227272, 0.0, 0.0, 0.0, 0.0, 0.0, 0.0, 0.0, 0.0, 0.0, 0.0, 0.0, 0.011379478499293327, 0.011797048151493073, 0.0, 0.0, 0.0, 0.0017737464513629675, 0.0, 0.127544105052948, 0.0982828140258789, 0.0, 0.0, 0.0, 0.0, 0.05710507929325104, 0.0010494021698832512, 0.0, 0.0, 0.0, 0.000501277856528759, 0.0, 0.0, 0.0, 0.0, 0.0, 0.0, 0.0, 0.0, 0.0013734260573983192, 0.0, 0.002889709547162056, 0.035371411591768265, 0.0, 0.0, 0.0, 0.0, 0.0, 0.005999951623380184, 0.005785850808024406, 0.04288126900792122, 0.0, 0.0, 0.0, 0.0, 2.718414725677576e-05, 0.0, 0.0, 0.012063278816640377, 0.015347140841186047, 0.05892480909824371, 0.050959449261426926, 0.004043190740048885, 0.011615561321377754, 0.0, 0.02814103290438652, 0.7516072988510132, 0.10653073340654373, 1.2650467157363892, 0.024554915726184845, 0.7391566038131714, 0.024269774556159973, 0.26945650577545166, 0.0, 0.008195040747523308, 0.019404331222176552, 0.0, 0.010459057986736298, 0.0035635752137750387, 0.0018902330193668604, 0.0, 0.005205226596444845, 0.04729875922203064, 0.017503121867775917, 0.11555753648281097, 0.0184065829962492, 0.0, 0.30235597491264343, 0.0, 0.004580275155603886, 0.0, 0.0, 0.0, 0.0, 0.0, 0.0, 0.018691789358854294, 0.0, 0.0, 0.0, 0.0, 0.0, 0.0, 0.0, 0.0, 0.0, 0.0, 0.0, 0.017964988946914673, 0.0, 0.0, 0.0, 0.0, 0.020789099857211113, 0.09154006838798523, 0.0, 0.02617304027080536, 0.0, 0.0, 0.0, 0.0, 0.0, 0.0, 0.0, 0.0, 0.0, 0.0, 0.0, 0.007050313986837864, 0.008863484486937523, 0.09317396581172943, 0.0, 0.0, 0.0, 0.03574853390455246, 0.0, 0.0, 0.003918719477951527, 0.11082740873098373, 0.003039244096726179, 0.5096340179443359, 0.0, 0.0, 0.0, 0.0, 0.0, 0.0, 0.0, 0.0, 0.0, 0.0, 0.0, 0.0, 0.0, 0.0, 0.0, 0.0, 0.0, 0.0, 0.0, 0.0, 0.0, 0.0, 0.0, 0.08655045926570892, 0.0, 0.1193849965929985, 0.0, 0.18434791266918182, 0.0, 0.05328258499503136, 0.021281762048602104, 0.0, 0.0, 0.0, 0.0, 0.0, 0.0, 0.0, 0.0, 0.0012936672428622842, 0.0052664680406451225, 0.0, 0.0, 0.0, 0.0, 0.0, 0.06772169470787048, 0.17083775997161865, 0.034845225512981415, 0.09619538486003876, 0.0, 0.24842838943004608, 0.0054568080231547356, 0.020296182483434677, 0.569068431854248, 0.15545031428337097, 0.037118617445230484, 0.0, 0.6850271224975586, 0.14515195786952972, 0.0065238564275205135, 0.007553471717983484, 0.3825521469116211, 0.011155896820127964, 0.02679852955043316, 0.5175682902336121, 0.08490390330553055, 0.01675470545887947, 0.0, 0.0, 0.0, 0.0, 0.0, 0.0, 0.0, 0.0, 0.0, 0.0, 0.0, 0.0, 0.0, 0.0, 0.0, 0.0, 0.0, 0.0, 0.0, 0.0, 0.0, 0.0, 0.0, 0.0, 0.0, 0.0, 0.0, 0.0, 0.0, 0.0030332321766763926, 0.0, 0.0, 0.0, 0.0, 0.0786132887005806, 0.00035450499854050577, 0.0, 0.0, 0.002885107882320881, 0.0, 0.0, 0.0, 0.0, 0.0005818327190354466, 0.0, 0.0, 0.0, 0.0, 0.0, 0.0, 0.1144419014453888, 0.0, 0.5080567002296448, 0.0, 0.3908299207687378, 0.01819627359509468, 0.0, 0.0, 0.0, 0.002373691648244858, 0.0, 0.0, 0.0010955373290926218, 0.0, 0.017051663249731064, 0.0, 0.0, 0.0, 0.0, 0.008609768934547901, 0.0, 0.0, 0.0, 0.0, 0.0061883386224508286, 0.0, 0.0, 0.0, 0.0, 0.0, 0.054809339344501495, 0.0, 0.0, 0.0, 0.0, 0.006683752406388521, 0.0, 0.0, 0.0, 0.0, 0.0, 0.0, 0.0, 0.0, 0.0, 0.004553327802568674, 0.0, 0.00817341823130846, 0.0, 0.0, 0.0], [0.0, 0.007448029704391956, 0.0, 0.0, 0.0, 0.0, 0.007995312102138996, 0.014618033543229103, 0.015206117182970047, 0.03491677716374397, 0.01561650913208723, 0.005613262765109539, 0.02198416367173195, 0.008048259653151035, 0.0, 0.0, 0.009020991623401642, 0.026217421516776085, 0.011921130120754242, 0.0032897088676691055, 0.01492350921034813, 0.0, 0.014106156304478645, 0.009846573695540428, 0.09644223749637604, 0.001042135409079492, 0.012915990315377712, 0.0168341975659132, 0.13492929935455322, 0.06535710394382477, 0.01107335090637207, 0.04912339150905609, 0.03561501204967499, 0.09887701272964478, 0.009914560243487358, 0.02166273444890976, 0.7213502526283264, 0.04288088157773018, 0.039180830121040344, 0.05474689230322838, 0.0, 0.09113391488790512, 0.009251011535525322, 0.0, 0.016344092786312103, 0.05478863790631294, 0.028001613914966583, 0.0, 0.010340828448534012, 0.03559805452823639, 0.053764741867780685, 0.0, 0.010031902231276035, 0.0, 0.0051394011825323105, 0.0292965080589056, 0.03408900648355484, 0.005171445198357105, 0.007890602573752403, 0.03852992132306099, 0.7019783854484558, 0.015914255753159523, 0.0, 0.05133778601884842, 0.00443595927208662, 0.0, 0.04426540061831474, 0.0, 0.0, 0.0, 0.0, 0.011565559543669224, 0.0, 0.0, 0.0, 0.0, 0.0, 0.0028398758731782436, 0.0047600832767784595, 0.0, 0.0, 0.0, 0.0, 0.0, 0.0, 9.936202695826069e-05, 0.006491630803793669, 0.02907494641840458, 0.007195126730948687, 0.006369023118168116, 0.026805413886904716, 0.009765173308551311, 0.0, 0.002578014973551035, 0.0, 0.0, 0.0, 0.006814542226493359, 0.012236153706908226, 0.013344335369765759, 0.0, 0.00650768680498004, 0.010525839403271675, 0.0, 0.0, 0.0, 0.0, 0.0, 0.021189937368035316, 0.01918456144630909, 0.010768317617475986, 0.010954244993627071, 0.02349175326526165, 0.0015911118825897574, 0.0, 0.0, 0.0027744516264647245, 0.006317588500678539, 0.0004212557978462428, 0.01106962002813816, 0.005881721619516611, 0.0007821457693353295, 0.0, 0.0, 0.0, 0.0, 0.0, 0.0, 0.0, 0.0, 0.0, 0.0, 0.0, 0.0, 0.0, 0.0, 0.0, 0.0, 0.0, 0.0, 0.0, 0.0, 0.011810630559921265, 0.03433950990438461, 0.03433593362569809, 0.0549815334379673, 0.03542645275592804, 0.0, 0.0, 0.0, 0.0, 0.0, 0.0, 0.0, 0.016629567369818687, 0.010342737659811974, 0.007791606243699789, 0.0007770414813421667, 0.0, 0.0, 0.0, 0.0, 0.0, 0.05720901116728783, 0.0, 0.0, 0.010009156540036201, 0.01170820090919733, 0.028500495478510857, 0.026376133784651756, 0.0, 0.0, 0.0, 0.0, 0.0, 0.0, 0.0, 0.001084889518097043, 0.014040171168744564, 0.019566532224416733, 0.0341871902346611, 0.010102838277816772, 0.0, 0.0, 0.0, 0.0, 0.0, 0.0, 0.0, 0.0016164612025022507, 0.00354762002825737, 0.005772826261818409, 0.005217540077865124, 0.00939109269529581, 0.0, 0.0, 0.0, 0.0, 0.0, 0.0, 0.0, 0.0, 0.0, 0.0, 0.0, 0.0, 0.0, 0.0, 0.0, 0.0, 0.0, 0.0, 0.0, 0.0147379320114851, 0.012918123975396156, 0.0, 0.0, 0.0, 0.0, 0.0, 0.0, 0.0, 0.0, 0.023462317883968353, 0.0, 0.0, 0.0, 0.01351966243237257, 0.023463334888219833, 0.0, 0.0, 0.0, 0.0, 0.0, 0.0, 0.0, 0.0, 0.0, 0.0, 0.11302982270717621, 0.038385480642318726, 0.008772049099206924, 0.002599413273856044, 0.0011567584006115794, 0.0, 0.00024471667711623013, 0.0, 0.0, 0.0, 0.0, 0.0, 0.0, 0.004608038812875748, 0.0031559234485030174, 0.03272544965147972, 0.0, 0.0, 0.0, 0.0, 0.0, 0.0, 0.0, 0.0, 0.01695219799876213, 0.0020088248420506716, 0.0, 0.0, 0.0, 0.0, 0.0, 0.0, 0.0, 0.0, 0.0, 0.0, 0.009789686650037766, 0.023362435400485992, 0.0, 0.7249420881271362, 0.0, 0.0, 0.0, 0.0, 0.0, 0.0, 0.0, 0.0, 0.02423224411904812, 0.0, 0.10026770085096359, 0.0, 0.0, 0.0, 0.0, 0.0, 0.0, 0.016536924988031387, 0.0, 0.0208195298910141, 0.08215726912021637, 0.029183736070990562, 0.008480268530547619, 0.0034597383346408606, 0.0, 0.0, 0.003019934520125389, 0.03860194981098175, 0.0, 0.006017990410327911, 0.0, 0.03686928376555443, 0.06933087855577469, 0.0, 0.008160031400620937, 0.0, 0.0, 0.0, 0.0, 0.0, 0.0, 0.0, 0.0, 0.2717558741569519, 0.011899812147021294, 0.003487028181552887, 0.0, 0.0045960042625665665, 0.0, 0.0, 0.0, 0.0, 0.007649187929928303, 0.014017298817634583, 0.047984447330236435, 0.013693258166313171, 0.0, 0.0, 0.0, 0.0017171759391203523, 0.024602258577942848, 0.0, 0.055244386196136475, 0.021526001393795013, 0.08267485350370407, 0.07574352622032166, 0.005150293931365013, 0.005269516259431839, 0.0, 0.0, 0.018131980672478676, 0.006865692790597677, 0.005594349000602961, 0.0013911934802308679, 0.7059865593910217, 0.006850762292742729, 0.0010046095121651888, 0.00904330238699913, 0.0, 0.0, 0.03006790764629841, 0.020537415519356728, 0.7382059693336487, 0.03716388717293739, 0.024501757696270943, 0.045768123120069504, 0.16160109639167786, 0.0, 0.009196681901812553, 0.024015452712774277, 0.0016089222626760602, 0.0, 0.01374595332890749, 0.008548235520720482, 0.02892627939581871, 0.01966988667845726, 0.009078660048544407, 0.0, 0.0, 0.006488067097961903, 0.0, 0.0, 0.008565464988350868, 0.0002760691859293729, 0.016172606498003006, 0.012464886531233788, 0.01676911488175392, 0.07324454933404922, 0.0, 0.0, 0.0, 0.0, 0.0, 0.0, 0.015582296997308731, 0.0, 0.0, 0.0, 0.0, 0.0, 0.0, 0.0, 0.0, 0.0, 0.007601730991154909, 0.0, 0.0, 0.0, 0.0, 0.0, 0.011160685680806637, 0.014200251549482346, 0.017793945968151093, 0.05193145200610161, 0.0, 0.06133335828781128, 0.023306241258978844, 0.0077504804357886314, 0.010052329860627651, 0.009161240421235561, 0.02152278460562229, 0.023017382249236107, 0.007620908319950104, 0.02242894656956196, 0.0, 0.0, 0.0, 0.0041509666480124, 0.0, 0.005150672979652882, 0.004895856603980064, 0.04011187329888344, 0.008952084928750992, 0.0, 0.008063252083957195, 0.00017014828335959464, 0.0, 0.0031020650640130043, 0.023438449949026108, 0.012892873026430607, 0.03184384107589722, 0.0, 0.003186831483617425, 0.0, 0.0, 0.0, 0.0, 0.003001230303198099, 0.0, 0.026707306504249573, 0.011486705392599106, 0.0036494238302111626, 0.0, 0.0, 0.0011659035226330161, 0.0, 0.0, 0.0007310171495191753, 0.0021377429366111755, 0.0074038454331457615, 0.0, 0.0, 0.0, 0.0, 0.0014454360352829099, 0.003522070124745369, 0.03904320299625397, 0.02451440319418907, 0.027694975957274437, 0.02358308993279934, 0.0, 0.0, 0.0, 0.0, 0.016616804525256157, 0.01751207746565342, 0.0, 0.0017831791192293167, 0.004903162829577923, 0.013803874142467976, 0.01362641341984272, 0.0, 0.0006870782235637307, 0.0, 0.0, 0.014996851794421673, 0.03244715929031372, 0.03734127804636955, 0.012855690903961658, 0.012168635614216328, 0.0, 0.021597303450107574, 0.0, 0.0013343022437766194, 0.0, 0.0, 0.014011746272444725, 0.021975083276629448, 0.005105833522975445, 0.0, 0.0, 0.0, 0.0, 0.0, 0.05934317782521248, 0.015802040696144104, 0.6881668567657471, 0.002179492963477969, 0.0, 0.0, 0.0, 0.0], [0.0, 0.0056697046384215355, 0.0, 0.0, 0.3059377670288086, 0.4819756746292114, 0.3444107174873352, 0.5706254243850708, 0.7013581991195679, 0.016688015311956406, 0.04160093516111374, 0.005739507265388966, 0.019832834601402283, 0.038836002349853516, 0.0, 0.09398822486400604, 0.2972491979598999, 0.0401809886097908, 0.2252344936132431, 0.5853437185287476, 0.0, 0.0, 0.0, 0.028392190113663673, 0.0, 0.0, 0.0, 0.01413113996386528, 0.0036999336443841457, 0.0, 0.5467891097068787, 0.0, 0.019954882562160492, 0.004106128588318825, 0.0, 0.541439950466156, 0.0, 0.30144208669662476, 0.0, 0.0, 0.0, 0.0, 0.0, 0.0, 0.0, 0.0, 0.0, 0.0, 0.0, 0.16792169213294983, 0.0, 0.0, 0.0, 0.0, 0.007558753713965416, 0.019657036289572716, 0.0, 0.0, 0.0, 0.015817247331142426, 0.0, 0.0, 0.5804513692855835, 0.024979302659630775, 0.0, 0.003805910237133503, 0.0, 0.0, 0.0, 0.0, 0.1252100020647049, 0.010228067636489868, 0.036442842334508896, 0.26244568824768066, 0.0, 0.0, 0.0, 0.0, 0.0, 0.006680827587842941, 0.0, 0.0, 0.0, 0.0, 0.0, 0.0, 0.0, 0.0, 0.0, 0.0, 0.018686098977923393, 0.0, 0.0, 0.02005515620112419, 0.0, 0.23837345838546753, 0.0, 0.0, 0.0, 0.0, 0.0, 0.2037193477153778, 0.11890454590320587, 0.03893033415079117, 0.0, 0.0, 0.0, 0.23658661544322968, 0.0, 0.09588276594877243, 0.0004291044606361538, 0.026469415053725243, 0.011307826265692711, 0.0, 0.047164302319288254, 0.07902197539806366, 0.0007625508005730808, 0.13723914325237274, 0.3299557864665985, 0.0652015432715416, 0.0, 0.016416030004620552, 0.02429482527077198, 0.07060354202985764, 0.4178081154823303, 0.059193216264247894, 0.025116896256804466, 0.0, 0.0, 0.007738879416137934, 0.006907523609697819, 0.041431281715631485, 0.06902050226926804, 0.01470191590487957, 0.26901692152023315, 0.3608907461166382, 0.4589039385318756, 0.7669740319252014, 0.0, 0.0, 0.4840904474258423, 0.06639879196882248, 0.17527666687965393, 0.37514111399650574, 0.5948609709739685, 0.4150739312171936, 0.4921032786369324, 0.5989460349082947, 0.5711697936058044, 0.03217843547463417, 0.055794402956962585, 0.002777375979349017, 0.022351376712322235, 0.04776982218027115, 0.15860001742839813, 0.5164019465446472, 0.6160776019096375, 0.029979519546031952, 0.143100768327713, 0.551093339920044, 0.40817227959632874, 0.027102002874016762, 0.47969815135002136, 0.0, 0.2447652518749237, 0.0, 0.00682463264092803, 0.30593451857566833, 0.3437651991844177, 0.358995258808136, 0.754438042640686, 0.01884259283542633, 0.10057716816663742, 0.5913996696472168, 0.0, 0.26365038752555847, 0.0, 0.2471669316291809, 0.0, 0.0, 0.40530169010162354, 0.026443827897310257, 0.0, 0.0, 0.003437451319769025, 0.37779659032821655, 0.0, 0.0, 0.03480621427297592, 0.0, 0.1344524770975113, 0.03786997124552727, 0.19323252141475677, 0.019078901037573814, 0.0, 0.020377451553940773, 0.0, 0.00791346374899149, 0.0, 0.2905963063240051, 0.0, 0.0, 0.003739665262401104, 0.0, 0.0, 0.0, 0.0, 0.02698400616645813, 0.09075119346380234, 0.0, 0.0, 0.0, 0.0, 0.0, 0.0, 0.0, 0.0, 0.0, 0.0010538612259551883, 0.0, 0.027879368513822556, 0.007633836008608341, 0.018850592896342278, 0.0, 0.0, 0.0, 0.2427671253681183, 0.0, 0.012831026688218117, 0.01427681278437376, 0.0048004016280174255, 0.0, 0.0, 0.0, 0.0, 0.0, 0.0, 0.0, 0.0, 0.03603511303663254, 0.07127637416124344, 0.01330524031072855, 0.0, 0.07973384112119675, 0.12146071344614029, 0.0692916065454483, 0.049653589725494385, 0.0, 0.008536512963473797, 0.0, 0.019864948466420174, 0.05063967406749725, 0.12165554612874985, 0.018944991752505302, 0.07065144926309586, 0.0, 0.01328208390623331, 0.0, 0.006872615776956081, 0.0, 0.0, 0.0, 0.033268220722675323, 0.005663102958351374, 0.0008274078136309981, 0.02016555517911911, 0.04532301425933838, 0.0, 0.02557438053190708, 0.0, 0.0, 0.0, 0.0, 0.011707287281751633, 0.03248637542128563, 0.0018608317477628589, 0.0, 0.0, 0.02755414880812168, 0.0, 0.0, 0.0, 0.017233120277523994, 0.0, 0.0, 0.40047740936279297, 0.0, 0.0015160045586526394, 0.4622023403644562, 0.023648392409086227, 0.0, 0.0, 0.0, 0.0, 0.0, 0.0, 0.0, 0.0, 0.0, 0.0, 0.06274273991584778, 0.04473944753408432, 0.054647840559482574, 0.38654619455337524, 0.0, 0.020929323509335518, 0.0, 0.0, 0.0, 0.0009870266076177359, 0.02010728418827057, 0.03244342282414436, 0.0, 0.010470375418663025, 0.012688715010881424, 0.025351988151669502, 0.0, 0.0, 0.0, 0.009223509579896927, 0.0, 0.2161053568124771, 0.0, 0.03558861464262009, 0.029581598937511444, 0.0, 0.0, 0.0, 0.0, 0.0, 0.004441268276423216, 0.02055804803967476, 0.0, 0.0014725570799782872, 0.0, 0.011105356737971306, 0.04385293647646904, 0.0010783022735267878, 0.012017706409096718, 0.0, 0.028925487771630287, 0.0, 0.0049262745305895805, 0.006593330763280392, 0.009510514326393604, 0.0, 0.0065673477947711945, 0.0, 0.0, 0.0, 0.0, 0.0, 0.01505687553435564, 0.0, 0.027305644005537033, 0.5723868608474731, 0.0, 0.1013147234916687, 0.0, 0.0, 0.007267395034432411, 0.0, 0.029976798221468925, 0.5505133271217346, 0.017710406333208084, 0.01913212426006794, 0.0, 0.03829256445169449, 0.010074391961097717, 0.034080397337675095, 0.0, 0.0, 0.1938643604516983, 0.11770934611558914, 0.0, 0.03278109431266785, 0.01666569709777832, 0.0, 0.0, 0.0, 0.0, 0.005807693116366863, 0.010193788446485996, 0.1469535231590271, 0.0, 0.02898440510034561, 0.04948063939809799, 0.13433119654655457, 0.6876301169395447, 0.06317151337862015, 0.1843637377023697, 0.4520169198513031, 0.014150235801935196, 0.33614686131477356, 0.009854535572230816, 0.05114087462425232, 0.0, 0.12411505728960037, 0.0, 0.0, 0.0, 0.14342808723449707, 0.0, 0.026559174060821533, 0.4248625636100769, 0.0, 0.0, 0.09689392894506454, 0.20468176901340485, 0.48480698466300964, 0.0, 0.0, 0.10908100008964539, 0.01783197745680809, 0.057325415313243866, 0.03184933587908745, 0.007148340344429016, 0.027304667979478836, 0.0, 0.018941689282655716, 0.0, 0.010616575367748737, 0.0, 0.0, 0.0, 0.0, 0.0, 0.0, 0.0, 0.04794978350400925, 0.08639341592788696, 0.0, 0.0, 0.0, 0.0, 0.0, 0.0, 0.0, 0.004825796466320753, 0.011153328232467175, 0.4352455735206604, 0.004228183068335056, 0.07993638515472412, 0.004348173271864653, 0.0, 0.04591144621372223, 0.03519273176789284, 0.0, 0.0, 0.027964914217591286, 0.0, 0.01957525685429573, 0.002958468860015273, 0.0, 0.0, 0.0, 0.0, 0.1288907825946808, 0.02137419767677784, 0.0, 0.0, 0.0, 0.0, 0.0, 0.030596807599067688, 0.2667483389377594, 0.675327479839325, 0.014900763519108295, 0.11703114211559296, 0.6246879696846008, 0.0, 0.3379359841346741, 0.0, 0.0, 0.0, 0.0, 0.0, 0.009148054756224155, 0.0, 0.0, 0.004404314327985048, 0.003980640787631273, 0.0, 0.0, 0.0, 0.2439502775669098, 0.3204095959663391, 0.7834259271621704, 0.013317896053195, 0.31607064604759216, 0.062316738069057465, 0.0, 0.0, 0.022991323843598366, 0.0319591723382473, 0.08093280345201492, 0.48243361711502075, 0.3889147639274597, 0.8182238340377808, 0.01902453415095806, 0.42356449365615845, 0.026453031226992607, 0.004792061634361744, 0.0, 0.026551684364676476, 0.002914074342697859, 0.012828954495489597, 0.05856369435787201, 0.0, 0.017554117366671562, 0.031242698431015015], [0.0, 0.0, 0.0, 0.0, 0.0, 0.0, 0.0, 0.0, 0.0, 0.0, 0.0, 1.2652325630187988, 0.0, 0.020847635343670845, 0.0, 0.0, 0.0, 0.0, 0.0, 0.0, 0.0, 0.0, 0.0, 0.0007228727918118238, 0.0, 0.0, 0.0, 0.0, 0.0, 0.0, 0.0, 0.020651033148169518, 0.0, 0.0, 0.0, 0.0, 0.0, 0.0, 0.018208779394626617, 0.0, 0.0, 0.0, 0.11425068229436874, 0.0, 0.0, 0.19692037999629974, 0.0, 0.0, 0.035881463438272476, 0.0009502308676019311, 0.0, 0.0, 0.11119558662176132, 0.0, 0.0, 0.0, 0.0013303259620442986, 0.0, 0.0, 0.09569181501865387, 0.005278761498630047, 0.02779991179704666, 0.01236916333436966, 0.0, 0.0, 0.011845428496599197, 0.0, 0.008902233093976974, 0.011346723884344101, 0.0, 0.02870824933052063, 0.007443914655596018, 0.019046148285269737, 0.0, 0.0, 0.0, 0.0, 0.008680962957441807, 0.0, 0.0, 0.15947473049163818, 0.0, 0.0, 0.0, 0.03220280259847641, 0.0, 0.0, 0.0, 0.015136515721678734, 0.0, 0.19494633376598358, 0.0006219660863280296, 0.014202986843883991, 0.006454571150243282, 0.026672502979636192, 0.0, 0.0, 0.0, 0.0, 0.10482118278741837, 0.0, 0.0, 0.020415153354406357, 0.0338054895401001, 0.0, 0.0, 0.07510782778263092, 0.0, 0.07595338672399521, 0.0, 0.0, 0.0, 0.0, 0.0, 0.008434885181486607, 0.020973583683371544, 0.0, 0.0, 0.0, 0.0, 0.0, 0.0, 0.0, 0.0, 0.015405744314193726, 0.0, 0.0, 0.0, 0.0005057126400060952, 0.0, 0.0, 0.0, 0.0, 0.0, 0.0, 0.0, 0.0, 0.0, 0.0, 0.0, 0.0, 0.0, 0.0, 0.0, 0.0, 0.0, 0.0, 0.0, 0.0, 0.0, 6.535649299621582e-05, 0.0002114875678671524, 0.0, 0.0, 0.0, 0.0, 0.0, 0.0, 0.003896162146702409, 0.03120729885995388, 0.003819932695478201, 0.0, 0.0, 0.0, 0.0, 0.0, 0.0, 0.0, 0.0, 0.0027251625433564186, 0.0, 0.0, 0.012759552337229252, 0.02176843211054802, 0.0, 0.0, 0.0, 0.0, 0.0, 0.0, 0.005084741860628128, 0.024626560509204865, 0.0, 1.1671324968338013, 0.0, 0.0006858045235276222, 0.012477045878767967, 0.0, 0.0, 0.0, 0.0, 0.024642035365104675, 0.006438107695430517, 0.0, 0.0, 1.2509937286376953, 0.033821918070316315, 0.005841450300067663, 0.015982281416654587, 0.0024244196247309446, 0.0, 0.0, 0.0, 0.0028334830421954393, 0.0019246378215029836, 0.0, 0.0, 0.04868416115641594, 0.0, 0.0, 0.01047463808208704, 0.0, 0.03322386369109154, 0.015547851100564003, 0.0, 0.012661971151828766, 0.048480648547410965, 0.03839337080717087, 0.004223893396556377, 0.4560489058494568, 0.00748021062463522, 0.2148481160402298, 0.0, 0.004803499206900597, 0.0, 1.2313098907470703, 0.0, 0.005912160500884056, 0.013314357027411461, 0.0027523115277290344, 0.0, 0.0, 0.0, 0.0, 0.0, 0.006315999198704958, 0.0, 0.0, 0.0, 0.0, 0.0, 0.019681094214320183, 0.0, 0.0002525939198676497, 0.004217294976115227, 0.0030186795629560947, 0.0, 0.0, 0.0, 0.0, 0.0, 0.0, 0.0, 0.0, 9.004134335555136e-05, 0.010351473465561867, 0.0021924565080553293, 0.0, 0.0, 0.0, 0.0, 0.0, 0.0, 0.00457032909616828, 0.0, 0.0, 0.0, 0.0, 0.0, 0.0, 0.0, 0.0, 0.0, 0.0, 0.0, 0.0, 0.0, 0.0, 0.0, 0.0, 0.0, 0.0, 0.0, 0.0, 0.005982736591249704, 0.0, 0.033891767263412476, 0.0, 0.0, 0.0, 0.0, 0.0, 0.009595230221748352, 0.003181084990501404, 0.0, 0.0, 0.23023982346057892, 0.0, 0.0, 0.0, 0.0021738342475146055, 0.0, 0.0016639588866382837, 0.006931548938155174, 0.0, 0.003258701413869858, 0.0, 0.0, 0.0, 0.0, 0.0018826896557584405, 0.0, 0.0, 0.00022725138114765286, 0.0014269460225477815, 0.02222447097301483, 0.0, 0.0, 0.0, 0.0, 0.0, 0.0, 0.004190032836049795, 0.0, 0.0, 0.0, 0.0, 0.1250627636909485, 0.0, 0.0, 0.0, 0.0, 0.10906833410263062, 0.0005234376294538379, 0.0, 0.053631097078323364, 0.02091219089925289, 0.0020249115768820047, 0.0, 0.042083825916051865, 0.014516731724143028, 0.0, 0.012033279985189438, 0.005744101479649544, 0.0, 0.009197765961289406, 0.0, 0.010526084341108799, 0.00352309993468225, 0.0, 0.0, 0.027181055396795273, 0.0, 0.0042404308915138245, 0.0, 0.016213433817029, 0.0008978359401226044, 0.0, 0.0, 0.017598286271095276, 0.0020488076843321323, 0.0, 0.0, 0.006089428439736366, 0.0, 0.00919375754892826, 1.2648577690124512, 0.00910747516900301, 0.07462862133979797, 0.0, 1.2567598819732666, 0.006126845255494118, 0.05006186291575432, 0.05304383113980293, 0.0, 0.006479807198047638, 0.0, 0.0029868248384445906, 0.011156752705574036, 0.0, 0.032988984137773514, 0.0, 0.0, 0.0, 0.0, 0.0, 0.0, 0.0, 0.0, 0.0, 0.0008096143719740212, 0.0, 0.04762464016675949, 0.0, 0.05913715437054634, 0.036010488867759705, 0.0, 0.0, 0.056039582937955856, 0.0, 0.0, 0.0, 0.05271818861365318, 0.021793683990836143, 0.0, 0.09359248727560043, 0.0, 0.0, 0.0, 0.0, 0.0, 0.10286044329404831, 0.0, 0.0, 0.09416193515062332, 0.022461652755737305, 0.0037260204553604126, 0.0, 0.0015097634168341756, 0.01468417327851057, 0.0, 0.0, 0.013373071327805519, 0.04970399662852287, 0.051550667732954025, 0.038604557514190674, 0.0, 0.004802710842341185, 0.0, 0.0032063096296042204, 0.002670356072485447, 0.0, 0.05133650824427605, 0.07544358819723129, 0.0003871676162816584, 1.2447597980499268, 0.06508780270814896, 0.06207114830613136, 0.0, 0.013374346308410168, 0.005770531482994556, 0.006907757371664047, 0.0015049788635224104, 0.0029601003043353558, 0.012904500588774681, 0.0, 0.00927413534373045, 0.0, 0.0023903665132820606, 1.253790259361267, 0.12816539406776428, 0.023031646385788918, 0.005895840935409069, 0.0, 0.0, 0.03688431158661842, 0.0, 0.0, 0.0, 0.0051641338504850864, 0.0, 0.060901764780282974, 0.0, 0.05653645470738411, 0.0, 0.0, 0.0, 0.0, 0.005887625273317099, 0.007813503965735435, 0.02038976550102234, 0.028728090226650238, 0.044002171605825424, 0.0, 0.20862412452697754, 0.0019027646631002426, 0.0, 0.014042925089597702, 1.3320139646530151, 0.028159454464912415, 0.01927155815064907, 0.0, 0.0, 0.0, 0.0, 0.0, 0.0, 0.0, 0.0031875723507255316, 0.015378151088953018, 0.19321201741695404, 0.03599949926137924, 0.03346065804362297, 0.0, 0.0, 0.0018802498234435916, 0.0, 0.00631948746740818, 0.007818553596735, 0.0019091706490144134, 0.0, 0.0, 0.0, 0.0, 0.0, 0.0, 0.0, 0.0, 0.0, 0.0, 0.0011606820626184344], [0.023144658654928207, 0.003158590290695429, 0.0, 0.0, 0.0, 0.0, 0.0, 0.0, 0.0, 0.0, 0.0, 0.0, 0.0, 0.0, 0.0, 0.0, 0.0030279490165412426, 0.028285671025514603, 0.0, 0.0, 0.0, 0.0, 0.0, 0.0, 0.0, 0.0, 0.0, 0.0, 0.009808043017983437, 0.0, 0.0, 0.0, 0.0, 0.0, 0.0, 0.0, 0.0, 0.0, 0.0, 0.0, 0.0, 0.0, 0.0, 0.0, 0.0, 0.0, 0.0, 0.0, 0.0, 0.0, 0.0, 0.0, 0.0, 0.0, 0.0, 0.0, 0.0, 0.0, 0.0, 0.0, 0.0, 0.0, 0.0, 0.0, 0.0, 0.0, 0.0, 0.0, 0.0, 0.13261616230010986, 0.002784502226859331, 0.0030406315345317125, 0.0, 0.0, 0.0, 0.0, 1.0920913219451904, 0.007582304999232292, 0.008292182348668575, 0.0, 0.8352373838424683, 0.0, 0.00521830702200532, 0.0, 0.0008783668745309114, 0.0, 1.1525578498840332, 0.012705870904028416, 0.0, 0.0, 0.008164580911397934, 0.0, 0.0, 0.0, 0.08700797706842422, 0.0, 0.0, 0.0, 0.0, 0.0, 0.0, 0.0, 0.010240588337182999, 0.0, 0.0, 0.0, 0.0, 0.0, 0.041621338576078415, 0.0, 0.0, 0.0, 0.0, 0.0, 0.14053590595722198, 0.0, 0.0, 0.0225124042481184, 0.015636533498764038, 0.024872509762644768, 0.07417188584804535, 0.0, 0.08649085462093353, 0.0, 0.013328387401998043, 0.0, 0.891227662563324, 0.0, 0.0, 0.0, 0.0, 0.0, 0.12317818403244019, 0.0002255376020912081, 0.0, 0.0, 0.0, 0.0, 0.0, 0.0, 0.0, 0.0, 0.0, 0.022348426282405853, 0.0, 0.023602228611707687, 0.0, 0.0, 0.0, 0.0, 0.0, 0.0, 0.005793641321361065, 0.0034799184650182724, 0.017047591507434845, 0.0, 0.0, 0.0, 0.0, 0.0, 0.0, 0.0, 0.0, 0.0, 0.0, 0.001137237180955708, 0.03462368994951248, 0.0, 0.0, 0.0, 0.0, 0.0, 0.0, 0.0, 0.0, 0.0, 0.0, 0.0, 0.0, 0.0, 0.0, 0.0, 0.0, 0.0, 0.0, 0.0, 0.0, 0.0, 0.0, 0.01493149809539318, 0.0, 0.0, 0.0, 0.0, 0.0, 0.0, 0.0, 0.0, 0.0, 0.0, 0.0, 0.0, 0.0, 0.0, 0.0, 0.0, 0.0, 0.08157113939523697, 0.0, 0.0, 0.0, 0.0, 0.0, 0.0, 0.0, 0.0, 0.0, 0.0, 0.0, 0.002194015309214592, 0.0, 0.0, 0.0, 0.0, 0.0, 0.0, 0.0008380766957998276, 0.0, 0.0, 0.0, 1.0503398180007935, 0.0, 0.0, 0.0, 0.0, 0.0, 0.0, 0.0, 0.0, 0.0, 0.0, 0.0, 0.0, 0.11377447843551636, 0.0, 0.0, 0.0, 0.0, 0.0, 0.0, 0.0, 0.13497956097126007, 0.0, 0.0, 0.0, 0.0, 0.0, 0.0, 0.0, 0.0, 0.0, 0.1466550976037979, 0.0, 0.0, 0.0, 0.0, 0.0, 0.0, 0.0, 0.039915215224027634, 0.0, 0.0, 0.0, 0.09063729643821716, 0.0, 0.0, 0.0, 0.0, 0.0, 0.0, 0.0, 0.0, 0.0, 0.12784302234649658, 0.0, 0.0035354807041585445, 0.0, 0.0, 0.0, 0.0, 0.0, 0.0, 0.13136911392211914, 0.0, 0.0, 0.0, 0.0, 0.0, 0.0, 0.0, 0.0, 0.0, 0.1426125168800354, 0.009208283387124538, 0.0, 0.0, 0.0, 0.0, 1.1313502788543701, 0.0, 0.014703928492963314, 0.0, 0.0, 0.0, 0.0, 0.1621342897415161, 0.0, 0.16762547194957733, 0.004069014452397823, 0.0, 0.04098441079258919, 0.0, 0.037475746124982834, 0.04133198782801628, 0.0, 0.0018860420677810907, 0.01350452657788992, 0.04955913498997688, 0.04708070680499077, 0.02561633475124836, 0.00716530904173851, 0.21268042922019958, 0.19154243171215057, 0.04056635499000549, 0.020476877689361572, 0.02396264486014843, 0.046964678913354874, 0.04045755788683891, 0.07719098031520844, 0.07079741358757019, 0.047592468559741974, 0.02978247031569481, 0.03600555658340454, 0.06392914801836014, 0.019786491990089417, 0.041106242686510086, 0.038650114089250565, 0.2197652906179428, 0.024890296161174774, 0.005937457084655762, 0.054665278643369675, 0.0178445503115654, 0.04685058444738388, 0.054392892867326736, 0.0, 0.03886605426669121, 1.136911392211914, 0.0020887255668640137, 0.013646884821355343, 0.0026288051158189774, 0.045198164880275726, 0.06033597141504288, 0.04111207276582718, 0.06423065811395645, 1.0769639015197754, 0.04355158656835556, 0.013172421604394913, 0.07840099930763245, 0.1471451371908188, 0.08545398712158203, 0.025809960439801216, 0.0803050547838211, 0.10263531655073166, 0.1470361351966858, 0.06612157821655273, 0.1085609495639801, 0.0711955577135086, 1.1138336658477783, 0.0952083095908165, 0.057792000472545624, 0.056650783866643906, 0.10252320021390915, 0.2808164656162262, 0.042638324201107025, 0.037500541657209396, 0.0458809956908226, 0.02021189220249653, 0.0683736801147461, 0.05605170875787735, 0.24289725720882416, 0.07020972669124603, 0.09936737269163132, 0.018298782408237457, 0.07550016045570374, 0.0035330289974808693, 0.06621651351451874, 1.172043800354004, 0.0589028000831604, 0.004580504726618528, 0.06558527052402496, 1.1496069431304932, 0.11310628056526184, 0.00206759269349277, 0.0739331766963005, 0.030461998656392097, 0.04347570985555649, 0.09802543371915817, 0.024442650377750397, 0.08794863522052765, 0.059242721647024155, 0.0673978179693222, 0.021502207964658737, 0.07244040817022324, 0.05503641441464424, 0.14396832883358002, 0.0876532644033432, 1.2243340015411377, 0.09586185961961746, 0.07136309891939163, 0.09286889433860779, 1.2048860788345337, 0.058871131390333176, 0.11378442496061325, 0.014659237116575241, 0.0402165986597538, 0.05039377510547638, 0.06259049475193024, 1.2176011800765991, 0.05718127265572548, 0.006766922771930695, 0.07414662092924118, 0.014219564385712147, 0.03616654872894287, 0.04920327663421631, 0.05416744574904442, 0.04992568865418434, 0.0398654006421566, 0.03869476541876793, 0.045707911252975464, 0.22672367095947266, 0.030502768233418465, 0.03097027912735939, 0.01851833052933216, 0.006239383947104216, 0.2002873420715332, 0.023234020918607712, 0.013777307234704494, 0.06835609674453735, 0.00841303076595068, 0.008854776620864868, 0.15695355832576752, 0.005210712552070618, 0.006746666505932808, 0.001046680612489581, 0.0, 0.0, 0.010662827640771866, 0.0, 0.0, 0.052219655364751816, 0.0, 0.0, 0.0, 0.0, 0.0, 0.020769666880369186, 0.0, 0.0, 0.0, 0.0, 0.0, 0.0118868974968791, 0.0, 0.0, 0.02439773827791214, 0.0, 0.0, 0.0008802297525107861, 0.0013368901563808322, 0.0029905776027590036, 0.0, 0.0, 0.12300744652748108, 0.015018672682344913, 0.0, 0.0, 0.0, 0.0, 0.0, 0.0, 0.0, 0.0, 0.0001387475640513003, 0.0010844296775758266, 0.029473746195435524, 0.042720261961221695, 0.0, 0.0, 0.0, 0.0, 0.0, 0.9711561799049377, 0.0, 0.0, 0.00043792661745101213, 0.0, 0.0, 0.12468583881855011, 0.0, 0.027942504733800888, 0.03520625829696655], [0.0020488149020820856, 0.3437028229236603, 0.7620113492012024, 0.07612942904233932, 0.04550325870513916, 0.05987890064716339, 0.06563728302717209, 0.053230203688144684, 0.039666369557380676, 0.06487011909484863, 0.07946798205375671, 0.0016197640215978026, 0.07843911647796631, 0.060532692819833755, 0.8325775861740112, 0.09292849898338318, 0.07652916759252548, 0.22682544589042664, 0.06960607320070267, 0.056508664041757584, 0.04692498967051506, 0.027150852605700493, 0.042547643184661865, 0.06155014410614967, 0.12162139266729355, 0.04210551828145981, 0.06663454324007034, 0.06428885459899902, 0.1510189175605774, 0.04061954841017723, 0.03995750471949577, 0.08982742577791214, 0.04850086569786072, 0.11729441583156586, 0.012908154167234898, 0.04929106682538986, 0.04597243666648865, 0.026956794783473015, 0.04596738517284393, 0.02865595929324627, 0.01833352819085121, 0.10091711580753326, 0.59171062707901, 0.29112696647644043, 0.06510256975889206, 0.1228545531630516, 0.05521298199892044, 0.24364593625068665, 0.38748618960380554, 0.06554455310106277, 0.10761786997318268, 0.04066333547234535, 0.5739830136299133, 0.30405259132385254, 0.0540878027677536, 0.10629653930664062, 0.08480942249298096, 0.020021049305796623, 0.2504826784133911, 0.5105347633361816, 0.05767250806093216, 0.008749214000999928, 0.012787635438144207, 0.06912138313055038, 0.0184121523052454, 0.0, 0.04135482758283615, 0.0, 0.0, 0.07624681293964386, 0.0, 0.030694924294948578, 0.013430402614176273, 0.0, 0.0, 0.007151417899876833, 0.024080634117126465, 0.017953842878341675, 0.007568771950900555, 0.009932187385857105, 0.13655343651771545, 0.0, 0.004223070107400417, 0.007753828540444374, 0.0, 0.008841893635690212, 0.0, 0.0, 0.0, 0.01745537668466568, 0.11624960601329803, 0.0, 0.0, 0.024014830589294434, 0.03789207339286804, 0.016405627131462097, 0.06716132164001465, 0.01335503626614809, 0.0, 0.5359070301055908, 0.2808666229248047, 0.0, 0.031966980546712875, 0.0, 0.0, 0.18883633613586426, 0.5172968506813049, 0.0367342047393322, 0.06473667919635773, 0.016279572620987892, 0.006031384691596031, 0.0, 0.029639625921845436, 0.0005228900699876249, 0.02161027491092682, 0.0, 0.016681604087352753, 0.011907616630196571, 0.0, 0.0027246144600212574, 0.0, 0.001861683209426701, 0.023330073803663254, 0.031522270292043686, 0.0024275516625493765, 0.001523903221823275, 0.0, 0.0, 0.027683962136507034, 0.012382766231894493, 0.02221558801829815, 0.0045522949658334255, 0.05844702571630478, 0.8123871088027954, 0.022105619311332703, 0.011400177143514156, 0.0, 0.0, 0.01148824393749237, 0.02648676186800003, 0.025937959551811218, 0.6429735422134399, 0.026501337066292763, 0.015010535717010498, 0.0, 0.010136925615370274, 0.0, 0.0, 0.0, 0.0, 0.0, 0.011516373604536057, 0.023625293746590614, 0.6763070821762085, 0.05511095002293587, 0.0021193665452301502, 0.0019113183952867985, 0.0, 0.0, 0.0, 0.0, 6.059810766601004e-05, 0.0, 0.03185794875025749, 0.0, 0.7348722219467163, 0.031299129128456116, 0.0, 0.016203321516513824, 0.0, 0.0, 0.0, 0.0, 0.0, 0.0, 0.0, 0.0, 0.0, 0.0, 0.0, 0.0, 0.0, 0.0, 0.0, 0.0, 0.0, 0.0, 0.0, 0.0, 0.0, 0.0, 0.0, 0.0, 0.013767876662313938, 0.0, 0.0, 0.0, 0.0, 0.0, 0.004411462228745222, 0.0025953592266887426, 0.0, 0.0, 0.0, 0.0, 0.0, 0.0, 0.022544583305716515, 0.0, 0.0, 0.0, 0.0, 0.0, 0.0012749743182212114, 0.0, 0.0, 0.0, 0.0, 0.0, 0.03516044095158577, 0.0, 0.0, 0.0007318579009734094, 0.0, 0.0, 0.011652916669845581, 0.020362015813589096, 0.003547118278220296, 0.0, 0.005431157536804676, 0.0, 0.014838377013802528, 0.0, 0.0, 0.0, 0.0, 0.0, 0.0, 0.0, 0.03271527960896492, 0.0, 0.0, 0.002417399547994137, 0.0, 0.0, 0.0, 0.0, 0.0, 0.0, 0.0, 0.012300018221139908, 0.03107152320444584, 0.0, 0.0, 0.0, 0.0, 0.0, 0.0, 0.004229418933391571, 0.0, 0.0, 0.05211644619703293, 0.008154213428497314, 0.0, 0.01128949411213398, 0.027162449434399605, 0.0, 0.0, 0.0, 0.0, 0.0, 0.0, 0.010632282122969627, 0.030797814950346947, 0.0, 0.018218347802758217, 0.0, 0.0, 0.0, 0.0, 0.0, 0.0, 0.0, 0.024831028655171394, 0.020253079012036324, 0.0037185170222073793, 0.1945628672838211, 0.0, 0.0, 0.0, 0.0, 0.0, 0.031463418155908585, 0.0, 0.0026147370226681232, 0.0, 0.0, 0.023906270042061806, 0.0, 0.01750803180038929, 0.0, 0.0051850914023816586, 0.019123055040836334, 0.0, 0.0, 0.03749307245016098, 0.0, 0.0, 0.0, 0.01937263086438179, 0.0, 0.0, 0.0, 0.0, 0.0, 0.0, 0.0, 0.018980223685503006, 0.0, 0.006867209915071726, 0.0, 0.0, 0.0, 0.0, 0.0, 0.0, 0.0, 0.0, 0.0337681770324707, 0.0, 0.0, 0.0, 0.2859865128993988, 0.0, 0.0, 0.13764391839504242, 0.0, 0.0, 0.0, 0.001859836746007204, 0.0, 0.0, 0.0, 0.0, 0.0, 0.0, 0.0, 0.0, 0.0, 0.0, 0.0, 0.0, 0.0, 0.0, 0.0, 0.0, 0.0, 0.0, 0.0, 0.0, 0.0, 0.0, 0.0, 0.0, 0.0, 0.0, 0.0, 0.029874714091420174, 0.015327094122767448, 0.0, 0.0, 0.058911118656396866, 0.0, 0.023775754496455193, 0.0, 0.01329914852976799, 0.0, 0.0, 0.0016391174867749214, 0.0, 0.0, 0.019383646547794342, 0.047060173004865646, 0.0, 0.0, 0.0, 0.0, 0.0, 0.0, 0.021971173584461212, 0.02101789601147175, 0.009906954132020473, 0.17214320600032806, 0.0, 0.17963668704032898, 0.0, 0.0, 0.0, 0.18104872107505798, 0.0, 0.0, 0.021155495196580887, 0.17249669134616852, 0.005305561237037182, 0.0, 0.1768765151500702, 0.006133308634161949, 0.0, 0.031138066202402115, 0.01975933462381363, 0.0, 0.14072130620479584, 0.0, 0.0033332351595163345, 0.0, 0.0, 0.0, 0.0, 0.0, 0.003972801845520735, 0.0, 0.0, 0.0, 0.0, 0.0, 0.0, 0.0, 0.0, 0.010397628881037235, 0.0, 0.0, 0.0, 0.0, 0.0, 0.0, 0.0, 4.8926605813903734e-05, 0.0, 0.0, 0.02843017689883709, 0.0, 0.0013407237129285932, 0.0, 0.018963495269417763, 0.039539583027362823, 0.016169793903827667, 0.046344514936208725, 0.017517510801553726, 0.04179171100258827, 0.028235426172614098, 0.33125540614128113, 0.0, 0.0, 0.026516662910580635, 0.0, 0.0, 0.059521157294511795, 0.0, 0.027709221467375755, 0.007711450569331646, 0.026070674881339073, 0.0, 0.0, 0.0013585822889581323, 0.0, 0.0029125437140464783, 0.0, 0.0, 0.0, 0.0, 0.0, 0.0, 0.0, 0.03222303092479706, 0.08098455518484116, 0.0, 0.0, 0.0370820090174675, 0.018499592319130898, 0.04809354618191719, 0.0007907735998742282, 0.02368449978530407, 0.08676733076572418, 0.8018183708190918, 0.056592442095279694, 0.02244739606976509, 0.0, 0.0, 0.015524771995842457, 0.0, 0.06765707582235336, 0.0, 0.013942577876150608, 0.021761156618595123, 0.6042121052742004, 0.03814561665058136, 0.02096603438258171, 0.0, 0.0, 0.002903624903410673, 0.0, 0.0313793383538723, 0.03398746997117996, 0.07752563804388046, 0.046512357890605927, 0.001735535217449069, 0.07685607671737671, 0.11072354763746262, 0.8777930736541748, 0.21845243871212006, 0.11807553470134735], [0.0, 0.0, 0.0, 0.0, 0.0, 0.0, 0.0023859150242060423, 0.0, 0.004738773684948683, 0.0, 0.0, 0.0, 0.008357508108019829, 0.029891397804021835, 0.0, 0.0, 0.005582353565841913, 0.0, 0.005408863071352243, 0.0, 0.0022841778118163347, 0.35212141275405884, 0.014624129980802536, 0.041909802705049515, 0.005966209806501865, 0.00022145007096696645, 0.016805138438940048, 0.013057307340204716, 0.020566774532198906, 0.0, 0.0011101595591753721, 0.010590199381113052, 0.02803082950413227, 0.017375459894537926, 0.0, 0.003429871052503586, 0.0, 0.006618217099457979, 0.0, 0.0, 0.0, 0.0, 0.0, 0.0245134886354208, 0.34258565306663513, 0.024367135018110275, 0.4477540850639343, 0.0, 0.0, 0.0, 0.0075920624658465385, 0.0, 0.0, 0.018530581146478653, 0.0, 0.0037571487482637167, 0.4348418712615967, 0.23919078707695007, 0.006638981401920319, 0.01164184883236885, 0.0, 0.0, 0.011126236990094185, 0.02488931640982628, 0.4531169831752777, 0.0, 0.0, 0.0, 0.006344128865748644, 0.0, 0.003919987007975578, 0.019264670088887215, 0.0007018307223916054, 0.0, 0.35099950432777405, 0.0, 0.004447732586413622, 0.00431661494076252, 0.017799707129597664, 0.0017291256226599216, 0.0, 0.0007968683494254947, 0.01586480811238289, 0.027066564187407494, 0.38368213176727295, 0.013509892858564854, 0.005394942592829466, 0.0, 0.008493863046169281, 0.00586175499483943, 0.01985809952020645, 0.4621509909629822, 0.013022477738559246, 0.03179864585399628, 0.009422095492482185, 0.0030108231585472822, 0.0, 0.00469024246558547, 0.0, 0.0, 0.006222717929631472, 0.0, 0.0006887874333187938, 0.45577117800712585, 0.4572642743587494, 0.0, 0.009443135000765324, 0.005822662729769945, 0.0051826233975589275, 0.0, 0.014429262839257717, 0.0, 0.0, 0.0, 0.0, 0.0, 0.008606349118053913, 0.0, 0.0013131669256836176, 0.46289196610450745, 0.0, 0.2981128990650177, 0.0, 0.0, 0.0, 0.012414215132594109, 0.0, 0.0, 0.0010731351794674993, 0.0, 0.001208466594107449, 0.0, 0.00027435037191025913, 0.0, 0.0, 0.0037049376405775547, 0.0, 0.0, 0.0, 0.0029817121103405952, 0.007344840560108423, 0.0, 0.0, 0.008983360603451729, 0.0, 0.0044426945969462395, 0.0, 0.0, 0.0029213421512395144, 0.0, 0.001639006077311933, 0.01864560693502426, 0.012373523786664009, 0.009120006114244461, 0.006520343013107777, 0.0, 0.0050409939140081406, 0.0, 0.0025565344840288162, 0.0, 0.0, 0.005661671981215477, 0.0, 0.0032730044331401587, 0.0, 0.0, 0.009061101824045181, 0.012999161146581173, 0.010192764922976494, 0.0037696952931582928, 0.0, 0.0, 0.0036323503591120243, 0.005452892743051052, 0.0, 0.009157523512840271, 0.0, 0.011438037268817425, 0.004461438395082951, 0.34339284896850586, 0.004987403284758329, 0.0020355440210551023, 0.33754801750183105, 0.015782199800014496, 0.3685430586338043, 0.016318291425704956, 0.005203093867748976, 0.38057947158813477, 0.003945291507989168, 0.4462639093399048, 0.0, 0.45923912525177, 0.0, 0.017567787319421768, 0.34871602058410645, 0.0, 0.002907991874963045, 0.0, 0.007425699848681688, 0.0, 0.0, 0.005187311675399542, 0.0, 0.005976825021207333, 0.0, 0.0, 0.0, 0.0023636266123503447, 0.0014041332760825753, 0.00541883846744895, 0.0, 0.0, 0.0, 0.0, 0.0, 0.0, 0.0, 0.0, 0.0, 0.0, 0.020652731880545616, 0.012057971209287643, 0.0, 0.0, 0.003555147210136056, 0.0, 0.0, 0.0, 0.0, 0.0018867077305912971, 0.0, 0.004353331867605448, 0.0, 0.0, 0.0, 0.0013440626207739115, 0.0, 0.0, 0.0, 0.0, 0.0, 0.0, 0.0, 0.0, 0.0, 0.007444394752383232, 0.0, 0.0, 0.0, 0.0, 0.002147034974768758, 0.0, 0.0, 0.0, 0.0, 0.0, 0.0, 0.0, 0.0, 0.0, 0.0, 0.0, 0.0, 0.009440654888749123, 0.01683640480041504, 0.0, 0.4564409852027893, 0.0, 0.4379873275756836, 0.0, 0.4491065442562103, 0.003581524593755603, 0.003461508546024561, 0.0013991749146953225, 0.004281070549041033, 0.008686653338372707, 7.443609501933679e-05, 0.0, 0.0, 0.0, 0.0, 0.0, 0.0, 0.001911929459311068, 0.0087487967684865, 0.012074945494532585, 0.02943432703614235, 0.43243059515953064, 0.0, 0.0, 0.0, 0.0, 0.0, 0.0, 0.0, 0.006083454936742783, 0.00018893752712756395, 0.0002462352567818016, 0.0, 0.002412572968751192, 0.0, 0.0027263218071311712, 0.0, 0.0, 0.0, 0.0, 0.0007478009792976081, 0.00540053378790617, 0.0, 0.004500020295381546, 0.00904636736959219, 0.020490622147917747, 0.0, 0.007801808882504702, 0.0044966875575482845, 0.0010402962798252702, 0.019397113472223282, 0.00021264413953758776, 0.0008152041118592024, 0.009914161637425423, 0.0, 0.0, 0.000638403173070401, 0.014736062847077847, 0.0, 0.00040783692384138703, 0.009679595939815044, 0.006829698570072651, 0.0, 0.0, 0.0, 0.0072033340111374855, 0.0, 0.01813494600355625, 0.0, 0.0, 0.00447532394900918, 0.010264022275805473, 0.015090880915522575, 0.025396814569830894, 0.45201537013053894, 0.0, 0.011298523284494877, 0.013695224188268185, 0.005808196496218443, 0.0, 0.010866052471101284, 0.00034352176589891315, 0.0, 0.0, 0.006025298498570919, 0.0, 0.010509767569601536, 0.0, 0.0, 0.0, 0.0, 0.0, 0.0, 0.0, 0.0, 0.0, 0.0, 0.0, 0.0, 0.012405780144035816, 0.0, 0.027527661994099617, 0.015208879485726357, 0.011193600483238697, 0.00015694883768446743, 0.045615483075380325, 0.001613272586837411, 0.005572333000600338, 0.0, 0.0, 0.0, 0.0, 0.011437480337917805, 0.0181416068226099, 0.0, 0.0038541886024177074, 0.0, 0.0, 0.006587618961930275, 0.00040304550202563405, 0.0, 0.0, 0.0035059230867773294, 0.0, 0.004220769740641117, 0.00820507388561964, 0.028122782707214355, 0.0, 0.03342178091406822, 0.4620988070964813, 0.0, 0.0, 0.04376382753252983, 0.5077060461044312, 0.0, 0.011788194067776203, 0.04193730279803276, 0.446505606174469, 0.0, 0.027510445564985275, 0.4382432997226715, 0.0, 0.006374511402100325, 0.0013413340784609318, 0.004513784311711788, 0.0459572896361351, 0.0, 0.0, 0.00844680517911911, 0.00252426415681839, 0.0, 0.0, 0.01389602106064558, 0.0, 0.0, 0.012691931799054146, 0.0, 0.0, 0.007492824457585812, 0.0, 0.0030314065515995026, 0.0, 0.012516613118350506, 0.0, 0.0, 0.0, 0.0, 0.0, 0.0, 0.0018699837382882833, 0.011663682758808136, 0.0, 0.0, 0.0010990937007591128, 0.0, 0.0, 0.002954058349132538, 0.006908186245709658, 0.00020731247786898166, 0.0, 0.005530660040676594, 0.0, 0.03116375207901001, 0.0, 0.0, 0.0, 0.020931975916028023, 0.0052191587164998055, 0.0, 0.0, 0.025650260969996452, 0.0, 0.005559307523071766, 0.0, 0.0, 0.39872533082962036, 0.0, 0.41164833307266235, 0.0, 0.0007564561674371362, 0.0, 0.0, 0.003533639945089817, 0.0, 0.0, 0.0, 0.0, 0.014240648597478867, 0.0025054961442947388, 0.0, 0.0, 0.007062091026455164, 0.0, 0.018469220027327538, 0.005096791312098503, 0.0, 0.004842513240873814, 0.0, 0.006141989026218653, 0.0, 0.0, 0.0, 0.0, 0.0, 0.009649154730141163, 0.0, 0.0, 0.0, 0.0, 0.0, 0.0, 0.0, 0.0, 0.0, 0.0, 0.0, 0.004649756010621786, 0.009951361455023289, 0.015854034572839737, 0.0, 0.023916853591799736, 0.0, 0.0, 0.0, 0.01063225045800209], [0.0, 0.0, 0.0, 0.0, 0.0, 0.0, 0.0, 0.0, 0.0, 0.0, 0.0, 0.0, 0.08302121609449387, 0.16074791550636292, 0.0, 0.0, 0.025182459503412247, 0.0, 0.0, 0.0, 0.0, 0.15455451607704163, 0.20104530453681946, 0.25874578952789307, 0.0049996161833405495, 0.0, 0.30282852053642273, 0.3084349036216736, 0.041846808046102524, 0.0, 0.0, 0.005537339486181736, 0.19146321713924408, 0.0091629633679986, 0.0, 0.0, 0.0, 0.025241199880838394, 0.0, 0.11327557265758514, 0.4245300590991974, 0.009328097105026245, 0.0, 0.13430532813072205, 0.047024864703416824, 0.008771500550210476, 0.03683037310838699, 0.1537383794784546, 0.07655846327543259, 0.0, 0.17065076529979706, 0.0, 0.0, 0.16429245471954346, 0.0, 0.18567298352718353, 0.0, 0.26844024658203125, 0.18223176896572113, 0.04359583929181099, 0.0, 0.0, 0.0, 0.012603973038494587, 0.06166236847639084, 0.0, 0.0, 0.36855408549308777, 0.5644921064376831, 0.01422972697764635, 0.000685744103975594, 0.10010914504528046, 0.0, 0.0, 0.05668722838163376, 0.21594789624214172, 0.0, 0.3082917630672455, 0.33088743686676025, 0.2998981177806854, 0.0, 0.01844136230647564, 0.36786341667175293, 0.36292991042137146, 0.0, 0.26558718085289, 0.0, 0.0584605373442173, 0.3727706968784332, 0.34055253863334656, 0.07972057908773422, 0.0, 0.3168794512748718, 0.2772578299045563, 0.013714520260691643, 0.03704587370157242, 0.04940943047404289, 0.3122076690196991, 0.0272658858448267, 0.03117896243929863, 0.1912582516670227, 0.0, 0.17230790853500366, 0.0, 0.09089918434619904, 0.15423813462257385, 0.03755638375878334, 0.013480853289365768, 0.05956641212105751, 0.0, 0.40068337321281433, 0.3720147907733917, 0.04116500914096832, 0.3182517886161804, 0.0, 0.0, 0.2976590394973755, 0.057490989565849304, 0.04190962761640549, 0.0, 0.0, 0.05811529979109764, 0.0, 0.0, 0.00011153268133057281, 0.15642142295837402, 0.0, 0.0, 0.269533634185791, 0.30466657876968384, 0.32168683409690857, 0.2872067987918854, 0.02002354897558689, 0.0, 0.0, 0.0, 0.0, 0.0, 0.0, 0.0, 0.0, 0.0, 0.0, 0.009642591699957848, 0.0, 0.0, 0.0, 0.0, 0.016566233709454536, 0.0, 0.0, 0.30731087923049927, 0.35349899530410767, 0.008535581640899181, 0.0, 0.0, 0.027750328183174133, 0.0, 0.0, 0.0, 0.0, 0.3026725947856903, 0.0, 0.06903581321239471, 0.00519375829026103, 0.0, 0.02200055681169033, 0.0, 0.006987344473600388, 0.01068281289190054, 0.0, 0.0, 0.0, 0.011187020689249039, 0.0, 0.0, 0.0, 0.01674584671854973, 0.0, 0.12762406468391418, 0.0, 0.0, 0.17369303107261658, 0.0, 0.11107608675956726, 0.0, 0.0, 0.15549838542938232, 0.0, 0.06297630071640015, 0.0, 0.0, 0.0, 0.40878599882125854, 0.18087264895439148, 0.0, 0.0, 0.3401396572589874, 0.5618517994880676, 0.01762370392680168, 0.0, 0.021099470555782318, 0.3480226397514343, 0.5777862668037415, 0.0, 0.08898432552814484, 0.4542393088340759, 0.03482101112604141, 0.0, 0.44207003712654114, 0.0, 0.09226498007774353, 0.3453451693058014, 0.4049154222011566, 0.3912644386291504, 0.3128281831741333, 0.34908393025398254, 0.47776079177856445, 0.43823882937431335, 0.11887910217046738, 0.0, 0.07785134762525558, 0.31443002820014954, 0.0, 0.18671686947345734, 0.0, 0.0, 0.0022082047071307898, 0.012442898005247116, 0.34329304099082947, 0.0, 0.3721356689929962, 0.029019707813858986, 0.0, 0.3447796404361725, 0.5753847360610962, 0.0, 0.10273947566747665, 0.4324492812156677, 0.05773955583572388, 0.037947941571474075, 0.3925275504589081, 0.38803765177726746, 0.0, 0.0068137734197080135, 0.2021479308605194, 0.46592944860458374, 0.0, 0.0, 0.4510856568813324, 0.32288315892219543, 0.016300171613693237, 0.008875030092895031, 0.38439059257507324, 0.0494622066617012, 0.37836530804634094, 0.45396459102630615, 0.0, 0.0, 0.4168028235435486, 0.3924640119075775, 0.001304878038354218, 0.05078241229057312, 0.28545334935188293, 0.31098490953445435, 0.0488799624145031, 0.0, 0.0, 0.0, 0.0, 0.007956464774906635, 0.0, 0.2590498924255371, 0.02507663518190384, 0.03352534398436546, 0.3323201537132263, 0.3493143618106842, 0.39980262517929077, 0.0, 0.29426315426826477, 0.39063283801078796, 0.3535540699958801, 0.37199705839157104, 0.020285094156861305, 0.0011489858152344823, 0.02406233549118042, 0.13212117552757263, 0.0, 0.0, 0.04976751655340195, 0.3921101987361908, 0.5684999823570251, 0.004898568615317345, 0.0, 0.3794268071651459, 0.30896812677383423, 0.07987306267023087, 0.35080957412719727, 0.3233277201652527, 0.07364137470722198, 0.020186647772789, 0.3700285255908966, 0.017334766685962677, 0.03811422735452652, 0.03998902812600136, 0.08869411051273346, 0.020691750571131706, 0.37097591161727905, 0.0, 0.3841157555580139, 0.11930225789546967, 0.058252908289432526, 0.41806912422180176, 0.2358967512845993, 0.2684047818183899, 0.0005990728386677802, 0.398978590965271, 0.033328767865896225, 0.036609962582588196, 0.38617581129074097, 0.052083734422922134, 0.03672843426465988, 0.11714787036180496, 0.2617984414100647, 0.5554572343826294, 0.0482848584651947, 0.3152599334716797, 0.04651128128170967, 0.0, 0.4283982813358307, 0.42469197511672974, 0.09018196910619736, 0.15113940834999084, 0.14473888278007507, 0.3714526295661926, 0.2775130271911621, 0.21501000225543976, 0.34811994433403015, 0.2758888900279999, 0.20730695128440857, 0.0, 0.08364898711442947, 0.25196221470832825, 0.05202125757932663, 0.016515500843524933, 0.3096421957015991, 0.314516544342041, 0.07036057114601135, 0.03978688642382622, 0.2961660623550415, 0.34145069122314453, 0.3412046432495117, 0.37004122138023376, 0.005084247328341007, 0.0, 0.02695329859852791, 0.0, 0.004505628254264593, 0.3864140212535858, 0.308815062046051, 0.3755684792995453, 0.0, 0.025621315464377403, 0.0308573879301548, 0.0, 0.0, 0.0, 0.13754335045814514, 0.09841354191303253, 0.0760878324508667, 0.0, 0.11839324980974197, 0.046281974762678146, 0.18675199151039124, 0.07404641062021255, 0.0, 0.4129382073879242, 0.0, 0.06781787425279617, 0.04362361133098602, 0.38742026686668396, 0.39715784788131714, 0.08715168386697769, 0.03867814689874649, 0.3110630512237549, 0.36154046654701233, 0.2047443687915802, 0.0, 0.04134400561451912, 0.042736660689115524, 0.0, 0.022460199892520905, 0.14035193622112274, 0.0, 0.14311400055885315, 0.0, 0.0, 0.013200727291405201, 0.15867547690868378, 0.03720874711871147, 0.0, 0.012004281394183636, 0.161789208650589, 0.0, 0.009160521440207958, 0.10389930754899979, 0.02383679896593094, 0.015230854973196983, 0.04680749028921127, 0.0828716978430748, 0.03077121078968048, 0.13555054366588593, 0.11056302487850189, 0.43248334527015686, 0.13271966576576233, 0.2576248347759247, 0.0, 0.07920882850885391, 0.38337022066116333, 0.29897540807724, 0.003740984946489334, 0.38463157415390015, 0.176052525639534, 0.3769664466381073, 0.36231449246406555, 0.4958575367927551, 0.32058706879615784, 0.03322587162256241, 0.3855089843273163, 0.0, 0.06370429694652557, 0.0, 0.3187176287174225, 0.460237979888916, 0.4620864987373352, 0.061317022889852524, 0.3502339720726013, 0.4780561923980713, 0.44832152128219604, 0.10702284425497055, 0.05522586405277252, 0.020123183727264404, 0.04652014002203941, 0.31254738569259644, 0.053503651171922684, 0.09667505323886871, 0.2903421223163605, 0.0277541596442461, 0.19647498428821564, 0.030104639008641243, 0.13440380990505219, 0.008064639754593372, 0.24563366174697876, 0.2930764853954315, 0.0, 0.4175466001033783, 0.36385655403137207, 0.03449943661689758, 0.35427647829055786, 0.02623959816992283, 0.0, 0.0, 0.0, 0.0, 0.0, 0.03703758865594864, 0.009795756079256535, 0.0, 0.00555716035887599, 0.04246341437101364, 0.003183441935107112, 0.017771035432815552, 0.0, 0.11180506646633148, 0.1286146640777588, 0.32766300439834595, 0.4253160357475281, 0.3383730947971344, 0.0, 0.019697515293955803, 0.25021421909332275, 0.41010376811027527, 0.05294322595000267, 0.0, 0.004470227751880884, 0.002676700707525015, 0.02297305315732956, 0.0, 0.0, 0.0, 0.07114585489034653, 0.3346835970878601, 0.291814386844635, 0.35442283749580383, 0.014885463751852512, 0.0, 0.0, 0.0, 0.0, 0.0, 0.0, 0.0, 0.3080567717552185, 0.021387116983532906, 0.142830029129982, 0.0, 0.23554867506027222, 0.01954173669219017, 0.0, 0.0, 0.05490640550851822]]]})\n",
              "         }, function (err) {\n",
              "            console.log(err);\n",
              "        })"
            ],
            "text/plain": [
              "<IPython.core.display.Javascript object>"
            ]
          },
          "metadata": {
            "tags": []
          }
        }
      ]
    },
    {
      "cell_type": "code",
      "metadata": {
        "id": "kN1UTpJOXUdT"
      },
      "source": [
        ""
      ],
      "execution_count": null,
      "outputs": []
    }
  ]
}